{
 "cells": [
  {
   "cell_type": "markdown",
   "metadata": {},
   "source": [
    "## Importing the Required Libraries"
   ]
  },
  {
   "cell_type": "code",
   "execution_count": 1,
   "metadata": {},
   "outputs": [],
   "source": [
    "# importing tkinter\n",
    "from tkinter import *\n",
    "\n",
    "# importing tkk\n",
    "from tkinter import ttk\n",
    "\n",
    "import random\n",
    "\n",
    "# importing showinfor message box\n",
    "from tkinter.messagebox import showinfo"
   ]
  },
  {
   "cell_type": "markdown",
   "metadata": {},
   "source": [
    "## Creating Main Window"
   ]
  },
  {
   "cell_type": "code",
   "execution_count": 2,
   "metadata": {},
   "outputs": [
    {
     "data": {
      "text/plain": [
       "''"
      ]
     },
     "execution_count": 2,
     "metadata": {},
     "output_type": "execute_result"
    }
   ],
   "source": [
    "main_window = Tk()\n",
    "main_window.title(\"Hangman Game\")\n",
    "main_window.geometry(\"400x400+100+200\")"
   ]
  },
  {
   "cell_type": "code",
   "execution_count": 3,
   "metadata": {},
   "outputs": [],
   "source": [
    "# adding three columns to main window\n",
    "main_window.columnconfigure(0, weight=1)\n",
    "main_window.columnconfigure(1, weight=1)\n",
    "main_window.columnconfigure(2, weight=1)"
   ]
  },
  {
   "cell_type": "markdown",
   "metadata": {},
   "source": [
    "## Adding Widgets and Application Logic"
   ]
  },
  {
   "cell_type": "code",
   "execution_count": 4,
   "metadata": {},
   "outputs": [],
   "source": [
    "\n",
    "# creating a label for title and attaching it the main window\n",
    "my_label = Label(main_window, text = \"Hangman Game\", bg = \"#b3b3b3\", fg =\"#ff3300\", font=(\"Courier\", 15))\n",
    "my_label.grid(row=0, column=0, columnspan = 3,  padx=5, pady=5)\n",
    "\n",
    "\n",
    "# creating a label for a message and attaching it the main window\n",
    "my_labe2 = Label(main_window, text = \"Word to Guess\", bg = \"#cccccc\", fg =\"#3399ff\", font=(\"Courier\", 15))\n",
    "my_labe2.grid(row=1, column=0, columnspan = 3, padx=5, pady=5)\n",
    "\n",
    "# creating a text field for empty string and attaching it the main window\n",
    "txt_word = StringVar()\n",
    "tf_word = ttk.Entry(main_window, textvariable = txt_word, font=(\"Courier\", 15), state='disabled')\n",
    "tf_word.grid(row=2, column=0,  columnspan = 3, padx=2, pady=5)"
   ]
  },
  {
   "cell_type": "code",
   "execution_count": 5,
   "metadata": {},
   "outputs": [
    {
     "name": "stdout",
     "output_type": "stream",
     "text": [
      "helllo =========\n",
      "e|n|g|l|i|s|h|\n"
     ]
    }
   ],
   "source": [
    "# list of words (you can add more words if you want)\n",
    "words = \"kite\", \"table\", \"mathematics\", \"english\",\"fabulous\", \"difficult\"\n",
    "\n",
    "word_to_guess = \"\"\n",
    "rem_guess = \"\"\n",
    "cor_guess = \"\"\n",
    "empty_str = \"\"\n",
    "original_word = \"\"\n",
    "\n",
    "def initialize_values():\n",
    "    \n",
    "    global word_to_guess\n",
    "    global original_word\n",
    "    global empty_str \n",
    "    global rem_guess\n",
    "    global cor_guess\n",
    "\n",
    "    print(\"helllo =========\")\n",
    "    # randomly selecting the word to guess\n",
    "    word_to_guess = random.choice(words)\n",
    "\n",
    "    # setting default number of remaining wrong guesses\n",
    "    rem_guess = 5\n",
    "\n",
    "    # setting the default number of correct guesses\n",
    "    cor_guess = 0\n",
    "\n",
    "    # empty string to display on GUI\n",
    "    empty_str = \"\"\n",
    "\n",
    "    # string which keeps track of character indexes\n",
    "    original_word = \"\"\n",
    "\n",
    "    for char in word_to_guess:\n",
    "        empty_str = empty_str +\"_|\"\n",
    "        original_word = original_word + char +\"|\"\n",
    "\n",
    "    txt_word.set(empty_str)\n",
    "    print(original_word)\n",
    "\n",
    "# intitializing values\n",
    "initialize_values()"
   ]
  },
  {
   "cell_type": "code",
   "execution_count": 6,
   "metadata": {},
   "outputs": [],
   "source": [
    "# creating a label for input character\n",
    "lbl_ip= Label(main_window, text = \"Enter Character\", bg = \"#6699ff\", fg =\"#595959\", font=(\"Courier\", 10))\n",
    "lbl_ip.grid(row=3, column=0,  padx=5, pady=5)\n",
    "\n",
    "# creating a text field for input characters and attaching it to the main window\n",
    "txt_ip = StringVar()\n",
    "tf_ip = ttk.Entry(main_window, textvariable = txt_ip, font=(\"Courier\", 10))\n",
    "tf_ip.grid(row=3, column=1,  padx=5, pady=5)\n",
    "\n",
    "\n",
    "# creating a label for remaining guesses\n",
    "\n",
    "# creating a label for input character\n",
    "lbl_rg= Label(main_window, text = \"Remaining wrong guesses:\", bg = \"red\", fg =\"black\", font=(\"Courier\", 10))\n",
    "lbl_rg.grid(row=4, column=0,  padx=5, pady=5)\n",
    "\n",
    "# creating a text field for remaining wrong guesses and attaching it to the main window\n",
    "txt_rg = StringVar()\n",
    "txt_rg.set(rem_guess) #setting remaining wrong guesses to the default value\n",
    "\n",
    "tf_rg = ttk.Entry(main_window, textvariable = txt_rg, font=(\"Courier\", 10))\n",
    "tf_rg.grid(row=4, column=1,  padx=5, pady=5)\n"
   ]
  },
  {
   "cell_type": "code",
   "execution_count": 7,
   "metadata": {},
   "outputs": [],
   "source": [
    "def make_guess():\n",
    "    \n",
    "    # accessing global variables\n",
    "    global word_to_guess\n",
    "    global original_word\n",
    "    global empty_str \n",
    "    global rem_guess\n",
    "    global cor_guess\n",
    "    global txt_ip\n",
    "    \n",
    "    # if the input string is empty or contains 2 characters\n",
    "    if (txt_ip.get() == \"\") or (len(txt_ip.get()) > 1):\n",
    "        showinfo(\n",
    "                  title = \"Information\",\n",
    "                  message = \"Input Cannot be Empty or more than one character\"\n",
    "                 )\n",
    "        return\n",
    "    input_char = txt_ip.get()\n",
    "    \n",
    "    # if the input character exists in the word to be guessed\n",
    "    if input_char not in word_to_guess:\n",
    "        txt_ip.set(\"\")\n",
    "        rem_guess = rem_guess - 1\n",
    "        txt_rg.set(rem_guess)\n",
    "        \n",
    "        # if no remaining wrong guess\n",
    "        if rem_guess == 0:\n",
    "            \n",
    "            showinfo(\n",
    "              title = \"Information\",\n",
    "              message = \"You have used all your guesses. \\n You lost. \\n The correct word is: \" + word_to_guess +\". \\nTry Again\"\n",
    "             )\n",
    "            initialize_values()\n",
    "            txt_ip.set(\"\")\n",
    "            txt_rg.set(rem_guess)\n",
    "             \n",
    "        # if you have more wrong guesses left            \n",
    "        else:\n",
    "            showinfo(\n",
    "              title = \"Information\",\n",
    "              message = \"Wrong Guess\"\n",
    "             )\n",
    "            \n",
    "\n",
    "                \n",
    "        return\n",
    "        \n",
    "    # if the input character exists in the word to be guessed\n",
    "    else:\n",
    "        \n",
    "        cor_guess = cor_guess + 1\n",
    "        #if the number of correct guesses are equal to the word length\n",
    "        if cor_guess == len(word_to_guess):\n",
    "            \n",
    "            showinfo(title = \"Information\", message = \"Congratulations, You Won! \\n  Play Again\")\n",
    "            initialize_values()\n",
    "            txt_ip.set(\"\")\n",
    "            txt_rg.set(rem_guess)\n",
    "    \n",
    "        # if the guess is correct but still there are \n",
    "        # characters left to be guessed\n",
    "        else:\n",
    "            position = original_word.index(input_char)\n",
    "            empty_str = empty_str[:position] + input_char + empty_str[position+1:]\n",
    "            txt_word.set(empty_str)\n",
    "            txt_ip.set(\"\")\n",
    "        "
   ]
  },
  {
   "cell_type": "code",
   "execution_count": 8,
   "metadata": {},
   "outputs": [],
   "source": [
    "# creating a  button for setting an alarm and attaching it to the main window\n",
    "btn_check_char = Button(main_window, \n",
    "                       text = \"Make Guess\",  \n",
    "                       bg = \"#ff9966\", \n",
    "                       fg =\"#595959\", \n",
    "                       font=(\"Courier\", 14), \n",
    "                       command = make_guess\n",
    "                       )\n",
    "\n",
    "btn_check_char.grid(row=5, column=0, columnspan = 3,  padx=5, pady=5)"
   ]
  },
  {
   "cell_type": "code",
   "execution_count": null,
   "metadata": {},
   "outputs": [],
   "source": [
    "# displaying the main window\n",
    "main_window.mainloop()"
   ]
  }
 ],
 "metadata": {
  "kernelspec": {
   "display_name": "Python 3",
   "language": "python",
   "name": "python3"
  },
  "language_info": {
   "codemirror_mode": {
    "name": "ipython",
    "version": 3
   },
   "file_extension": ".py",
   "mimetype": "text/x-python",
   "name": "python",
   "nbconvert_exporter": "python",
   "pygments_lexer": "ipython3",
   "version": "3.8.3"
  }
 },
 "nbformat": 4,
 "nbformat_minor": 4
}
