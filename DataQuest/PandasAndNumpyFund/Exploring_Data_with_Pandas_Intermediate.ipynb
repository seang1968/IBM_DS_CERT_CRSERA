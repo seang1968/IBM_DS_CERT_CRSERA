{
 "cells": [
  {
   "cell_type": "markdown",
   "id": "be9ea11d-8945-4b67-b93c-8ede1067e555",
   "metadata": {},
   "source": [
    "<H2><a href=\"https://app.dataquest.io/c/54/m/292/exploring-data-with-pandas%3A-intermediate/1/introduction\" >Here</a></H2>\n",
    "\n"
   ]
  },
  {
   "cell_type": "code",
   "execution_count": null,
   "id": "18fb863f-c27c-45e7-8bc3-bbeaf8d52150",
   "metadata": {},
   "outputs": [],
   "source": []
  }
 ],
 "metadata": {
  "kernelspec": {
   "display_name": "Python 3 (ipykernel)",
   "language": "python",
   "name": "python3"
  },
  "language_info": {
   "codemirror_mode": {
    "name": "ipython",
    "version": 3
   },
   "file_extension": ".py",
   "mimetype": "text/x-python",
   "name": "python",
   "nbconvert_exporter": "python",
   "pygments_lexer": "ipython3",
   "version": "3.9.4"
  }
 },
 "nbformat": 4,
 "nbformat_minor": 5
}
