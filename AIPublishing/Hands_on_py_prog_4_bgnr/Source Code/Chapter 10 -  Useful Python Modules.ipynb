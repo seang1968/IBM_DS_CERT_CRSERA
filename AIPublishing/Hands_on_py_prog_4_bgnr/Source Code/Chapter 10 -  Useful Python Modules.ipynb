{
 "cells": [
  {
   "cell_type": "markdown",
   "metadata": {},
   "source": [
    "## 10.1 Python Debugger"
   ]
  },
  {
   "cell_type": "code",
   "execution_count": 1,
   "metadata": {},
   "outputs": [
    {
     "name": "stdout",
     "output_type": "stream",
     "text": [
      "The average price for a laptop is 20.0\n",
      "The average price for a cell phone is 15.0\n",
      "The average price for a keyboard is 8.0\n",
      "The average price for a mic is 4.0\n",
      "The average price for a mouse is 3.0\n"
     ]
    }
   ],
   "source": [
    "total_price = {'laptop':100, 'cell phone': 75, 'keyboard':40, 'mic': 40, 'mouse':15}\n",
    "\n",
    "quantities = [5, 5, 5, 10, 5]\n",
    "\n",
    "for (item, price), quantity in zip(total_price.items(),quantities):\n",
    "    \n",
    "    average_price  = (price/quantity)\n",
    "    print(\"The average price for a\", item, \"is\", str(average_price))"
   ]
  },
  {
   "cell_type": "code",
   "execution_count": 2,
   "metadata": {},
   "outputs": [
    {
     "name": "stdout",
     "output_type": "stream",
     "text": [
      "The average price for a laptop is 20.0\n",
      "The average price for a cell phone is 15.0\n"
     ]
    },
    {
     "ename": "ZeroDivisionError",
     "evalue": "division by zero",
     "output_type": "error",
     "traceback": [
      "\u001b[1;31m---------------------------------------------------------------------------\u001b[0m",
      "\u001b[1;31mZeroDivisionError\u001b[0m                         Traceback (most recent call last)",
      "\u001b[1;32m<ipython-input-2-ee9c9bedee80>\u001b[0m in \u001b[0;36m<module>\u001b[1;34m\u001b[0m\n\u001b[0;32m      5\u001b[0m \u001b[1;32mfor\u001b[0m \u001b[1;33m(\u001b[0m\u001b[0mitem\u001b[0m\u001b[1;33m,\u001b[0m \u001b[0mprice\u001b[0m\u001b[1;33m)\u001b[0m\u001b[1;33m,\u001b[0m \u001b[0mquantity\u001b[0m \u001b[1;32min\u001b[0m \u001b[0mzip\u001b[0m\u001b[1;33m(\u001b[0m\u001b[0mtotal_price\u001b[0m\u001b[1;33m.\u001b[0m\u001b[0mitems\u001b[0m\u001b[1;33m(\u001b[0m\u001b[1;33m)\u001b[0m\u001b[1;33m,\u001b[0m\u001b[0mquantities\u001b[0m\u001b[1;33m)\u001b[0m\u001b[1;33m:\u001b[0m\u001b[1;33m\u001b[0m\u001b[1;33m\u001b[0m\u001b[0m\n\u001b[0;32m      6\u001b[0m \u001b[1;33m\u001b[0m\u001b[0m\n\u001b[1;32m----> 7\u001b[1;33m     \u001b[0maverage_price\u001b[0m  \u001b[1;33m=\u001b[0m \u001b[1;33m(\u001b[0m\u001b[0mprice\u001b[0m\u001b[1;33m/\u001b[0m\u001b[0mquantity\u001b[0m\u001b[1;33m)\u001b[0m\u001b[1;33m\u001b[0m\u001b[1;33m\u001b[0m\u001b[0m\n\u001b[0m\u001b[0;32m      8\u001b[0m     \u001b[0mprint\u001b[0m\u001b[1;33m(\u001b[0m\u001b[1;34m\"The average price for a\"\u001b[0m\u001b[1;33m,\u001b[0m \u001b[0mitem\u001b[0m\u001b[1;33m,\u001b[0m \u001b[1;34m\"is\"\u001b[0m\u001b[1;33m,\u001b[0m \u001b[0mstr\u001b[0m\u001b[1;33m(\u001b[0m\u001b[0maverage_price\u001b[0m\u001b[1;33m)\u001b[0m\u001b[1;33m)\u001b[0m\u001b[1;33m\u001b[0m\u001b[1;33m\u001b[0m\u001b[0m\n",
      "\u001b[1;31mZeroDivisionError\u001b[0m: division by zero"
     ]
    }
   ],
   "source": [
    "total_price = {'laptop':100, 'cell phone': 75, 'keyboard':40, 'mic': 40, 'mouse':15}\n",
    "\n",
    "quantities = [5, 5, 0, 10, 5]\n",
    "\n",
    "for (item, price), quantity in zip(total_price.items(),quantities):\n",
    "    \n",
    "    average_price  = (price/quantity)\n",
    "    print(\"The average price for a\", item, \"is\", str(average_price))"
   ]
  },
  {
   "cell_type": "code",
   "execution_count": 3,
   "metadata": {},
   "outputs": [
    {
     "name": "stdout",
     "output_type": "stream",
     "text": [
      "laptop\n",
      "The average price for a laptop is 20.0\n",
      "cell phone\n",
      "The average price for a cell phone is 15.0\n",
      "keyboard\n"
     ]
    },
    {
     "ename": "ZeroDivisionError",
     "evalue": "division by zero",
     "output_type": "error",
     "traceback": [
      "\u001b[1;31m---------------------------------------------------------------------------\u001b[0m",
      "\u001b[1;31mZeroDivisionError\u001b[0m                         Traceback (most recent call last)",
      "\u001b[1;32m<ipython-input-3-3e1b22b4964b>\u001b[0m in \u001b[0;36m<module>\u001b[1;34m\u001b[0m\n\u001b[0;32m      6\u001b[0m \u001b[1;33m\u001b[0m\u001b[0m\n\u001b[0;32m      7\u001b[0m     \u001b[0mprint\u001b[0m\u001b[1;33m(\u001b[0m\u001b[0mitem\u001b[0m\u001b[1;33m)\u001b[0m\u001b[1;33m\u001b[0m\u001b[1;33m\u001b[0m\u001b[0m\n\u001b[1;32m----> 8\u001b[1;33m     \u001b[0maverage_price\u001b[0m  \u001b[1;33m=\u001b[0m \u001b[1;33m(\u001b[0m\u001b[0mprice\u001b[0m\u001b[1;33m/\u001b[0m\u001b[0mquantity\u001b[0m\u001b[1;33m)\u001b[0m\u001b[1;33m\u001b[0m\u001b[1;33m\u001b[0m\u001b[0m\n\u001b[0m\u001b[0;32m      9\u001b[0m     \u001b[0mprint\u001b[0m\u001b[1;33m(\u001b[0m\u001b[1;34m\"The average price for a\"\u001b[0m\u001b[1;33m,\u001b[0m \u001b[0mitem\u001b[0m\u001b[1;33m,\u001b[0m \u001b[1;34m\"is\"\u001b[0m\u001b[1;33m,\u001b[0m \u001b[0mstr\u001b[0m\u001b[1;33m(\u001b[0m\u001b[0maverage_price\u001b[0m\u001b[1;33m)\u001b[0m\u001b[1;33m)\u001b[0m\u001b[1;33m\u001b[0m\u001b[1;33m\u001b[0m\u001b[0m\n",
      "\u001b[1;31mZeroDivisionError\u001b[0m: division by zero"
     ]
    }
   ],
   "source": [
    "total_price = {'laptop':100, 'cell phone': 75, 'keyboard':40, 'mic': 40, 'mouse':15}\n",
    "\n",
    "quantities = [5, 5, 0, 10, 5]\n",
    "\n",
    "for (item, price), quantity in zip(total_price.items(),quantities):\n",
    "    \n",
    "    print(item)\n",
    "    average_price  = (price/quantity)\n",
    "    print(\"The average price for a\", item, \"is\", str(average_price))"
   ]
  },
  {
   "cell_type": "code",
   "execution_count": null,
   "metadata": {},
   "outputs": [
    {
     "name": "stdout",
     "output_type": "stream",
     "text": [
      "The average price for a laptop is 20.0\n",
      "The average price for a cell phone is 15.0\n",
      "> \u001b[1;32m<ipython-input-4-8568c88c1e27>\u001b[0m(7)\u001b[0;36m<module>\u001b[1;34m()\u001b[0m\n",
      "\u001b[1;32m      5 \u001b[1;33m\u001b[0mquantities\u001b[0m \u001b[1;33m=\u001b[0m \u001b[1;33m[\u001b[0m\u001b[1;36m5\u001b[0m\u001b[1;33m,\u001b[0m \u001b[1;36m5\u001b[0m\u001b[1;33m,\u001b[0m \u001b[1;36m0\u001b[0m\u001b[1;33m,\u001b[0m \u001b[1;36m10\u001b[0m\u001b[1;33m,\u001b[0m \u001b[1;36m5\u001b[0m\u001b[1;33m]\u001b[0m\u001b[1;33m\u001b[0m\u001b[1;33m\u001b[0m\u001b[0m\n",
      "\u001b[0m\u001b[1;32m      6 \u001b[1;33m\u001b[1;33m\u001b[0m\u001b[0m\n",
      "\u001b[0m\u001b[1;32m----> 7 \u001b[1;33m\u001b[1;32mfor\u001b[0m \u001b[1;33m(\u001b[0m\u001b[0mitem\u001b[0m\u001b[1;33m,\u001b[0m \u001b[0mprice\u001b[0m\u001b[1;33m)\u001b[0m\u001b[1;33m,\u001b[0m \u001b[0mquantity\u001b[0m \u001b[1;32min\u001b[0m \u001b[0mzip\u001b[0m\u001b[1;33m(\u001b[0m\u001b[0mtotal_price\u001b[0m\u001b[1;33m.\u001b[0m\u001b[0mitems\u001b[0m\u001b[1;33m(\u001b[0m\u001b[1;33m)\u001b[0m\u001b[1;33m,\u001b[0m\u001b[0mquantities\u001b[0m\u001b[1;33m)\u001b[0m\u001b[1;33m:\u001b[0m\u001b[1;33m\u001b[0m\u001b[1;33m\u001b[0m\u001b[0m\n",
      "\u001b[0m\u001b[1;32m      8 \u001b[1;33m\u001b[1;33m\u001b[0m\u001b[0m\n",
      "\u001b[0m\u001b[1;32m      9 \u001b[1;33m    \u001b[1;32mtry\u001b[0m\u001b[1;33m:\u001b[0m\u001b[1;33m\u001b[0m\u001b[1;33m\u001b[0m\u001b[0m\n",
      "\u001b[0m\n",
      "ipdb> item\n",
      "'keyboard'\n"
     ]
    }
   ],
   "source": [
    "import pdb\n",
    "\n",
    "total_price = {'laptop':100, 'cell phone': 75, 'keyboard':40, 'mic': 40, 'mouse':15}\n",
    "\n",
    "quantities = [5, 5, 0, 10, 5]\n",
    "\n",
    "for (item, price), quantity in zip(total_price.items(),quantities):\n",
    "    \n",
    "    try:\n",
    "        average_price  = (price/quantity)\n",
    "        print(\"The average price for a\", item, \"is\", str(average_price))\n",
    "    except:\n",
    "        pdb.set_trace()\n",
    "        "
   ]
  },
  {
   "cell_type": "markdown",
   "metadata": {},
   "source": [
    "## 10.2. Collections Module"
   ]
  },
  {
   "cell_type": "markdown",
   "metadata": {},
   "source": [
    "### 10.2.1. Counters"
   ]
  },
  {
   "cell_type": "code",
   "execution_count": null,
   "metadata": {},
   "outputs": [],
   "source": [
    "from collections import Counter"
   ]
  },
  {
   "cell_type": "code",
   "execution_count": null,
   "metadata": {},
   "outputs": [],
   "source": [
    "cars = [\"Honda\",\"Honda\",\"Honda\",\"Honda\",\"Ford\",\"Ford\",\n",
    "        \"BMW\",\"BMW\",\"BMW\",\"BMW\",\"BMW\",\"BMW\",\"BMW\"]\n",
    "\n",
    "print(Counter(cars))"
   ]
  },
  {
   "cell_type": "code",
   "execution_count": null,
   "metadata": {},
   "outputs": [],
   "source": [
    "cars_count = Counter(cars)\n",
    "print(cars_count[\"Honda\"])"
   ]
  },
  {
   "cell_type": "code",
   "execution_count": null,
   "metadata": {},
   "outputs": [],
   "source": [
    "str_count = Counter(\"adklasjdkasdlaj\")\n",
    "print(str_count)"
   ]
  },
  {
   "cell_type": "markdown",
   "metadata": {},
   "source": [
    "### 10.2.2. Default Dictionaries"
   ]
  },
  {
   "cell_type": "code",
   "execution_count": null,
   "metadata": {},
   "outputs": [],
   "source": [
    "from collections import defaultdict\n",
    "\n",
    "normal_dic = {'BMW': 7, 'Honda': 4, 'Ford': 2}\n",
    "print(normal_dic[\"BMW\"])"
   ]
  },
  {
   "cell_type": "code",
   "execution_count": null,
   "metadata": {},
   "outputs": [],
   "source": [
    "print(normal_dic[\"Toyota\"])"
   ]
  },
  {
   "cell_type": "code",
   "execution_count": null,
   "metadata": {},
   "outputs": [],
   "source": [
    "from collections import defaultdict\n",
    "\n",
    "def_dic = defaultdict(lambda: \"Not Available\")\n",
    "def_dic[\"BMW\"] = 7\n",
    "\n",
    "print(def_dic[\"BMW\"])\n",
    "print(def_dic[\"Toyota\"])"
   ]
  },
  {
   "cell_type": "markdown",
   "metadata": {},
   "source": [
    "### 10.2.3. Named Tuple"
   ]
  },
  {
   "cell_type": "code",
   "execution_count": null,
   "metadata": {},
   "outputs": [],
   "source": [
    "normal_tuple = (\"BMW\", 10, \"Black\")\n",
    "print(normal_tuple[2])"
   ]
  },
  {
   "cell_type": "code",
   "execution_count": null,
   "metadata": {},
   "outputs": [],
   "source": [
    "from collections import namedtuple\n",
    "\n",
    "car_tuple = namedtuple('Car', ['Name', 'Model', 'Color'])\n",
    "cars  = car_tuple(Name = \"BMW\", Model=10, Color = \"Black\")\n"
   ]
  },
  {
   "cell_type": "code",
   "execution_count": null,
   "metadata": {},
   "outputs": [],
   "source": [
    "print(cars[2])\n",
    "print(cars.Color)"
   ]
  },
  {
   "cell_type": "markdown",
   "metadata": {},
   "source": [
    "## 10.3. DateTime Module"
   ]
  },
  {
   "cell_type": "code",
   "execution_count": null,
   "metadata": {},
   "outputs": [],
   "source": [
    "import datetime\n",
    "datetime_now = datetime.datetime.now()\n",
    "\n",
    "print(datetime_now)\n",
    "print(datetime_now.ctime())"
   ]
  },
  {
   "cell_type": "code",
   "execution_count": null,
   "metadata": {},
   "outputs": [],
   "source": [
    "print(dir(datetime_now))"
   ]
  },
  {
   "cell_type": "code",
   "execution_count": null,
   "metadata": {},
   "outputs": [],
   "source": [
    "date1 = datetime.datetime.now()\n",
    "date2 = datetime.datetime(1990,4,10)\n",
    "\n",
    "date_dif = date1-date2\n",
    "print(date_dif.days)\n",
    "print(date_dif.total_seconds())"
   ]
  },
  {
   "cell_type": "markdown",
   "metadata": {},
   "source": [
    "### 10.3.1. Working with Time Only"
   ]
  },
  {
   "cell_type": "code",
   "execution_count": null,
   "metadata": {},
   "outputs": [],
   "source": [
    "import datetime\n",
    "\n",
    "new_time = datetime.time()\n",
    "\n",
    "print(type(new_time))\n",
    "print(dir(new_time))"
   ]
  },
  {
   "cell_type": "code",
   "execution_count": null,
   "metadata": {},
   "outputs": [],
   "source": [
    "new_time = datetime.time(5,30)\n",
    "print(new_time.hour)\n",
    "print(new_time.minute)\n",
    "print(new_time.second)\n",
    "print(new_time.microsecond)"
   ]
  },
  {
   "cell_type": "code",
   "execution_count": null,
   "metadata": {},
   "outputs": [],
   "source": [
    "new_time = new_time.replace(hour = 7)\n",
    "print(new_time.hour)"
   ]
  },
  {
   "cell_type": "markdown",
   "metadata": {},
   "source": [
    "### 10.3.2. Working with Date Only"
   ]
  },
  {
   "cell_type": "code",
   "execution_count": null,
   "metadata": {},
   "outputs": [],
   "source": [
    "import datetime\n",
    "\n",
    "new_date = datetime.date(2019,2,10)\n",
    "\n",
    "print(new_date.ctime())"
   ]
  },
  {
   "cell_type": "code",
   "execution_count": null,
   "metadata": {},
   "outputs": [],
   "source": [
    "print(dir(new_date))"
   ]
  },
  {
   "cell_type": "code",
   "execution_count": null,
   "metadata": {},
   "outputs": [],
   "source": [
    "import datetime\n",
    "\n",
    "new_date = datetime.date(2019,2,10)\n",
    "new_date = new_date.replace(day = 20)\n",
    "print(new_date.ctime())"
   ]
  },
  {
   "cell_type": "markdown",
   "metadata": {},
   "source": [
    "## 10.4. Math Module"
   ]
  },
  {
   "cell_type": "code",
   "execution_count": null,
   "metadata": {},
   "outputs": [],
   "source": [
    "import math\n",
    "\n",
    "angle = math.radians(90)\n",
    "print(angle)\n"
   ]
  },
  {
   "cell_type": "code",
   "execution_count": null,
   "metadata": {},
   "outputs": [],
   "source": [
    "print(math.sin(angle))\n",
    "print(math.cos(angle))\n",
    "print(math.tan(angle))"
   ]
  },
  {
   "cell_type": "code",
   "execution_count": null,
   "metadata": {},
   "outputs": [],
   "source": [
    "print(math.pow(4,5))"
   ]
  },
  {
   "cell_type": "code",
   "execution_count": null,
   "metadata": {},
   "outputs": [],
   "source": [
    "print(math.sqrt(225))"
   ]
  },
  {
   "cell_type": "code",
   "execution_count": null,
   "metadata": {},
   "outputs": [],
   "source": [
    "print(math.log(100))\n",
    "print(math.log10(100))"
   ]
  },
  {
   "cell_type": "code",
   "execution_count": null,
   "metadata": {},
   "outputs": [],
   "source": [
    "print(math.ceil(5.8))\n",
    "print(math.floor(5.8))"
   ]
  },
  {
   "cell_type": "markdown",
   "metadata": {},
   "source": [
    "## 10.5. Random Module"
   ]
  },
  {
   "cell_type": "code",
   "execution_count": null,
   "metadata": {},
   "outputs": [],
   "source": [
    "import random \n",
    "\n",
    "print(random.random())"
   ]
  },
  {
   "cell_type": "code",
   "execution_count": null,
   "metadata": {},
   "outputs": [],
   "source": [
    "print(random.randint(0,50))\n",
    "print(random.randint(0,50))\n",
    "print(random.randint(0,50))"
   ]
  },
  {
   "cell_type": "code",
   "execution_count": null,
   "metadata": {},
   "outputs": [],
   "source": [
    "print(random.randrange(0,50))\n",
    "print(random.randrange(0,50,3))\n",
    "print(random.randrange(0,50,5))"
   ]
  },
  {
   "cell_type": "code",
   "execution_count": null,
   "metadata": {},
   "outputs": [],
   "source": [
    "cars = [1, 15, 36, 14, 15, 10 ]\n",
    "print(random.choice(cars))"
   ]
  },
  {
   "cell_type": "code",
   "execution_count": null,
   "metadata": {},
   "outputs": [],
   "source": [
    "cars = [1, 15, 36, 14, 15, 10 ]\n",
    "cars_shuffle = random.shuffle(cars)\n",
    "print(cars_shuffle)"
   ]
  },
  {
   "cell_type": "markdown",
   "metadata": {},
   "source": [
    "## 10.6. Find Execution time of  Python Scripts"
   ]
  },
  {
   "cell_type": "code",
   "execution_count": null,
   "metadata": {},
   "outputs": [],
   "source": [
    "def get_fib(num):\n",
    "    if num == 1 or num == 2:\n",
    "        return 1\n",
    "    else:\n",
    "        return get_fib(num-1) + get_fib(num-2)\n",
    "\n",
    "get_fib(20)\n"
   ]
  },
  {
   "cell_type": "code",
   "execution_count": null,
   "metadata": {},
   "outputs": [],
   "source": [
    "\n",
    "def get_fib2(num):\n",
    "    \n",
    "    \n",
    "    if num == 1:\n",
    "        return 0\n",
    "    \n",
    "    if num == 2:\n",
    "        return 1\n",
    "   \n",
    "    num1 = 1\n",
    "    num2 = 1\n",
    "   \n",
    "    for i in range(3, num+1):\n",
    "        \n",
    "        val = num1 + num2\n",
    "        \n",
    "        num1 = num2\n",
    "        num2 = val\n",
    "    return val\n",
    "\n",
    "get_fib2(20)\n"
   ]
  },
  {
   "cell_type": "markdown",
   "metadata": {},
   "source": [
    "### 10.6.1. Using time Module"
   ]
  },
  {
   "cell_type": "code",
   "execution_count": null,
   "metadata": {},
   "outputs": [],
   "source": [
    "import time\n",
    "\n",
    "start_time = time.time()\n",
    "\n",
    "get_fib(30)\n",
    "\n",
    "end_time = time.time()\n",
    "\n",
    "script_time = end_time - start_time\n",
    "print(str(script_time))"
   ]
  },
  {
   "cell_type": "code",
   "execution_count": null,
   "metadata": {},
   "outputs": [],
   "source": [
    "import time\n",
    "\n",
    "start_time = time.time()\n",
    "\n",
    "val = get_fib2(30)\n",
    "end_time = time.time()\n",
    "\n",
    "script_time = end_time - start_time\n",
    "print(str(script_time))"
   ]
  },
  {
   "cell_type": "markdown",
   "metadata": {},
   "source": [
    "### 10.6.2. Using timeit Module"
   ]
  },
  {
   "cell_type": "code",
   "execution_count": null,
   "metadata": {},
   "outputs": [],
   "source": [
    "statement = \"get_fib(30)\"\n",
    "\n",
    "setup = \"\"\"\n",
    "def get_fib(num):\n",
    "    if num == 1 or num == 2:\n",
    "        return 1\n",
    "    else:\n",
    "        return get_fib(num-1) + get_fib(num-2)\n",
    "\"\"\""
   ]
  },
  {
   "cell_type": "code",
   "execution_count": null,
   "metadata": {},
   "outputs": [],
   "source": [
    "import timeit\n",
    "timeit.timeit(statement, setup, number = 100)"
   ]
  },
  {
   "cell_type": "code",
   "execution_count": null,
   "metadata": {},
   "outputs": [],
   "source": [
    "statement = \"get_fib2(30)\"\n",
    "setup = \"\"\"\n",
    "def get_fib2(num):\n",
    "    \n",
    "    \n",
    "    if num == 1:\n",
    "        return 0\n",
    "    \n",
    "    if num == 2:\n",
    "        return 1\n",
    "   \n",
    "    num1 = 1\n",
    "    num2 = 1\n",
    "   \n",
    "    for i in range(3, num+1):\n",
    "        \n",
    "        val = num1 + num2\n",
    "        \n",
    "        num1 = num2\n",
    "        num2 = val\n",
    "    return val\n",
    "    \"\"\""
   ]
  },
  {
   "cell_type": "code",
   "execution_count": null,
   "metadata": {},
   "outputs": [],
   "source": [
    "import timeit\n",
    "timeit.timeit(statement, setup, number = 100)"
   ]
  },
  {
   "cell_type": "markdown",
   "metadata": {},
   "source": [
    "### 10.6.3. Using Python %%time command"
   ]
  },
  {
   "cell_type": "code",
   "execution_count": null,
   "metadata": {},
   "outputs": [],
   "source": [
    "%%timeit\n",
    "get_fib(30)"
   ]
  },
  {
   "cell_type": "code",
   "execution_count": null,
   "metadata": {},
   "outputs": [],
   "source": [
    "%%timeit\n",
    "get_fib2(30)"
   ]
  },
  {
   "cell_type": "markdown",
   "metadata": {},
   "source": [
    "## Exercise 10.1"
   ]
  },
  {
   "cell_type": "markdown",
   "metadata": {},
   "source": [
    "**Question 1:**\n",
    "\n",
    "Which command is used to close python debugger?\n",
    "\n",
    "A. quit\n",
    "\n",
    "B. close\n",
    "\n",
    "C. q\n",
    "\n",
    "D. c\n",
    "\n",
    "**Answer: C**\n",
    "    \n",
    "\n",
    "**Question 2:**\n",
    "\n",
    "The following expression is used to specify a default value to default dictionaries in Python\n",
    "\n",
    "A. defaultdictionary(lambda: \"value\")\n",
    "\n",
    "B. defaultdict(lambda = \"value\")\n",
    "\n",
    "C. DefaultDict(lambda : \"value\")\n",
    "\n",
    "D. none of the above\n",
    "\n",
    "**Answer: D**\n",
    "    \n",
    "    \n",
    "**Question 3:**\n",
    "\n",
    "Which of the following modules and expressions can be used to find script time in Jupyter\n",
    "\n",
    "A. ##\n",
    "\n",
    "B. timeit\n",
    "\n",
    "C. time\n",
    "\n",
    "D. all of the above\n",
    "    \n",
    "**Answer: D**"
   ]
  },
  {
   "cell_type": "markdown",
   "metadata": {},
   "source": [
    "## Exercise 10.2"
   ]
  },
  {
   "cell_type": "markdown",
   "metadata": {},
   "source": [
    "Find the number of counts for each unique value in the following list using the for loop and the Counter object\n",
    "`[\"Apple\",\"Orange\",\"Apple\",\"Apple\",\"Orange\",\"Banana\",\"Orange\",\"Orange\"]`."
   ]
  },
  {
   "cell_type": "markdown",
   "metadata": {},
   "source": [
    "**Solution:**\n"
   ]
  },
  {
   "cell_type": "code",
   "execution_count": null,
   "metadata": {},
   "outputs": [],
   "source": [
    "fruits = [\"Apple\",\"Orange\",\"Apple\",\"Apple\",\"Orange\",\"Banana\",\"Orange\",\"Orange\"]\n",
    "\n",
    "# Solution using for loop\n",
    "\n",
    "fruits_dic = {}\n",
    "\n",
    "for fruit in fruits:\n",
    "    if fruit not in fruits_dic:\n",
    "        fruits_dic[fruit] = 1\n",
    "    else:\n",
    "        fruits_dic[fruit] +=1\n",
    "        \n",
    "print(fruits_dic)\n",
    "\n",
    "\n",
    "from collections import Counter\n",
    "\n",
    "fruits_count = Counter(fruits)\n",
    "print(fruits_count)"
   ]
  },
  {
   "cell_type": "code",
   "execution_count": null,
   "metadata": {},
   "outputs": [],
   "source": []
  }
 ],
 "metadata": {
  "kernelspec": {
   "display_name": "Python 3",
   "language": "python",
   "name": "python3"
  },
  "language_info": {
   "codemirror_mode": {
    "name": "ipython",
    "version": 3
   },
   "file_extension": ".py",
   "mimetype": "text/x-python",
   "name": "python",
   "nbconvert_exporter": "python",
   "pygments_lexer": "ipython3",
   "version": "3.8.3"
  }
 },
 "nbformat": 4,
 "nbformat_minor": 4
}
