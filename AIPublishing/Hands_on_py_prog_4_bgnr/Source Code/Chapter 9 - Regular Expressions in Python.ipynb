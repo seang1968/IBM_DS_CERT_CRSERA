{
 "cells": [
  {
   "cell_type": "markdown",
   "metadata": {},
   "source": [
    "## 9.1. What is Regex"
   ]
  },
  {
   "cell_type": "code",
   "execution_count": 1,
   "metadata": {},
   "outputs": [
    {
     "name": "stdout",
     "output_type": "stream",
     "text": [
      "pathology\n",
      "psychology\n"
     ]
    }
   ],
   "source": [
    "import re\n",
    "\n",
    "pattern = '^p.*y$'\n",
    "string_list = [\"pathology\", \"biology\", \"geography\", \"psychology\", \"mathematics\"]\n",
    "\n",
    "for str in string_list:\n",
    "    result = re.match(pattern, str)\n",
    "    if result:\n",
    "        print(str)\n"
   ]
  },
  {
   "cell_type": "markdown",
   "metadata": {},
   "source": [
    "## 9.2. Specifying Patterns Using Meta Characters"
   ]
  },
  {
   "cell_type": "markdown",
   "metadata": {},
   "source": [
    "### Square Brackets []"
   ]
  },
  {
   "cell_type": "code",
   "execution_count": 2,
   "metadata": {},
   "outputs": [
    {
     "name": "stdout",
     "output_type": "stream",
     "text": [
      "pathology\n",
      "biology\n",
      "geography\n",
      "mathematics\n"
     ]
    }
   ],
   "source": [
    "import re\n",
    "\n",
    "pattern = '.*[ab].*'\n",
    "string_list = [\"pathology\", \"nic\", \"jos\", \"biology\", \"geography\", \"psychology\", \"mathematics\"]\n",
    "\n",
    "for str in string_list:\n",
    "    result = re.match(pattern, str)\n",
    "    if result:\n",
    "        print(str)"
   ]
  },
  {
   "cell_type": "markdown",
   "metadata": {},
   "source": [
    "### Period (.)"
   ]
  },
  {
   "cell_type": "code",
   "execution_count": 3,
   "metadata": {},
   "outputs": [
    {
     "name": "stdout",
     "output_type": "stream",
     "text": [
      "pathology\n",
      "biology\n",
      "geography\n",
      "psychology\n",
      "mathematics\n"
     ]
    }
   ],
   "source": [
    "import re\n",
    "\n",
    "pattern = '.....'\n",
    "string_list = [\"pathology\", \"nic\", \"jos\", \"biology\", \"geography\", \"psychology\", \"mathematics\"]\n",
    "\n",
    "for str in string_list:\n",
    "    result = re.match(pattern, str)\n",
    "    if result:\n",
    "        print(str)"
   ]
  },
  {
   "cell_type": "markdown",
   "metadata": {},
   "source": [
    "### Carrot (^) and Dollar ($)"
   ]
  },
  {
   "cell_type": "code",
   "execution_count": 4,
   "metadata": {},
   "outputs": [
    {
     "name": "stdout",
     "output_type": "stream",
     "text": [
      "pathology\n",
      "psychology\n"
     ]
    }
   ],
   "source": [
    "import re\n",
    "\n",
    "pattern = '^p.*y$'\n",
    "string_list = [\"pathology\", \"biology\", \"geography\", \"psychology\", \"mathematics\"]\n",
    "\n",
    "for str in string_list:\n",
    "    result = re.match(pattern, str)\n",
    "    if result:\n",
    "        print(str)\n"
   ]
  },
  {
   "cell_type": "markdown",
   "metadata": {},
   "source": [
    "### PLus (+) and Question Mark (?)"
   ]
  },
  {
   "cell_type": "code",
   "execution_count": 5,
   "metadata": {},
   "outputs": [
    {
     "name": "stdout",
     "output_type": "stream",
     "text": [
      "pathology\n",
      "biology\n",
      "psychology\n"
     ]
    }
   ],
   "source": [
    "import re\n",
    "\n",
    "pattern = '.*og+y'\n",
    "string_list = [\"pathology\", \"biology\", \"geography\", \"psychology\", \"mathematics\"]\n",
    "\n",
    "for str in string_list:\n",
    "    result = re.match(pattern, str)\n",
    "    if result:\n",
    "        print(str)"
   ]
  },
  {
   "cell_type": "code",
   "execution_count": 6,
   "metadata": {},
   "outputs": [
    {
     "name": "stdout",
     "output_type": "stream",
     "text": [
      "pathology\n",
      "mathematics\n"
     ]
    }
   ],
   "source": [
    "import re\n",
    "\n",
    "pattern = '.*at?h'\n",
    "string_list = [\"pathology\", \"biology\", \"geography\", \"psychology\", \"mathematics\"]\n",
    "\n",
    "for str in string_list:\n",
    "    result = re.match(pattern, str)\n",
    "    if result:\n",
    "        print(str)"
   ]
  },
  {
   "cell_type": "markdown",
   "metadata": {},
   "source": [
    "### Alteration (|) and Grouping ()"
   ]
  },
  {
   "cell_type": "code",
   "execution_count": 7,
   "metadata": {},
   "outputs": [
    {
     "name": "stdout",
     "output_type": "stream",
     "text": [
      "pathology\n",
      "psychology\n",
      "mathematics\n"
     ]
    }
   ],
   "source": [
    "import re\n",
    "\n",
    "pattern = '(^p)|(.*s$)'\n",
    "string_list = [\"pathology\", \"biology\", \"geography\", \"psychology\", \"mathematics\"]\n",
    "\n",
    "for str in string_list:\n",
    "    result = re.match(pattern, str)\n",
    "    if result:\n",
    "        print(str)"
   ]
  },
  {
   "cell_type": "markdown",
   "metadata": {},
   "source": [
    "### Backslash"
   ]
  },
  {
   "cell_type": "code",
   "execution_count": 8,
   "metadata": {},
   "outputs": [
    {
     "name": "stdout",
     "output_type": "stream",
     "text": [
      "25.245\n"
     ]
    }
   ],
   "source": [
    "import re\n",
    "\n",
    "pattern = '25\\.+.*'\n",
    "string_list = [\"pathology\", \"biology\", \"25.245\", \"\" \"geography\", \"psychology\", \"mathematics\"]\n",
    "\n",
    "for str in string_list:\n",
    "    result = re.match(pattern, str)\n",
    "    if result:\n",
    "        print(str)"
   ]
  },
  {
   "cell_type": "markdown",
   "metadata": {},
   "source": [
    "### Special Sequences"
   ]
  },
  {
   "cell_type": "code",
   "execution_count": 9,
   "metadata": {},
   "outputs": [
    {
     "name": "stdout",
     "output_type": "stream",
     "text": [
      "pathology\n"
     ]
    }
   ],
   "source": [
    "import re\n",
    "\n",
    "pattern = '\\Apat'\n",
    "string_list = [\"pathology\", \"biology\", \"25.245\", \"\" \"geography\", \"psychology\", \"mathematics\"]\n",
    "\n",
    "for str in string_list:\n",
    "    result = re.match(pattern, str)\n",
    "    if result:\n",
    "        print(str)"
   ]
  },
  {
   "cell_type": "code",
   "execution_count": 10,
   "metadata": {},
   "outputs": [
    {
     "name": "stdout",
     "output_type": "stream",
     "text": [
      "['10', '20']\n"
     ]
    }
   ],
   "source": [
    "import re\n",
    "\n",
    "pattern = '\\d+'\n",
    "str = \"This is 10, he is 20\"\n",
    "result = re.findall(pattern, str)\n",
    "print(result)"
   ]
  },
  {
   "cell_type": "code",
   "execution_count": 11,
   "metadata": {},
   "outputs": [
    {
     "name": "stdout",
     "output_type": "stream",
     "text": [
      "['This is ', ', he is ']\n"
     ]
    }
   ],
   "source": [
    "import re\n",
    "\n",
    "pattern = '\\D+'\n",
    "str = \"This is 10, he is 20\"\n",
    "result = re.findall(pattern, str)\n",
    "print(result)"
   ]
  },
  {
   "cell_type": "code",
   "execution_count": 12,
   "metadata": {},
   "outputs": [
    {
     "name": "stdout",
     "output_type": "stream",
     "text": [
      "['This', 'is', '10', 'he', 'is', '20']\n"
     ]
    }
   ],
   "source": [
    "import re\n",
    "\n",
    "pattern = '\\w+'\n",
    "str = \"This is % 10 # he is 20\"\n",
    "result = re.findall(pattern, str)\n",
    "print(result)"
   ]
  },
  {
   "cell_type": "code",
   "execution_count": 13,
   "metadata": {},
   "outputs": [
    {
     "name": "stdout",
     "output_type": "stream",
     "text": [
      "[' ', ' % ', ' # ', ' ', ' ']\n"
     ]
    }
   ],
   "source": [
    "import re\n",
    "\n",
    "pattern = '\\W+'\n",
    "str = \"This is % 10 # he is 20\"\n",
    "result = re.findall(pattern, str)\n",
    "print(result)"
   ]
  },
  {
   "cell_type": "markdown",
   "metadata": {},
   "source": [
    "## 9.3 Regular Expression Functions in Python"
   ]
  },
  {
   "cell_type": "markdown",
   "metadata": {},
   "source": [
    "### 9.3.1. findall() "
   ]
  },
  {
   "cell_type": "code",
   "execution_count": 14,
   "metadata": {},
   "outputs": [
    {
     "name": "stdout",
     "output_type": "stream",
     "text": [
      "['10', '20', '80']\n"
     ]
    }
   ],
   "source": [
    "import re\n",
    "\n",
    "pattern = '\\d+'\n",
    "str = \"This is 10 he is 20 and the gate is 80\"\n",
    "result = re.findall(pattern, str)\n",
    "print(result)"
   ]
  },
  {
   "cell_type": "markdown",
   "metadata": {},
   "source": [
    "### 9.3.2. split() "
   ]
  },
  {
   "cell_type": "code",
   "execution_count": 15,
   "metadata": {},
   "outputs": [
    {
     "name": "stdout",
     "output_type": "stream",
     "text": [
      "['This is ', ' he is ', ' and the gate is ', '.']\n"
     ]
    }
   ],
   "source": [
    "import re\n",
    "\n",
    "pattern = '\\d+'\n",
    "str = \"This is 10 he is 20 and the gate is 80.\"\n",
    "result = re.split(pattern, str)\n",
    "print(result)"
   ]
  },
  {
   "cell_type": "markdown",
   "metadata": {},
   "source": [
    "### 9.3.3. sub() "
   ]
  },
  {
   "cell_type": "code",
   "execution_count": 16,
   "metadata": {},
   "outputs": [
    {
     "name": "stdout",
     "output_type": "stream",
     "text": [
      "This is XX he is XX and the gate is XX.\n"
     ]
    }
   ],
   "source": [
    "import re\n",
    "\n",
    "pattern = '\\d+'\n",
    "str = \"This is 10 he is 20 and the gate is 80.\"\n",
    "new_str = re.sub(pattern, 'XX', str)\n",
    "print(new_str)"
   ]
  },
  {
   "cell_type": "code",
   "execution_count": 17,
   "metadata": {},
   "outputs": [
    {
     "name": "stdout",
     "output_type": "stream",
     "text": [
      "('This is XX he is XX and the gate is XX.', 3)\n"
     ]
    }
   ],
   "source": [
    "import re\n",
    "\n",
    "pattern = '\\d+'\n",
    "str = \"This is 10 he is 20 and the gate is 80.\"\n",
    "new_str = re.subn(pattern, 'XX', str)\n",
    "print(new_str)"
   ]
  },
  {
   "cell_type": "markdown",
   "metadata": {},
   "source": [
    "### 9.3.4. search()"
   ]
  },
  {
   "cell_type": "code",
   "execution_count": 18,
   "metadata": {},
   "outputs": [
    {
     "name": "stdout",
     "output_type": "stream",
     "text": [
      "<re.Match object; span=(8, 10), match='10'>\n"
     ]
    }
   ],
   "source": [
    "import re\n",
    "\n",
    "pattern = '\\d+'\n",
    "str = \"This is 10 he is 20 and the gate is 80.\"\n",
    "result = re.search(pattern, str)\n",
    "print(result)"
   ]
  },
  {
   "cell_type": "markdown",
   "metadata": {},
   "source": [
    "## Exercise 9.1"
   ]
  },
  {
   "cell_type": "markdown",
   "metadata": {},
   "source": [
    "**Question 1:**\n",
    "\n",
    "The pattern '(\\Ag)|(\\d+)' matches\n",
    "\n",
    "A. All the digits\n",
    "\n",
    "B. The strings with characters `Ag`\n",
    "\n",
    "C. Strings that start with `g` or which are digits\n",
    "\n",
    "D. All of the above\n",
    "\n",
    "**Answer: C**\n",
    "    \n",
    "\n",
    "**Question 2:**\n",
    "\n",
    "In Python, the function used to replace a string by another string is:\n",
    "\n",
    "A. replace()\n",
    "\n",
    "B. sub()\n",
    "\n",
    "C. substitute()\n",
    "\n",
    "D. rep()\n",
    "\n",
    "**Answer: B**\n",
    "    \n",
    "    \n",
    "**Question 3:**\n",
    "\n",
    "The escape character used to escape metacharacters within a regex patter is:\n",
    "\n",
    "A. Forwardslash\n",
    "\n",
    "B. Backslash\n",
    "\n",
    "C. Alteration\n",
    "\n",
    "D. Escape\n",
    "    \n",
    "**Answer: B**"
   ]
  },
  {
   "cell_type": "markdown",
   "metadata": {},
   "source": [
    "## Exercise 9.2"
   ]
  },
  {
   "cell_type": "markdown",
   "metadata": {},
   "source": [
    "Write a regular expression which return all words from a list that contain a carrot (^) symbol or a dollar sign ($) or a plus (+) sign."
   ]
  },
  {
   "cell_type": "markdown",
   "metadata": {},
   "source": [
    "**Solution:**"
   ]
  },
  {
   "cell_type": "code",
   "execution_count": 19,
   "metadata": {},
   "outputs": [
    {
     "name": "stdout",
     "output_type": "stream",
     "text": [
      "path+ology\n",
      "biolo$gy\n",
      "geogr^aphy\n"
     ]
    }
   ],
   "source": [
    "import re\n",
    "\n",
    "pattern = '(.*\\^.*)|(.*\\$.*)|(.*\\+.*)'\n",
    "string_list = [\"path+ology\", \"biolo$gy\", \"25\", \"\" \"geogr^aphy\", \"psychology\", \"mathematics\"]\n",
    "\n",
    "for str in string_list:\n",
    "    result = re.match(pattern, str)\n",
    "    if result:\n",
    "        print(str)"
   ]
  },
  {
   "cell_type": "code",
   "execution_count": null,
   "metadata": {},
   "outputs": [],
   "source": []
  }
 ],
 "metadata": {
  "kernelspec": {
   "display_name": "Python 3 (ipykernel)",
   "language": "python",
   "name": "python3"
  },
  "language_info": {
   "codemirror_mode": {
    "name": "ipython",
    "version": 3
   },
   "file_extension": ".py",
   "mimetype": "text/x-python",
   "name": "python",
   "nbconvert_exporter": "python",
   "pygments_lexer": "ipython3",
   "version": "3.9.4"
  }
 },
 "nbformat": 4,
 "nbformat_minor": 4
}
