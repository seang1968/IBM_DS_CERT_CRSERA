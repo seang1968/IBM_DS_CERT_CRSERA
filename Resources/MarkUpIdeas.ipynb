{
 "cells": [
  {
   "cell_type": "markdown",
   "id": "43b30f0f-ea09-4d26-a3f6-564742b15b09",
   "metadata": {},
   "source": [
    "<H1><a href=\"https://numpy.org/doc/stable/user/basics.broadcasting.html\">Broadcasting</a></H1>"
   ]
  },
  {
   "cell_type": "code",
   "execution_count": null,
   "id": "21ad97d0-c281-40a9-b506-716a9971e68d",
   "metadata": {},
   "outputs": [],
   "source": []
  }
 ],
 "metadata": {
  "kernelspec": {
   "display_name": "Python 3 (ipykernel)",
   "language": "python",
   "name": "python3"
  },
  "language_info": {
   "codemirror_mode": {
    "name": "ipython",
    "version": 3
   },
   "file_extension": ".py",
   "mimetype": "text/x-python",
   "name": "python",
   "nbconvert_exporter": "python",
   "pygments_lexer": "ipython3",
   "version": "3.9.4"
  }
 },
 "nbformat": 4,
 "nbformat_minor": 5
}
