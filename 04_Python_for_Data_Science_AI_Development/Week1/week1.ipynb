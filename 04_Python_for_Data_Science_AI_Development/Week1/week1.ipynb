{
 "cells": [
  {
   "cell_type": "markdown",
   "id": "cef2444a-c021-4c78-af4c-d3dbce0e7683",
   "metadata": {},
   "source": [
    "## Python Basics"
   ]
  },
  {
   "cell_type": "markdown",
   "id": "315a0fa6-9256-4364-9243-2a2135d48a1d",
   "metadata": {},
   "source": [
    "<html>\n",
    "<head>\n",
    "<meta content=\"text/html; charset=ISO-8859-1\"\n",
    "http-equiv=\"content-type\">\n",
    "<title></title>\n",
    "</head>\n",
    "<body>\n",
    "<div data-testid=\"instructor-note-body\" class=\"css-1qm1lh\"\n",
    "style=\"margin-bottom: 16px; color: rgb(51, 51, 51); font-family: &quot;Source Sans Pro&quot;,Arial,sans-serif; font-size: 16px; font-style: normal; font-weight: 400; letter-spacing: normal; orphans: 2; text-align: start; text-indent: 0px; text-transform: none; white-space: normal; widows: 2; word-spacing: 0px; background-color: rgb(255, 255, 255);\">This\n",
    "module teaches the basics of Python and begins by exploring some of the\n",
    "different data types such as integers, real numbers, and strings.\n",
    "Continue with the module and learn how to use expressions in\n",
    "mathematical operations, store values in variables, and the many\n",
    "different ways to manipulate strings.</div>\n",
    "<div\n",
    "style=\"color: rgb(51, 51, 51); font-family: &quot;Source Sans Pro&quot;,Arial,sans-serif; font-size: 16px; font-style: normal; font-weight: 400; letter-spacing: normal; orphans: 2; text-align: start; text-indent: 0px; text-transform: none; white-space: normal; widows: 2; word-spacing: 0px; background-color: rgb(255, 255, 255);\">\n",
    "<h3 class=\"cds-137 css-12okcgw cds-139\"\n",
    "style=\"margin: 0px; padding: 0px 0px 0px 24px; font-family: &quot;Source Sans Pro&quot;,Arial,sans-serif; max-width: 100%; font-weight: 700; color: rgb(31, 31, 31); letter-spacing: -0.1px;\">Learning\n",
    "Objectives</h3>\n",
    "<hr class=\"cds-211 css-1r7lzaq\" aria-hidden=\"true\"\n",
    "style=\"border: medium none ; margin: 16px 0px 0px; background: rgb(146, 149, 153) none repeat scroll 0%; overflow: visible; height: 1px; -moz-background-clip: -moz-initial; -moz-background-origin: -moz-initial; -moz-background-inline-policy: -moz-initial;\">\n",
    "<ul\n",
    "style=\"margin-bottom: 10px; margin-top: 0px; font-size: 1em; outline-color: invert; outline-style: none; outline-width: 0px;\">\n",
    "<li data-collapsible=\"false\" style=\"\">Demonstrate an understanding of\n",
    "types in Python by converting or casting data types such as strings,\n",
    "floats, and integers.</li>\n",
    "<li data-collapsible=\"false\" style=\"\">Interpret variables and solve\n",
    "expressions by applying mathematical operations.</li>\n",
    "<li data-collapsible=\"false\" style=\"\">Describe how to manipulate\n",
    "strings by using a variety of methods and operations.</li>\n",
    "<li data-collapsible=\"true\" style=\"\">Build a program in JupyterLab to\n",
    "demonstrate your knowledge of types, expressions, and variables.</li>\n",
    "<li data-collapsible=\"true\" style=\"\">Work with, manipulate, and\n",
    "perform operations on strings in Python</li>\n",
    "</ul>\n",
    "</div>\n",
    "</body>\n",
    "</html>\n",
    "\n"
   ]
  },
  {
   "cell_type": "markdown",
   "id": "4f7ceb38-8d53-4d8b-bb10-e9902dd8af33",
   "metadata": {},
   "source": [
    "### About the course"
   ]
  },
  {
   "cell_type": "code",
   "execution_count": null,
   "id": "1011ef55-a7d8-4564-86b7-65c577e9610d",
   "metadata": {},
   "outputs": [],
   "source": []
  },
  {
   "cell_type": "markdown",
   "id": "699727ee-147a-49e2-8c4f-462f9a646c2d",
   "metadata": {},
   "source": [
    "***"
   ]
  },
  {
   "cell_type": "markdown",
   "id": "12e0e6ef-8c9c-4841-ab50-70c4193b9071",
   "metadata": {},
   "source": [
    "### Types"
   ]
  },
  {
   "cell_type": "markdown",
   "id": "35cad4b8-2116-4444-a01f-aae6228262b4",
   "metadata": {},
   "source": [
    "<a href=\"Types_quiz.ipynb\">Quiz on Types</a>"
   ]
  },
  {
   "cell_type": "markdown",
   "id": "cf2350c5-4050-421e-9519-fb7c06e0f5b6",
   "metadata": {},
   "source": [
    "***"
   ]
  },
  {
   "cell_type": "markdown",
   "id": "28a49c49-44c9-49a7-9cdd-8111cc20dc6c",
   "metadata": {},
   "source": [
    "### Expressions and variables"
   ]
  },
  {
   "cell_type": "markdown",
   "id": "bf8cf02f-7c4e-4666-95d5-67fa86a3ba68",
   "metadata": {},
   "source": [
    "<a href=\"PY0101EN-1-1-Write_your_first_python_code.ipynb\">Lab: Your First Program, Types, Expressions, and Variables</a>"
   ]
  },
  {
   "cell_type": "markdown",
   "id": "e1b3772c-79d1-4e08-9d9b-1198d24d731a",
   "metadata": {},
   "source": [
    "<a href=\"Quiz1.ipynb\">Quiz1</a>"
   ]
  },
  {
   "cell_type": "markdown",
   "id": "068e1b29-207a-495d-a5f0-616658032cf2",
   "metadata": {},
   "source": [
    "***"
   ]
  },
  {
   "cell_type": "markdown",
   "id": "d6de1aa3-550f-4ac8-8a39-a0b67179b2c1",
   "metadata": {},
   "source": [
    "### String Operations"
   ]
  },
  {
   "cell_type": "markdown",
   "id": "55e76417-a8a4-4547-a416-82f201a1f893",
   "metadata": {},
   "source": [
    "<a href=\"PY0101EN-1-2-Strings.ipynb\">Hands-On Lab: Strings</a>\n",
    "\n"
   ]
  },
  {
   "cell_type": "markdown",
   "id": "58a3f72e-1a2f-46c6-a0e2-7334e30804ae",
   "metadata": {},
   "source": [
    "<a href=\"Quiz2.ipynb\">Quiz2</a>"
   ]
  },
  {
   "cell_type": "markdown",
   "id": "a6a359be-e2b8-468d-9e5a-9a1bfcdbf618",
   "metadata": {},
   "source": [
    "***"
   ]
  },
  {
   "cell_type": "markdown",
   "id": "83be03c3-d547-4ade-a81b-40a5d6dbd7f0",
   "metadata": {},
   "source": [
    "<a href=\"graded_quiz.ipynb\">Graded Quiz</a>"
   ]
  }
 ],
 "metadata": {
  "kernelspec": {
   "display_name": "Python 3 (ipykernel)",
   "language": "python",
   "name": "python3"
  },
  "language_info": {
   "codemirror_mode": {
    "name": "ipython",
    "version": 3
   },
   "file_extension": ".py",
   "mimetype": "text/x-python",
   "name": "python",
   "nbconvert_exporter": "python",
   "pygments_lexer": "ipython3",
   "version": "3.9.4"
  }
 },
 "nbformat": 4,
 "nbformat_minor": 5
}
