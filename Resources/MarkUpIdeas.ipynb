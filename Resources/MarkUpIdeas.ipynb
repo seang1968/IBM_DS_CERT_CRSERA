{
 "cells": [
  {
   "cell_type": "code",
   "execution_count": null,
   "id": "6519d036-f3fb-481c-af91-1ee50e3d2fb0",
   "metadata": {},
   "outputs": [],
   "source": [
    "<a href=\"url\">link text</a>"
   ]
  },
  {
   "cell_type": "code",
   "execution_count": null,
   "id": "7ff1ae67-ec99-461d-82a3-33bc8b815f8e",
   "metadata": {},
   "outputs": [],
   "source": []
  }
 ],
 "metadata": {
  "kernelspec": {
   "display_name": "Python 3 (ipykernel)",
   "language": "python",
   "name": "python3"
  },
  "language_info": {
   "codemirror_mode": {
    "name": "ipython",
    "version": 3
   },
   "file_extension": ".py",
   "mimetype": "text/x-python",
   "name": "python",
   "nbconvert_exporter": "python",
   "pygments_lexer": "ipython3",
   "version": "3.9.4"
  }
 },
 "nbformat": 4,
 "nbformat_minor": 5
}
