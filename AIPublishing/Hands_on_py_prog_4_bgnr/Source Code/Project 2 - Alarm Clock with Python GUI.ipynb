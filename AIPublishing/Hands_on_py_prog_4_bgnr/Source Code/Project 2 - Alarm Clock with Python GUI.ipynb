{
 "cells": [
  {
   "cell_type": "markdown",
   "metadata": {},
   "source": [
    "## Importing the Required Libraries"
   ]
  },
  {
   "cell_type": "code",
   "execution_count": 1,
   "metadata": {},
   "outputs": [],
   "source": [
    "from tkinter import *\n",
    "from tkinter import ttk\n",
    "import datetime\n",
    "import time\n",
    "import winsound\n",
    "from tkinter.messagebox import showinfo\n",
    "from threading import *"
   ]
  },
  {
   "cell_type": "markdown",
   "metadata": {},
   "source": [
    "## Creating Main Window"
   ]
  },
  {
   "cell_type": "code",
   "execution_count": 2,
   "metadata": {},
   "outputs": [
    {
     "data": {
      "text/plain": [
       "''"
      ]
     },
     "execution_count": 2,
     "metadata": {},
     "output_type": "execute_result"
    }
   ],
   "source": [
    "main_window = Tk()\n",
    "main_window.title(\"Python Alarm Clock\")\n"
   ]
  },
  {
   "cell_type": "code",
   "execution_count": 3,
   "metadata": {},
   "outputs": [],
   "source": [
    "# adding five columns to main window\n",
    "main_window.columnconfigure(0, weight=1)\n",
    "main_window.columnconfigure(1, weight=1)\n",
    "main_window.columnconfigure(2, weight=1)\n",
    "main_window.columnconfigure(3, weight=1)\n",
    "main_window.columnconfigure(3, weight=1)"
   ]
  },
  {
   "cell_type": "markdown",
   "metadata": {},
   "source": [
    "## Adding Widgets and Callbacks"
   ]
  },
  {
   "cell_type": "code",
   "execution_count": 4,
   "metadata": {},
   "outputs": [],
   "source": [
    "# creating a label for title and attaching it the main window\n",
    "my_label = Label(main_window, text = \"Python Alarm Clock\", bg = \"#b3b3b3\", fg =\"#ff3300\", font=(\"Courier\", 20))\n",
    "my_label.grid(row=0, column=1, columnspan = 3,  padx=5, pady=5)\n",
    "\n",
    "\n",
    "# creating a label for a message and attaching it the main window\n",
    "my_labe2 = Label(main_window, text = \"Set Time\\n(24h Format)\", bg = \"#cccccc\", fg =\"#3399ff\", font=(\"Courier\", 20))\n",
    "my_labe2.grid(row=1, column=2,  padx=5, pady=5)"
   ]
  },
  {
   "cell_type": "code",
   "execution_count": 5,
   "metadata": {},
   "outputs": [],
   "source": [
    "# creating a label for hours and attaching it the main window\n",
    "lbl_hours = Label(main_window, text = \"Hour\", bg = \"#6699ff\", fg =\"#595959\", font=(\"Courier\", 14))\n",
    "lbl_hours.grid(row=2, column=1, padx=5, pady=5)\n",
    "\n",
    "# creating a label for minutes and attaching it the main window\n",
    "\n",
    "lbl_mins= Label(main_window, text = \"Minutes\", bg = \"#6699ff\", fg =\"#595959\", font=(\"Courier\", 14))\n",
    "lbl_mins.grid(row=2, column=2, padx=5, pady=5)\n",
    "\n",
    "# creating a label for seconds and attaching it the main window\n",
    "lbl_sec = Label(main_window, text = \"Seconds\", bg = \"#6699ff\", fg =\"#595959\", font=(\"Courier\", 14))\n",
    "lbl_sec.grid(row=2, column=3,  padx=5, pady=5)"
   ]
  },
  {
   "cell_type": "code",
   "execution_count": 6,
   "metadata": {},
   "outputs": [],
   "source": [
    "# creating a text field for hours and attaching it to the main window\n",
    "txt_hours = StringVar()\n",
    "tf_hours = ttk.Entry(main_window, textvariable = txt_hours )\n",
    "tf_hours.grid(row=3, column=1, padx=15, pady=15)\n",
    "\n",
    "# creating a text field for minutes and attaching it to the main window\n",
    "txt_mins = StringVar()\n",
    "tf_mins = ttk.Entry(main_window, textvariable = txt_mins)\n",
    "tf_mins.grid(row=3, column=2, padx=15, pady=15)\n",
    "\n",
    "# creating a text field for minutes and attaching it to the main window\n",
    "txt_sec = StringVar()\n",
    "tf_se = ttk.Entry(main_window, textvariable = txt_sec)\n",
    "tf_se.grid(row=3, column=3,  padx=15, pady=15)\n",
    "\n",
    "\n"
   ]
  },
  {
   "cell_type": "code",
   "execution_count": 7,
   "metadata": {},
   "outputs": [],
   "source": [
    "\n",
    "\n",
    "def set_alarm():\n",
    "\n",
    "    \n",
    "    while True:\n",
    "        # Set Alarm \n",
    "        alarm_time = f\"{txt_hours.get()}:{txt_mins.get()}:{txt_mins.get()}\"\n",
    "  \n",
    "        # get current time after every 1 second\n",
    "        time.sleep(1)\n",
    "  \n",
    "        # get time in hours minutes and seconds format\n",
    "        current_time = datetime.datetime.now().strftime(\"%H:%M:%S\")\n",
    "        \n",
    "        # print current time in a text field\n",
    "        txt_ct.set(current_time)\n",
    "  \n",
    "        # Check if current system time is equal to the alarm time\n",
    "        if current_time == alarm_time:\n",
    "\n",
    "            # playing sound\n",
    "            winsound.PlaySound('E:/Datasets/siren.wav', winsound.SND_FILENAME | winsound.SND_ASYNC)\n"
   ]
  },
  {
   "cell_type": "code",
   "execution_count": 8,
   "metadata": {},
   "outputs": [],
   "source": [
    "def start_alarm_thread():\n",
    "    t1=Thread(target=set_alarm)\n",
    "    t1.start()\n",
    "  "
   ]
  },
  {
   "cell_type": "code",
   "execution_count": 9,
   "metadata": {},
   "outputs": [],
   "source": [
    "# creating a  button for setting an alarm and attaching it to the main window\n",
    "btn_Set_alarm = Button(main_window, \n",
    "                       text = \"SET ALARM\",  \n",
    "                       bg = \"#ff9966\", \n",
    "                       fg =\"#595959\", \n",
    "                       font=(\"Courier\", 14), \n",
    "                       command = start_alarm_thread)\n",
    "\n",
    "btn_Set_alarm.grid(row=4, column=1, columnspan = 3,  padx=5, pady=5)\n",
    "\n"
   ]
  },
  {
   "cell_type": "code",
   "execution_count": 10,
   "metadata": {},
   "outputs": [],
   "source": [
    "# creating a label for seconds and attaching it the main window\n",
    "lbl_ct= Label(main_window, text = \"Current time\", bg = \"#6699ff\", fg =\"#595959\", font=(\"Courier\", 10))\n",
    "lbl_ct.grid(row=5, column=1,  padx=5, pady=5)\n",
    "\n",
    "# creating a text field for minutes and attaching it to the main window\n",
    "txt_ct = StringVar()\n",
    "tf_ct = ttk.Entry(main_window, textvariable = txt_ct, width=20)\n",
    "tf_ct.grid(row=5, column=2,  padx=15, pady=15)"
   ]
  },
  {
   "cell_type": "code",
   "execution_count": 11,
   "metadata": {},
   "outputs": [],
   "source": [
    "# displaying the main window\n",
    "main_window.mainloop()"
   ]
  }
 ],
 "metadata": {
  "kernelspec": {
   "display_name": "Python 3",
   "language": "python",
   "name": "python3"
  },
  "language_info": {
   "codemirror_mode": {
    "name": "ipython",
    "version": 3
   },
   "file_extension": ".py",
   "mimetype": "text/x-python",
   "name": "python",
   "nbconvert_exporter": "python",
   "pygments_lexer": "ipython3",
   "version": "3.8.3"
  }
 },
 "nbformat": 4,
 "nbformat_minor": 4
}
