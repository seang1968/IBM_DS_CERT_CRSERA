{
 "cells": [
  {
   "cell_type": "markdown",
   "id": "7f53391b-947e-43e8-9f02-e247cf2af092",
   "metadata": {},
   "source": [
    "<H1><a href=\"https://app.dataquest.io/course/pandas-fundamentals\">Pandas And Numpy Fundamentals</a></H1>"
   ]
  },
  {
   "cell_type": "markdown",
   "id": "9d0155c6-3f9f-48b3-9b1e-947b4c342ab4",
   "metadata": {},
   "source": [
    "## Table of Contents"
   ]
  },
  {
   "cell_type": "markdown",
   "id": "c9063a85-68b4-4561-a918-66d1b7020f3a",
   "metadata": {},
   "source": [
    "<H2><a href=\"IntroductionToNumpy.ipynb\">Introduction To Numpy</a></H2>"
   ]
  },
  {
   "cell_type": "markdown",
   "id": "2497d782-425c-49ba-93e5-fc1c138cb34d",
   "metadata": {},
   "source": [
    "<H2><a href=\"BooleanIndexingwithNumPy.ipynb\">Pandas And Numpy Fundamentals</a></H2>\n"
   ]
  },
  {
   "cell_type": "markdown",
   "id": "a159ee7c-121e-415a-b747-7462fda8ba28",
   "metadata": {},
   "source": [
    "<H2><a href=\"introductionToPandas.ipynb\">Introduction to Pandas</a></H2>\n"
   ]
  },
  {
   "cell_type": "markdown",
   "id": "b3c04f9c-8d7e-4f8c-a1c4-858720de9b34",
   "metadata": {},
   "source": [
    "<H2><a href=\"Exploring_Data_with_Pandas_Fundamentals.ipynb\">Exploring Data With Pandas Fundamentals</a></H2>\n"
   ]
  },
  {
   "cell_type": "markdown",
   "id": "80aaff3e-6172-49d4-a683-2248abb13728",
   "metadata": {},
   "source": [
    "<H2><a href=\"Exploring_Data_with_Pandas_Intermediate.ipynb\">Exploring Data With Pandas Intermediate</a></H2>\n"
   ]
  },
  {
   "cell_type": "markdown",
   "id": "1df2f537-c486-4067-9478-94ad4f288889",
   "metadata": {},
   "source": [
    "<H2><a href=\"Data_Cleaning_Basics.ipynb\">Data Cleaning Basics</a></H2>\n"
   ]
  },
  {
   "cell_type": "markdown",
   "id": "32b89815-71e6-4e1b-991b-d62b0ee22c32",
   "metadata": {},
   "source": [
    "<H2><a href=\"GuidedProjectExploringeBayCarSalesData.ipynb\">Guided Project Exploring Ebay Car Sales</a></H2>\n"
   ]
  },
  {
   "cell_type": "code",
   "execution_count": null,
   "id": "c3c67dbf-3d42-45b3-b39d-5d69b2145d5e",
   "metadata": {},
   "outputs": [],
   "source": []
  },
  {
   "cell_type": "code",
   "execution_count": null,
   "id": "b0ed98fa-f370-4cc1-92b4-97a000a36f7b",
   "metadata": {},
   "outputs": [],
   "source": []
  }
 ],
 "metadata": {
  "kernelspec": {
   "display_name": "Python 3 (ipykernel)",
   "language": "python",
   "name": "python3"
  },
  "language_info": {
   "codemirror_mode": {
    "name": "ipython",
    "version": 3
   },
   "file_extension": ".py",
   "mimetype": "text/x-python",
   "name": "python",
   "nbconvert_exporter": "python",
   "pygments_lexer": "ipython3",
   "version": "3.9.4"
  }
 },
 "nbformat": 4,
 "nbformat_minor": 5
}
