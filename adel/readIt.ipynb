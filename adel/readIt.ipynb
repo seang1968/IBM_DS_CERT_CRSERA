{
 "cells": [
  {
   "cell_type": "code",
   "execution_count": 14,
   "id": "f68c31a4-c979-42c3-83c3-7509a7b8617e",
   "metadata": {},
   "outputs": [],
   "source": [
    "from PyPDF2 import PdfFileReader, PdfFileWriter\n",
    "import PyPDF2"
   ]
  },
  {
   "cell_type": "code",
   "execution_count": 16,
   "id": "6ff84059-b119-4ed8-8739-49b9abaeb0e5",
   "metadata": {},
   "outputs": [
    {
     "name": "stdout",
     "output_type": "stream",
     "text": [
      "82\n"
     ]
    }
   ],
   "source": [
    "pdfFileObj = open('June_2022.pdf', 'rb')\n",
    "pdfReader = PyPDF2.PdfFileReader(pdfFileObj)\n",
    "print(pdfReader.numPages)\n",
    "pageObj0 = pdfReader.getPage(0)\n",
    "pageObj1 = pdfReader.getPage(1)\n",
    "output = PdfFileWriter()\n",
    "output.addPage(pageObj0)\n",
    "with open(\"Front_page.pdf\", \"wb\") as outputStream:\n",
    "    output.write(outputStream)\n",
    "output2 = PdfFileWriter()\n",
    "output2.addPage(pageObj1)\n",
    "with open(\"page2.pdf\", \"wb\") as outputStream:\n",
    "    output2.write(outputStream)"
   ]
  },
  {
   "cell_type": "code",
   "execution_count": null,
   "id": "e1e8f60b-f41c-4e07-a5e2-e940c8854b05",
   "metadata": {},
   "outputs": [],
   "source": []
  }
 ],
 "metadata": {
  "kernelspec": {
   "display_name": "Python 3 (ipykernel)",
   "language": "python",
   "name": "python3"
  },
  "language_info": {
   "codemirror_mode": {
    "name": "ipython",
    "version": 3
   },
   "file_extension": ".py",
   "mimetype": "text/x-python",
   "name": "python",
   "nbconvert_exporter": "python",
   "pygments_lexer": "ipython3",
   "version": "3.9.4"
  }
 },
 "nbformat": 4,
 "nbformat_minor": 5
}
