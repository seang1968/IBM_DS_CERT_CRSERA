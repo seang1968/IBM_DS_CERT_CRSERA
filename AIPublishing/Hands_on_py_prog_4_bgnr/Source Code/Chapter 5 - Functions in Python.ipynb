{
 "cells": [
  {
   "cell_type": "markdown",
   "metadata": {},
   "source": [
    "## 5.2 Defining and Calling a Python Function"
   ]
  },
  {
   "cell_type": "code",
   "execution_count": 1,
   "metadata": {},
   "outputs": [],
   "source": [
    "# defining a function named my_function\n",
    "def my_function():\n",
    "    print(\"This is my first function\")"
   ]
  },
  {
   "cell_type": "code",
   "execution_count": 2,
   "metadata": {},
   "outputs": [
    {
     "name": "stdout",
     "output_type": "stream",
     "text": [
      "This is my first function\n"
     ]
    }
   ],
   "source": [
    "# calling the my_function() function\n",
    "my_function()"
   ]
  },
  {
   "cell_type": "code",
   "execution_count": 1,
   "metadata": {},
   "outputs": [],
   "source": [
    "def print_eight():\n",
    "    for i in range(1,11):\n",
    "        print(\"8 x \", str(i), \" = \", str(8*i))"
   ]
  },
  {
   "cell_type": "code",
   "execution_count": 2,
   "metadata": {},
   "outputs": [
    {
     "name": "stdout",
     "output_type": "stream",
     "text": [
      "8 x  1  =  8\n",
      "8 x  2  =  16\n",
      "8 x  3  =  24\n",
      "8 x  4  =  32\n",
      "8 x  5  =  40\n",
      "8 x  6  =  48\n",
      "8 x  7  =  56\n",
      "8 x  8  =  64\n",
      "8 x  9  =  72\n",
      "8 x  10  =  80\n"
     ]
    }
   ],
   "source": [
    "print_eight()"
   ]
  },
  {
   "cell_type": "markdown",
   "metadata": {},
   "source": [
    "## 5.3 Parameterized Functions"
   ]
  },
  {
   "cell_type": "code",
   "execution_count": 4,
   "metadata": {},
   "outputs": [],
   "source": [
    "def show_custom_message(my_message):\n",
    "    for _ in range(5):\n",
    "        print(_, my_message)"
   ]
  },
  {
   "cell_type": "code",
   "execution_count": 5,
   "metadata": {},
   "outputs": [
    {
     "name": "stdout",
     "output_type": "stream",
     "text": [
      "0 Hello, this is a parameterized function\n",
      "1 Hello, this is a parameterized function\n",
      "2 Hello, this is a parameterized function\n",
      "3 Hello, this is a parameterized function\n",
      "4 Hello, this is a parameterized function\n"
     ]
    }
   ],
   "source": [
    "show_custom_message(\"Hello, this is a parameterized function\")"
   ]
  },
  {
   "cell_type": "code",
   "execution_count": 6,
   "metadata": {},
   "outputs": [],
   "source": [
    "def show_custom_message(my_message, count):\n",
    "    for _ in range(count):\n",
    "        print(_, my_message)"
   ]
  },
  {
   "cell_type": "code",
   "execution_count": 7,
   "metadata": {},
   "outputs": [
    {
     "name": "stdout",
     "output_type": "stream",
     "text": [
      "0 Hello, this is a parameterized function\n",
      "1 Hello, this is a parameterized function\n",
      "2 Hello, this is a parameterized function\n",
      "3 Hello, this is a parameterized function\n",
      "4 Hello, this is a parameterized function\n",
      "5 Hello, this is a parameterized function\n",
      "6 Hello, this is a parameterized function\n",
      "7 Hello, this is a parameterized function\n",
      "8 Hello, this is a parameterized function\n",
      "9 Hello, this is a parameterized function\n"
     ]
    }
   ],
   "source": [
    "show_custom_message(\"Hello, this is a parameterized function\", 10)"
   ]
  },
  {
   "cell_type": "code",
   "execution_count": 9,
   "metadata": {},
   "outputs": [],
   "source": [
    "def add_numbers(a,b,c):\n",
    "    result = a + b + c\n",
    "    print(result)"
   ]
  },
  {
   "cell_type": "code",
   "execution_count": 10,
   "metadata": {},
   "outputs": [
    {
     "name": "stdout",
     "output_type": "stream",
     "text": [
      "57\n"
     ]
    }
   ],
   "source": [
    "add_numbers(10, 12, 35)"
   ]
  },
  {
   "cell_type": "code",
   "execution_count": 11,
   "metadata": {},
   "outputs": [],
   "source": [
    "def display_table(num):\n",
    "    for i in range(1,11):\n",
    "        print(str(num),\" x \", str(i), \" = \", str(num*i))"
   ]
  },
  {
   "cell_type": "code",
   "execution_count": 12,
   "metadata": {},
   "outputs": [
    {
     "name": "stdout",
     "output_type": "stream",
     "text": [
      "7  x  1  =  7\n",
      "7  x  2  =  14\n",
      "7  x  3  =  21\n",
      "7  x  4  =  28\n",
      "7  x  5  =  35\n",
      "7  x  6  =  42\n",
      "7  x  7  =  49\n",
      "7  x  8  =  56\n",
      "7  x  9  =  63\n",
      "7  x  10  =  70\n"
     ]
    }
   ],
   "source": [
    "display_table(7)"
   ]
  },
  {
   "cell_type": "markdown",
   "metadata": {},
   "source": [
    "## 5.4 Return Values from Functions"
   ]
  },
  {
   "cell_type": "code",
   "execution_count": 13,
   "metadata": {},
   "outputs": [],
   "source": [
    "def add_numbers(a,b,c):\n",
    "    result = a + b + c\n",
    "    print(result)"
   ]
  },
  {
   "cell_type": "code",
   "execution_count": 14,
   "metadata": {},
   "outputs": [
    {
     "name": "stdout",
     "output_type": "stream",
     "text": [
      "57\n"
     ]
    }
   ],
   "source": [
    "result = add_numbers(10, 12, 35)"
   ]
  },
  {
   "cell_type": "code",
   "execution_count": 15,
   "metadata": {},
   "outputs": [
    {
     "name": "stdout",
     "output_type": "stream",
     "text": [
      "None\n"
     ]
    }
   ],
   "source": [
    "print(result)"
   ]
  },
  {
   "cell_type": "code",
   "execution_count": 16,
   "metadata": {},
   "outputs": [],
   "source": [
    "def add_numbers(a,b,c):\n",
    "    result = a + b + c\n",
    "    return result # return keyword returns values"
   ]
  },
  {
   "cell_type": "code",
   "execution_count": 17,
   "metadata": {},
   "outputs": [],
   "source": [
    "result = add_numbers(10, 12, 35)"
   ]
  },
  {
   "cell_type": "code",
   "execution_count": 18,
   "metadata": {},
   "outputs": [
    {
     "name": "stdout",
     "output_type": "stream",
     "text": [
      "57\n"
     ]
    }
   ],
   "source": [
    "print(result)"
   ]
  },
  {
   "cell_type": "code",
   "execution_count": 19,
   "metadata": {},
   "outputs": [],
   "source": [
    "def take_cubes(a,b,c):\n",
    "    a3 = a ** 3\n",
    "    b3 = b ** 3\n",
    "    c3 = c ** 3\n",
    "    \n",
    "    return a3, b3, c3"
   ]
  },
  {
   "cell_type": "code",
   "execution_count": 20,
   "metadata": {},
   "outputs": [
    {
     "name": "stdout",
     "output_type": "stream",
     "text": [
      "8\n",
      "64\n",
      "216\n"
     ]
    }
   ],
   "source": [
    "x, y, z = take_cubes(2,4,6)\n",
    "print(x)\n",
    "print(y)\n",
    "print(z)"
   ]
  },
  {
   "cell_type": "markdown",
   "metadata": {},
   "source": [
    "## 5.5. Global and Local Variables and Functions in Python"
   ]
  },
  {
   "cell_type": "code",
   "execution_count": 21,
   "metadata": {},
   "outputs": [],
   "source": [
    "#global variable \n",
    "num1 = 10\n",
    "\n",
    "def add_ten():\n",
    "    #local variable\n",
    "    num2 = 5 \n",
    "    result = num2 + num1\n",
    "    \n",
    "    print(result)"
   ]
  },
  {
   "cell_type": "code",
   "execution_count": 22,
   "metadata": {},
   "outputs": [
    {
     "name": "stdout",
     "output_type": "stream",
     "text": [
      "15\n"
     ]
    }
   ],
   "source": [
    "add_ten()"
   ]
  },
  {
   "cell_type": "code",
   "execution_count": 23,
   "metadata": {},
   "outputs": [
    {
     "name": "stdout",
     "output_type": "stream",
     "text": [
      "10\n"
     ]
    },
    {
     "ename": "NameError",
     "evalue": "name 'num2' is not defined",
     "output_type": "error",
     "traceback": [
      "\u001b[1;31m---------------------------------------------------------------------------\u001b[0m",
      "\u001b[1;31mNameError\u001b[0m                                 Traceback (most recent call last)",
      "\u001b[1;32m<ipython-input-23-e9a560d8932e>\u001b[0m in \u001b[0;36m<module>\u001b[1;34m\u001b[0m\n\u001b[0;32m     10\u001b[0m \u001b[1;33m\u001b[0m\u001b[0m\n\u001b[0;32m     11\u001b[0m \u001b[0mprint\u001b[0m\u001b[1;33m(\u001b[0m\u001b[0mnum1\u001b[0m\u001b[1;33m)\u001b[0m\u001b[1;33m\u001b[0m\u001b[1;33m\u001b[0m\u001b[0m\n\u001b[1;32m---> 12\u001b[1;33m \u001b[0mprint\u001b[0m\u001b[1;33m(\u001b[0m\u001b[0mnum2\u001b[0m\u001b[1;33m)\u001b[0m\u001b[1;33m\u001b[0m\u001b[1;33m\u001b[0m\u001b[0m\n\u001b[0m",
      "\u001b[1;31mNameError\u001b[0m: name 'num2' is not defined"
     ]
    }
   ],
   "source": [
    "#global variable \n",
    "num1 = 10\n",
    "\n",
    "def add_ten():\n",
    "    #local variable\n",
    "    num2 = 5 \n",
    "    result = num2 + num1\n",
    "    \n",
    "    print(result)\n",
    "    \n",
    "print(num1)\n",
    "print(num2)"
   ]
  },
  {
   "cell_type": "code",
   "execution_count": 8,
   "metadata": {},
   "outputs": [],
   "source": [
    "def global_func():\n",
    "    print(\"This is a global function\")\n",
    "\n",
    "    def local_func():\n",
    "        print(\"This is a local function\")\n",
    "        \n",
    "    #calling the local function\n",
    "    local_func()"
   ]
  },
  {
   "cell_type": "code",
   "execution_count": 9,
   "metadata": {},
   "outputs": [
    {
     "name": "stdout",
     "output_type": "stream",
     "text": [
      "This is a global function\n",
      "This is a local function\n"
     ]
    }
   ],
   "source": [
    "#calling the global function\n",
    "global_func()"
   ]
  },
  {
   "cell_type": "code",
   "execution_count": 82,
   "metadata": {},
   "outputs": [
    {
     "ename": "NameError",
     "evalue": "name 'local_func' is not defined",
     "output_type": "error",
     "traceback": [
      "\u001b[1;31m---------------------------------------------------------------------------\u001b[0m",
      "\u001b[1;31mNameError\u001b[0m                                 Traceback (most recent call last)",
      "\u001b[1;32m<ipython-input-82-97bce0b6f8a0>\u001b[0m in \u001b[0;36m<module>\u001b[1;34m\u001b[0m\n\u001b[0;32m      1\u001b[0m \u001b[1;31m#calling the local or nested function\u001b[0m\u001b[1;33m\u001b[0m\u001b[1;33m\u001b[0m\u001b[1;33m\u001b[0m\u001b[0m\n\u001b[1;32m----> 2\u001b[1;33m \u001b[0mlocal_func\u001b[0m\u001b[1;33m(\u001b[0m\u001b[1;33m)\u001b[0m\u001b[1;33m\u001b[0m\u001b[1;33m\u001b[0m\u001b[0m\n\u001b[0m",
      "\u001b[1;31mNameError\u001b[0m: name 'local_func' is not defined"
     ]
    }
   ],
   "source": [
    "#calling the local or nested function\n",
    "local_func()"
   ]
  },
  {
   "cell_type": "markdown",
   "metadata": {},
   "source": [
    "## 5.6. Lambda Functions in Python"
   ]
  },
  {
   "cell_type": "code",
   "execution_count": 35,
   "metadata": {},
   "outputs": [],
   "source": [
    "square = lambda x: x * x"
   ]
  },
  {
   "cell_type": "code",
   "execution_count": 36,
   "metadata": {},
   "outputs": [
    {
     "name": "stdout",
     "output_type": "stream",
     "text": [
      "4\n"
     ]
    }
   ],
   "source": [
    "print(square (2))"
   ]
  },
  {
   "cell_type": "code",
   "execution_count": null,
   "metadata": {},
   "outputs": [],
   "source": [
    "def add_numbers(a,b,c):\n",
    "    result = a + b + c\n",
    "    return result"
   ]
  },
  {
   "cell_type": "code",
   "execution_count": 38,
   "metadata": {},
   "outputs": [],
   "source": [
    "add_numbers2 = lambda a , b, c:  a + b + c"
   ]
  },
  {
   "cell_type": "code",
   "execution_count": 39,
   "metadata": {},
   "outputs": [
    {
     "name": "stdout",
     "output_type": "stream",
     "text": [
      "57\n"
     ]
    }
   ],
   "source": [
    "print(add_numbers2(10, 12, 35))"
   ]
  },
  {
   "cell_type": "code",
   "execution_count": 42,
   "metadata": {},
   "outputs": [],
   "source": [
    "cube = lambda x, y: (x **3, y**3)"
   ]
  },
  {
   "cell_type": "code",
   "execution_count": 43,
   "metadata": {},
   "outputs": [
    {
     "name": "stdout",
     "output_type": "stream",
     "text": [
      "(27, 125)\n"
     ]
    }
   ],
   "source": [
    "print(cube(3,5))"
   ]
  },
  {
   "cell_type": "markdown",
   "metadata": {},
   "source": [
    "## 5.7. Recursive Functions in Python"
   ]
  },
  {
   "cell_type": "code",
   "execution_count": 40,
   "metadata": {},
   "outputs": [],
   "source": [
    "def my_func(num):\n",
    "    if num == 0:\n",
    "        return\n",
    "    else:\n",
    "        my_func(num - 1)\n",
    "        print(\"The function is called recursively for\", str(num), \"times\")"
   ]
  },
  {
   "cell_type": "code",
   "execution_count": 41,
   "metadata": {},
   "outputs": [
    {
     "name": "stdout",
     "output_type": "stream",
     "text": [
      "The function is called recursively for 1 times\n",
      "The function is called recursively for 2 times\n",
      "The function is called recursively for 3 times\n",
      "The function is called recursively for 4 times\n",
      "The function is called recursively for 5 times\n",
      "The function is called recursively for 6 times\n",
      "The function is called recursively for 7 times\n"
     ]
    }
   ],
   "source": [
    "my_func(7)"
   ]
  },
  {
   "cell_type": "code",
   "execution_count": 10,
   "metadata": {},
   "outputs": [],
   "source": [
    "def take_fact(num):\n",
    "    print(f\"current number is {num}\")\n",
    "    if num == 1:\n",
    "        return 1\n",
    "    else:\n",
    "        fact = num * take_fact(num - 1)\n",
    "        return fact\n"
   ]
  },
  {
   "cell_type": "code",
   "execution_count": 11,
   "metadata": {},
   "outputs": [
    {
     "name": "stdout",
     "output_type": "stream",
     "text": [
      "current number is 8\n",
      "current number is 7\n",
      "current number is 6\n",
      "current number is 5\n",
      "current number is 4\n",
      "current number is 3\n",
      "current number is 2\n",
      "current number is 1\n"
     ]
    },
    {
     "data": {
      "text/plain": [
       "40320"
      ]
     },
     "execution_count": 11,
     "metadata": {},
     "output_type": "execute_result"
    }
   ],
   "source": [
    "take_fact(8)"
   ]
  },
  {
   "cell_type": "markdown",
   "metadata": {},
   "source": [
    "## 5.8. Function Decorators in Python"
   ]
  },
  {
   "cell_type": "code",
   "execution_count": 12,
   "metadata": {},
   "outputs": [],
   "source": [
    "def my_function():\n",
    "    \n",
    "    print(\"This is my first function\")"
   ]
  },
  {
   "cell_type": "code",
   "execution_count": 13,
   "metadata": {},
   "outputs": [
    {
     "data": {
      "text/plain": [
       "<function __main__.my_function()>"
      ]
     },
     "execution_count": 13,
     "metadata": {},
     "output_type": "execute_result"
    }
   ],
   "source": [
    "my_function"
   ]
  },
  {
   "cell_type": "markdown",
   "metadata": {},
   "source": [
    "### 5.8.1. Returning a Function"
   ]
  },
  {
   "cell_type": "code",
   "execution_count": 92,
   "metadata": {},
   "outputs": [],
   "source": [
    "def global_func():\n",
    "    print(\"This is a global function\")\n",
    "\n",
    "    def local_func():\n",
    "        print(\"This is a local function\")\n",
    "        \n",
    "    #returning the local function\n",
    "    return local_func"
   ]
  },
  {
   "cell_type": "code",
   "execution_count": 93,
   "metadata": {},
   "outputs": [
    {
     "name": "stdout",
     "output_type": "stream",
     "text": [
      "This is a global function\n"
     ]
    }
   ],
   "source": [
    "my_func = global_func()"
   ]
  },
  {
   "cell_type": "code",
   "execution_count": 94,
   "metadata": {},
   "outputs": [
    {
     "name": "stdout",
     "output_type": "stream",
     "text": [
      "<function global_func.<locals>.local_func at 0x0000025310DBB670>\n"
     ]
    }
   ],
   "source": [
    "print(my_func)"
   ]
  },
  {
   "cell_type": "code",
   "execution_count": 95,
   "metadata": {},
   "outputs": [
    {
     "name": "stdout",
     "output_type": "stream",
     "text": [
      "This is a local function\n"
     ]
    }
   ],
   "source": [
    "my_func()"
   ]
  },
  {
   "cell_type": "markdown",
   "metadata": {},
   "source": [
    "### 5.8.2. Passing a Function as a Parameter"
   ]
  },
  {
   "cell_type": "code",
   "execution_count": 96,
   "metadata": {},
   "outputs": [],
   "source": [
    "def function1(my_func):\n",
    "    print(\"This is from the original function\")\n",
    "    \n",
    "    #calling function passed as a parameter\n",
    "    my_func()\n",
    "    \n",
    "def function2():\n",
    "    print(\"This function is passed as a parameter\")"
   ]
  },
  {
   "cell_type": "code",
   "execution_count": 98,
   "metadata": {},
   "outputs": [
    {
     "name": "stdout",
     "output_type": "stream",
     "text": [
      "This is from the original function\n",
      "This function is passed as a parameter\n"
     ]
    }
   ],
   "source": [
    "#passing a function as a parameter in a function call\n",
    "function1(function2)"
   ]
  },
  {
   "cell_type": "markdown",
   "metadata": {},
   "source": [
    "### 5.8.3. Creating Decorators"
   ]
  },
  {
   "cell_type": "code",
   "execution_count": 103,
   "metadata": {},
   "outputs": [],
   "source": [
    "def decorator_function(orignal_function):\n",
    "\n",
    "    def extended_function():\n",
    "        print(\"This line executes before the original function\")\n",
    "\n",
    "        orignal_function()\n",
    "\n",
    "        print(\"This line executes after the original function\")\n",
    "\n",
    "    return extended_function"
   ]
  },
  {
   "cell_type": "code",
   "execution_count": 104,
   "metadata": {},
   "outputs": [],
   "source": [
    "def my_original_function():\n",
    "    print(\"This is the orignal function that is extended by the extended function\")\n"
   ]
  },
  {
   "cell_type": "code",
   "execution_count": 105,
   "metadata": {},
   "outputs": [],
   "source": [
    "extended_function = decorator_function(my_original_function)"
   ]
  },
  {
   "cell_type": "code",
   "execution_count": 106,
   "metadata": {},
   "outputs": [
    {
     "name": "stdout",
     "output_type": "stream",
     "text": [
      "This line executes before the original function\n",
      "This is the orignal function that is extended by the extended function\n",
      "This line executes after the original function\n"
     ]
    }
   ],
   "source": [
    "extended_function()"
   ]
  },
  {
   "cell_type": "code",
   "execution_count": 107,
   "metadata": {},
   "outputs": [],
   "source": [
    "@decorator_function\n",
    "def my_original_function2():\n",
    "    print(\"This function is extended usnig @ symbol with decorator\")"
   ]
  },
  {
   "cell_type": "code",
   "execution_count": 108,
   "metadata": {},
   "outputs": [
    {
     "name": "stdout",
     "output_type": "stream",
     "text": [
      "This line executes before the original function\n",
      "This function is extended usnig @ symbol with decorator\n",
      "This line executes after the original function\n"
     ]
    }
   ],
   "source": [
    "my_original_function2()"
   ]
  },
  {
   "cell_type": "markdown",
   "metadata": {},
   "source": [
    "## 5.9. Iterators and Generators in Python"
   ]
  },
  {
   "cell_type": "markdown",
   "metadata": {},
   "source": [
    "### 5.9.1. Python Iteratators"
   ]
  },
  {
   "cell_type": "code",
   "execution_count": 111,
   "metadata": {},
   "outputs": [
    {
     "name": "stdout",
     "output_type": "stream",
     "text": [
      "Red\n",
      "Green\n",
      "Blue\n",
      "Orange\n"
     ]
    }
   ],
   "source": [
    "colors = [\"Red\", \"Green\", \"Blue\", \"Orange\"]\n",
    "\n",
    "my_iterator = iter(colors)\n",
    "\n",
    "print(next(my_iterator))\n",
    "print(next(my_iterator))\n",
    "print(next(my_iterator))\n",
    "print(next(my_iterator))"
   ]
  },
  {
   "cell_type": "code",
   "execution_count": 112,
   "metadata": {},
   "outputs": [
    {
     "ename": "StopIteration",
     "evalue": "",
     "output_type": "error",
     "traceback": [
      "\u001b[1;31m---------------------------------------------------------------------------\u001b[0m",
      "\u001b[1;31mStopIteration\u001b[0m                             Traceback (most recent call last)",
      "\u001b[1;32m<ipython-input-112-8b90ca3bf810>\u001b[0m in \u001b[0;36m<module>\u001b[1;34m\u001b[0m\n\u001b[1;32m----> 1\u001b[1;33m \u001b[0mprint\u001b[0m\u001b[1;33m(\u001b[0m\u001b[0mnext\u001b[0m\u001b[1;33m(\u001b[0m\u001b[0mmy_iterator\u001b[0m\u001b[1;33m)\u001b[0m\u001b[1;33m)\u001b[0m\u001b[1;33m\u001b[0m\u001b[1;33m\u001b[0m\u001b[0m\n\u001b[0m",
      "\u001b[1;31mStopIteration\u001b[0m: "
     ]
    }
   ],
   "source": [
    "print(next(my_iterator))"
   ]
  },
  {
   "cell_type": "markdown",
   "metadata": {},
   "source": [
    "### 5.9.2. Python Generator"
   ]
  },
  {
   "cell_type": "code",
   "execution_count": 144,
   "metadata": {},
   "outputs": [],
   "source": [
    "def get_evens(num):\n",
    "    \n",
    "    x = 0\n",
    "    while x < num:\n",
    "        yield x\n",
    "        x = x + 2"
   ]
  },
  {
   "cell_type": "code",
   "execution_count": 135,
   "metadata": {},
   "outputs": [],
   "source": [
    "nums = get_evens(11)"
   ]
  },
  {
   "cell_type": "code",
   "execution_count": 136,
   "metadata": {},
   "outputs": [
    {
     "name": "stdout",
     "output_type": "stream",
     "text": [
      "0\n",
      "2\n",
      "4\n",
      "6\n",
      "8\n",
      "10\n"
     ]
    }
   ],
   "source": [
    "print(nums.__next__())\n",
    "print(nums.__next__())\n",
    "print(nums.__next__())\n",
    "print(nums.__next__())\n",
    "print(nums.__next__())\n",
    "print(nums.__next__())"
   ]
  },
  {
   "cell_type": "code",
   "execution_count": 137,
   "metadata": {},
   "outputs": [
    {
     "ename": "StopIteration",
     "evalue": "",
     "output_type": "error",
     "traceback": [
      "\u001b[1;31m---------------------------------------------------------------------------\u001b[0m",
      "\u001b[1;31mStopIteration\u001b[0m                             Traceback (most recent call last)",
      "\u001b[1;32m<ipython-input-137-6bb3b2d9d35a>\u001b[0m in \u001b[0;36m<module>\u001b[1;34m\u001b[0m\n\u001b[1;32m----> 1\u001b[1;33m \u001b[0mprint\u001b[0m\u001b[1;33m(\u001b[0m\u001b[0mnums\u001b[0m\u001b[1;33m.\u001b[0m\u001b[0m__next__\u001b[0m\u001b[1;33m(\u001b[0m\u001b[1;33m)\u001b[0m\u001b[1;33m)\u001b[0m\u001b[1;33m\u001b[0m\u001b[1;33m\u001b[0m\u001b[0m\n\u001b[0m",
      "\u001b[1;31mStopIteration\u001b[0m: "
     ]
    }
   ],
   "source": [
    "print(nums.__next__())"
   ]
  },
  {
   "cell_type": "code",
   "execution_count": 145,
   "metadata": {},
   "outputs": [
    {
     "name": "stdout",
     "output_type": "stream",
     "text": [
      "0\n",
      "2\n",
      "4\n",
      "6\n",
      "8\n",
      "10\n"
     ]
    }
   ],
   "source": [
    "for i in get_evens(11):\n",
    "    print(i)"
   ]
  },
  {
   "cell_type": "markdown",
   "metadata": {},
   "source": [
    "## Exercise 5.1"
   ]
  },
  {
   "cell_type": "markdown",
   "metadata": {},
   "source": [
    "\n",
    "**Question 1:**\n",
    "\n",
    "A Python function can return:\n",
    "\n",
    "\n",
    "A. a single value\n",
    "\n",
    "B. multiple values\n",
    "\n",
    "C. functions\n",
    " \n",
    "D. all of the Above\n",
    "\n",
    "\n",
    "**Answer: D**\n",
    "\n",
    "    \n",
    "\n",
    "**Question 2:**\n",
    "\n",
    "You can define multiple expressions in a lambda function using:\n",
    "\n",
    "\n",
    "A. lists\n",
    "\n",
    "B. tuples\n",
    "\n",
    "C. dictionaries\n",
    " \n",
    "D. None of the Above\n",
    "\n",
    "**Answer: B**\n",
    "\n",
    "    \n",
    "    \n",
    "**Question 3:**\n",
    "\n",
    "A nested function defined inside an outer function can be:?\n",
    "\n",
    "\n",
    "A. accessed only inside the outer function\n",
    "\n",
    "B. accessed anywhere in the code\n",
    "\n",
    "C. accessed in the same class\n",
    "\n",
    "D. all of the above\n",
    "\n",
    "**Answer: A**"
   ]
  },
  {
   "cell_type": "markdown",
   "metadata": {},
   "source": [
    "## Exercise 5.2"
   ]
  },
  {
   "cell_type": "markdown",
   "metadata": {},
   "source": [
    "Write a function that calculates and prints the first N numbers of the fibonnaci series, where N is any integer.\n",
    "In fibonnaci series, the next number is the sum of the previous two numbers for example:\n",
    "\n",
    "\n",
    "1 = 1  = 1\n",
    "\n",
    "2 = 1 + 0 = 1\n",
    "\n",
    "3 = 1 + 1 = 2\n",
    "\n",
    "4 = 2 + 1 = 3\n",
    "\n",
    "5 = 3 + 2 = 5\n",
    "\n",
    "6 = 5 + 3 = 8\n",
    "\n",
    "7 = 8 + 5 = 13\n",
    "\n",
    "8 = 13 + 8 = 21"
   ]
  },
  {
   "cell_type": "markdown",
   "metadata": {},
   "source": [
    "**Solution:**"
   ]
  },
  {
   "cell_type": "code",
   "execution_count": 170,
   "metadata": {},
   "outputs": [
    {
     "data": {
      "text/plain": [
       "21"
      ]
     },
     "execution_count": 170,
     "metadata": {},
     "output_type": "execute_result"
    }
   ],
   "source": [
    "def get_fib(num):\n",
    "    if num == 1 or num == 2:\n",
    "        return 1\n",
    "    else:\n",
    "        return get_fib(num-1) + get_fib(num-2)\n",
    "\n",
    "get_fib(8)"
   ]
  }
 ],
 "metadata": {
  "kernelspec": {
   "display_name": "Python 3 (ipykernel)",
   "language": "python",
   "name": "python3"
  },
  "language_info": {
   "codemirror_mode": {
    "name": "ipython",
    "version": 3
   },
   "file_extension": ".py",
   "mimetype": "text/x-python",
   "name": "python",
   "nbconvert_exporter": "python",
   "pygments_lexer": "ipython3",
   "version": "3.9.4"
  }
 },
 "nbformat": 4,
 "nbformat_minor": 4
}
