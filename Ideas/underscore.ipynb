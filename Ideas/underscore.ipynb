{
 "cells": [
  {
   "cell_type": "markdown",
   "id": "16e2c8cd-210b-438d-a4aa-1719d9483904",
   "metadata": {},
   "source": [
    "<a href=\"https://www.nbshare.io/notebook/287240024/Python-Underscore/\">Source</a>"
   ]
  },
  {
   "cell_type": "markdown",
   "id": "4788bd26-81ec-4e66-bd79-257abf982ead",
   "metadata": {},
   "source": [
    "`<html>\n",
    "<head>\n",
    "</head>\n",
    "<body>\n",
    "<h1\n",
    "style=\"font-weight: 500; line-height: 1.2; margin-top: 0px; font-family: Roboto; padding-top: 20px; color: rgb(33, 37, 41); font-style: normal; letter-spacing: normal; orphans: 2; text-align: left; text-indent: 0px; text-transform: none; white-space: normal; widows: 2; word-spacing: 0px; background-color: rgb(255, 255, 255);\">Python\n",
    "Underscore</h1>\n",
    "<p\n",
    "style=\"margin-top: 0px; color: rgb(33, 37, 41); font-family: &quot;Segoe UI&quot;,Tahoma,sans-serif; font-size: 20px; font-style: normal; font-weight: 400; letter-spacing: normal; orphans: 2; text-align: left; text-indent: 0px; text-transform: none; white-space: normal; widows: 2; word-spacing: 0px; background-color: rgb(255, 255, 255);\">The\n",
    "underscore (_) is not a simple character in Python. While in most\n",
    "languages it is only used to name functions and variables in the\n",
    "snake-case, in Python it is much more widely used. Most likely, you\n",
    "have already seen constructions for _ in range (10) or __init __ (self).</p>\n",
    "<p\n",
    "style=\"margin-top: 0px; color: rgb(33, 37, 41); font-family: &quot;Segoe UI&quot;,Tahoma,sans-serif; font-size: 20px; font-style: normal; font-weight: 400; letter-spacing: normal; orphans: 2; text-align: left; text-indent: 0px; text-transform: none; white-space: normal; widows: 2; word-spacing: 0px; background-color: rgb(255, 255, 255);\">In\n",
    "this chapter we’ll discuss the following five underscore patterns and\n",
    "naming conventions, and how they affect the behavior of your Python\n",
    "programs:</p>\n",
    "<ol\n",
    "style=\"margin-top: 0px; color: rgb(33, 37, 41); font-family: &quot;Segoe UI&quot;,Tahoma,sans-serif; font-size: 20px; font-style: normal; font-weight: 400; letter-spacing: normal; orphans: 2; text-align: left; text-indent: 0px; text-transform: none; white-space: normal; widows: 2; word-spacing: 0px; background-color: rgb(255, 255, 255);\">\n",
    "<li style=\"\">To store the last value in REPL (Read, Evaluate, Print,\n",
    "Loop).</li>\n",
    "<li style=\"\">To ignore unimportant values.</li>\n",
    "<li style=\"\">To assign a special value to a function or variable.</li>\n",
    "<li style=\"\">As an alias for internationalization and localization\n",
    "functions.</li>\n",
    "<li style=\"\">Splitting numbers into digits.</li>\n",
    "</ol>\n",
    "<p\n",
    "style=\"margin-top: 0px; color: rgb(33, 37, 41); font-family: &quot;Segoe UI&quot;,Tahoma,sans-serif; font-size: 20px; font-style: normal; font-weight: 400; letter-spacing: normal; orphans: 2; text-align: left; text-indent: 0px; text-transform: none; white-space: normal; widows: 2; word-spacing: 0px; background-color: rgb(255, 255, 255);\">And\n",
    "now let's look at each list item in more detail.</p>\n",
    "<h2 id=\"underscore-in-python-repl\"\n",
    "style=\"font-weight: 500; margin-top: 0px; line-height: 1.2; font-family: Roboto; padding-top: 20px; color: rgb(33, 37, 41); font-style: normal; letter-spacing: normal; orphans: 2; text-align: left; text-indent: 0px; text-transform: none; white-space: normal; widows: 2; word-spacing: 0px; background-color: rgb(255, 255, 255);\">Underscore\n",
    "In Python REPL</h2>\n",
    "<p\n",
    "style=\"margin-top: 0px; color: rgb(33, 37, 41); font-family: &quot;Segoe UI&quot;,Tahoma,sans-serif; font-size: 20px; font-style: normal; font-weight: 400; letter-spacing: normal; orphans: 2; text-align: left; text-indent: 0px; text-transform: none; white-space: normal; widows: 2; word-spacing: 0px; background-color: rgb(255, 255, 255);\">The\n",
    "interpreter in the interactive mode stores the last calculated value in\n",
    "a special variable _. This feature first appeared in CPython, but is\n",
    "now supported by all major interpreters.</p>\n",
    "</body>\n",
    "</html>\n",
    "\n"
   ]
  },
  {
   "cell_type": "code",
   "execution_count": 1,
   "id": "83e6d764-5eb6-4a72-ae5c-b36fe19533ca",
   "metadata": {},
   "outputs": [
    {
     "data": {
      "text/plain": [
       "10"
      ]
     },
     "execution_count": 1,
     "metadata": {},
     "output_type": "execute_result"
    }
   ],
   "source": [
    "10"
   ]
  },
  {
   "cell_type": "code",
   "execution_count": 2,
   "id": "27194af2-5a3b-497d-9f79-0d8bdd5f365f",
   "metadata": {},
   "outputs": [
    {
     "data": {
      "text/plain": [
       "10"
      ]
     },
     "execution_count": 2,
     "metadata": {},
     "output_type": "execute_result"
    }
   ],
   "source": [
    "_"
   ]
  },
  {
   "cell_type": "code",
   "execution_count": 3,
   "id": "e25b1e2d-93ea-44dc-956b-0a1d557691da",
   "metadata": {},
   "outputs": [
    {
     "data": {
      "text/plain": [
       "30"
      ]
     },
     "execution_count": 3,
     "metadata": {},
     "output_type": "execute_result"
    }
   ],
   "source": [
    "_ * 3"
   ]
  },
  {
   "cell_type": "code",
   "execution_count": 4,
   "id": "08faa009-ed80-4b91-8ba6-3111ca303409",
   "metadata": {},
   "outputs": [
    {
     "data": {
      "text/plain": [
       "90"
      ]
     },
     "execution_count": 4,
     "metadata": {},
     "output_type": "execute_result"
    }
   ],
   "source": [
    "_ * 3"
   ]
  },
  {
   "cell_type": "markdown",
   "id": "019a25bc-c63c-46e3-a0ef-6dab2a2d73ec",
   "metadata": {},
   "source": [
    "<html>\n",
    "<head>\n",
    "</head>\n",
    "<body>\n",
    "<h2 id=\"python-underscore-variable\"\n",
    "style=\"font-weight: 500; margin-top: 0px; line-height: 1.2; font-family: Roboto; padding-top: 20px; color: rgb(33, 37, 41); font-style: normal; letter-spacing: normal; orphans: 2; text-align: left; text-indent: 0px; text-transform: none; white-space: normal; widows: 2; word-spacing: 0px; background-color: rgb(255, 255, 255);\">Python\n",
    "Underscore Variable</h2>\n",
    "<p\n",
    "style=\"margin-top: 0px; color: rgb(33, 37, 41); font-family: &quot;Segoe UI&quot;,Tahoma,sans-serif; font-size: 20px; font-style: normal; font-weight: 400; letter-spacing: normal; orphans: 2; text-align: left; text-indent: 0px; text-transform: none; white-space: normal; widows: 2; word-spacing: 0px; background-color: rgb(255, 255, 255);\">Underscoring\n",
    "is also used to ignore values. If you do not want to use some value -\n",
    "assign it to the variable _.</p>\n",
    "<p\n",
    "style=\"margin-top: 0px; color: rgb(33, 37, 41); font-family: &quot;Segoe UI&quot;,Tahoma,sans-serif; font-size: 20px; font-style: normal; font-weight: 400; letter-spacing: normal; orphans: 2; text-align: left; text-indent: 0px; text-transform: none; white-space: normal; widows: 2; word-spacing: 0px; background-color: rgb(255, 255, 255);\">In\n",
    "the following code example, we’re unpacking number from tuple in\n",
    "separated variables.</p>\n",
    "<p\n",
    "style=\"margin-top: 0px; color: rgb(33, 37, 41); font-family: &quot;Segoe UI&quot;,Tahoma,sans-serif; font-size: 20px; font-style: normal; font-weight: 400; letter-spacing: normal; orphans: 2; text-align: left; text-indent: 0px; text-transform: none; white-space: normal; widows: 2; word-spacing: 0px; background-color: rgb(255, 255, 255);\">But\n",
    "for example, we are only interested in the first and last values.\n",
    "However, in order for the unpacking expression to succeed, I need to\n",
    "assign all values contained in the tuple to variables.</p>\n",
    "</body>\n",
    "</html>\n",
    "\n"
   ]
  },
  {
   "cell_type": "code",
   "execution_count": 5,
   "id": "95535d0b-5885-44f5-b7ee-df30374c91e0",
   "metadata": {},
   "outputs": [],
   "source": [
    "# ignore when unpacking\n",
    "x, _, _, y = (1, 2, 3, 4) # x = 1, y = 4"
   ]
  },
  {
   "cell_type": "code",
   "execution_count": 7,
   "id": "ad11b0fc-92e7-4d9f-be7d-5d9c1b916084",
   "metadata": {},
   "outputs": [
    {
     "name": "stdout",
     "output_type": "stream",
     "text": [
      "1 5\n"
     ]
    }
   ],
   "source": [
    "# ignore multiple values,Python 3.x only\n",
    "x, *_, y = (1, 2, 3, 4, 5) \n",
    "# x = 1, y = 5\n",
    "print(x,y)"
   ]
  },
  {
   "cell_type": "code",
   "execution_count": 9,
   "id": "4a42d6c8-788a-4904-9456-8f636b714de1",
   "metadata": {},
   "outputs": [],
   "source": [
    "def do_something():\n",
    "    pass\n",
    "# ignore the index\n",
    "for _ in range(10):\n",
    "    do_something()"
   ]
  },
  {
   "cell_type": "code",
   "execution_count": 10,
   "id": "eb68d30c-5466-452e-9852-0e1bbc29e268",
   "metadata": {},
   "outputs": [
    {
     "name": "stdout",
     "output_type": "stream",
     "text": [
      "a\n",
      "b\n"
     ]
    }
   ],
   "source": [
    "# or some specific value\n",
    "list_of_tuple=[(1,'a'),(2,'b')]\n",
    "for _, val in list_of_tuple:\n",
    "    print(val)"
   ]
  },
  {
   "cell_type": "markdown",
   "id": "168566ff-b7bb-4a57-8a24-c388d452a321",
   "metadata": {},
   "source": [
    "<html>\n",
    "<head>\n",
    "</head>\n",
    "<body>\n",
    "<p\n",
    "style=\"margin-top: 0px; color: rgb(33, 37, 41); font-family: &quot;Segoe UI&quot;,Tahoma,sans-serif; font-size: 20px; font-style: normal; font-weight: 400; letter-spacing: normal; orphans: 2; text-align: left; text-indent: 0px; text-transform: none; white-space: normal; widows: 2; word-spacing: 0px; background-color: rgb(255, 255, 255);\">Underscoring\n",
    "is most often used in naming. PEP8 describes 4 cases of using\n",
    "underscores in names:</p>\n",
    "<h2 id=\"single-leading-underscore:-“_var”\"\n",
    "style=\"font-weight: 500; margin-top: 0px; line-height: 1.2; font-family: Roboto; padding-top: 20px; color: rgb(33, 37, 41); font-style: normal; letter-spacing: normal; orphans: 2; text-align: left; text-indent: 0px; text-transform: none; white-space: normal; widows: 2; word-spacing: 0px; background-color: rgb(255, 255, 255);\">Single\n",
    "Leading Underscore: “_var”</h2>\n",
    "<p\n",
    "style=\"margin-top: 0px; color: rgb(33, 37, 41); font-family: &quot;Segoe UI&quot;,Tahoma,sans-serif; font-size: 20px; font-style: normal; font-weight: 400; letter-spacing: normal; orphans: 2; text-align: left; text-indent: 0px; text-transform: none; white-space: normal; widows: 2; word-spacing: 0px; background-color: rgb(255, 255, 255);\">When\n",
    "it comes to variable and method names, the single underscore prefix has\n",
    "a meaning by convention only. It’s a hint to the programmer — it means\n",
    "what the Python community agrees it should mean, but it does not affect\n",
    "the behavior of your programs.</p>\n",
    "<p\n",
    "style=\"margin-top: 0px; color: rgb(33, 37, 41); font-family: &quot;Segoe UI&quot;,Tahoma,sans-serif; font-size: 20px; font-style: normal; font-weight: 400; letter-spacing: normal; orphans: 2; text-align: left; text-indent: 0px; text-transform: none; white-space: normal; widows: 2; word-spacing: 0px; background-color: rgb(255, 255, 255);\">The\n",
    "underscore prefix is meant as a hint to tell another programmer that a\n",
    "variable or method starting with a single underscore is intended for\n",
    "internal use. This convention is defined in PEP 8, the most commonly\n",
    "used Python code style guide.</p>\n",
    "<p\n",
    "style=\"margin-top: 0px; color: rgb(33, 37, 41); font-family: &quot;Segoe UI&quot;,Tahoma,sans-serif; font-size: 20px; font-style: normal; font-weight: 400; letter-spacing: normal; orphans: 2; text-align: left; text-indent: 0px; text-transform: none; white-space: normal; widows: 2; word-spacing: 0px; background-color: rgb(255, 255, 255);\">Take\n",
    "a look at the following example:</p>\n",
    "</body>\n",
    "</html>\n",
    "\n"
   ]
  },
  {
   "cell_type": "code",
   "execution_count": 11,
   "id": "110862bc-d90b-4336-bf8b-eee3c0f55449",
   "metadata": {},
   "outputs": [],
   "source": [
    "class Base:\n",
    "    def __init__(self):\n",
    "        self.var = 'var'\n",
    "        self._var = 'var with leading underscore'\n",
    "    def method(self):\n",
    "        return 'method is called'\n",
    "    def _method(self):\n",
    "        return 'method with leading underscore is called'"
   ]
  },
  {
   "cell_type": "markdown",
   "id": "e5da8f67-2b20-4d1e-8e93-78731846d35d",
   "metadata": {},
   "source": [
    "<html>\n",
    "<head>\n",
    "</head>\n",
    "<body>\n",
    "<p\n",
    "style=\"margin-top: 0px; color: rgb(33, 37, 41); font-family: &quot;Segoe UI&quot;,Tahoma,sans-serif; font-size: 20px; font-style: normal; font-weight: 400; letter-spacing: normal; orphans: 2; text-align: left; text-indent: 0px; text-transform: none; white-space: normal; widows: 2; word-spacing: 0px; background-color: rgb(255, 255, 255);\">What\n",
    "is going to happen if you instantiate Base class and try to access var,\n",
    "_var attributes defined in its __init__ constructor? And what about\n",
    "method and _method ?</p>\n",
    "<p\n",
    "style=\"margin-top: 0px; color: rgb(33, 37, 41); font-family: &quot;Segoe UI&quot;,Tahoma,sans-serif; font-size: 20px; font-style: normal; font-weight: 400; letter-spacing: normal; orphans: 2; text-align: left; text-indent: 0px; text-transform: none; white-space: normal; widows: 2; word-spacing: 0px; background-color: rgb(255, 255, 255);\">Let’s\n",
    "find out:</p>\n",
    "</body>\n",
    "</html>\n",
    "\n"
   ]
  },
  {
   "cell_type": "code",
   "execution_count": 12,
   "id": "7d4082c5-67c9-43bc-a387-e21ec1798866",
   "metadata": {},
   "outputs": [
    {
     "data": {
      "text/plain": [
       "'var'"
      ]
     },
     "execution_count": 12,
     "metadata": {},
     "output_type": "execute_result"
    }
   ],
   "source": [
    "base = Base()\n",
    "base.var"
   ]
  },
  {
   "cell_type": "code",
   "execution_count": 13,
   "id": "679a3ad8-98fa-4e0b-afbb-9ebb1d4fed9b",
   "metadata": {},
   "outputs": [
    {
     "data": {
      "text/plain": [
       "'var with leading underscore'"
      ]
     },
     "execution_count": 13,
     "metadata": {},
     "output_type": "execute_result"
    }
   ],
   "source": [
    "base._var"
   ]
  },
  {
   "cell_type": "code",
   "execution_count": 14,
   "id": "000551d0-715d-4893-92b1-15c4957a9323",
   "metadata": {},
   "outputs": [
    {
     "data": {
      "text/plain": [
       "'method is called'"
      ]
     },
     "execution_count": 14,
     "metadata": {},
     "output_type": "execute_result"
    }
   ],
   "source": [
    "base.method()"
   ]
  },
  {
   "cell_type": "code",
   "execution_count": 15,
   "id": "6df300c1-d0c2-4d38-b4b8-290ef205cba6",
   "metadata": {},
   "outputs": [
    {
     "data": {
      "text/plain": [
       "'method with leading underscore is called'"
      ]
     },
     "execution_count": 15,
     "metadata": {},
     "output_type": "execute_result"
    }
   ],
   "source": [
    "base._method()"
   ]
  },
  {
   "cell_type": "markdown",
   "id": "69a1bd27-c919-449d-bb56-c657b2bca9e6",
   "metadata": {},
   "source": [
    "<html>\n",
    "<head>\n",
    "</head>\n",
    "<body>\n",
    "<p\n",
    "style=\"margin-top: 0px; color: rgb(33, 37, 41); font-family: &quot;Segoe UI&quot;,Tahoma,sans-serif; font-size: 20px; font-style: normal; font-weight: 400; letter-spacing: normal; orphans: 2; text-align: left; text-indent: 0px; text-transform: none; white-space: normal; widows: 2; word-spacing: 0px; background-color: rgb(255, 255, 255);\">'method\n",
    "with leading underscore is called'</p>\n",
    "<p\n",
    "style=\"margin-top: 0px; color: rgb(33, 37, 41); font-family: &quot;Segoe UI&quot;,Tahoma,sans-serif; font-size: 20px; font-style: normal; font-weight: 400; letter-spacing: normal; orphans: 2; text-align: left; text-indent: 0px; text-transform: none; white-space: normal; widows: 2; word-spacing: 0px; background-color: rgb(255, 255, 255);\">As\n",
    "you can see, the leading single underscore in _var and _method\n",
    "attributes did not prevent us from “reaching into” the class and\n",
    "accessing the value of that variable.</p>\n",
    "<p\n",
    "style=\"margin-top: 0px; color: rgb(33, 37, 41); font-family: &quot;Segoe UI&quot;,Tahoma,sans-serif; font-size: 20px; font-style: normal; font-weight: 400; letter-spacing: normal; orphans: 2; text-align: left; text-indent: 0px; text-transform: none; white-space: normal; widows: 2; word-spacing: 0px; background-color: rgb(255, 255, 255);\">However,\n",
    "leading underscores do impact how names get imported from modules. All\n",
    "names starting with an underscore will be ignored in from module import\n",
    "*</p>\n",
    "<p\n",
    "style=\"margin-top: 0px; color: rgb(33, 37, 41); font-family: &quot;Segoe UI&quot;,Tahoma,sans-serif; font-size: 20px; font-style: normal; font-weight: 400; letter-spacing: normal; orphans: 2; text-align: left; text-indent: 0px; text-transform: none; white-space: normal; widows: 2; word-spacing: 0px; background-color: rgb(255, 255, 255);\">Let’s\n",
    "create a file (module) my_string_formatter.py with following code:</p>\n",
    "</body>\n",
    "</html>\n",
    "\n"
   ]
  },
  {
   "cell_type": "code",
   "execution_count": 28,
   "id": "c7a1c52e-27c1-4510-bece-af4c78a5b512",
   "metadata": {},
   "outputs": [],
   "source": [
    "import os\n",
    "os.getcwd()\n",
    "import sys\n",
    "sys.path.append(\".\")\n",
    "from my_string_formatter import *"
   ]
  },
  {
   "cell_type": "markdown",
   "id": "6918d484-265f-404f-93fe-d3afbf0d1767",
   "metadata": {},
   "source": [
    "Now, let's figure out what's going to happen if we will call functions with a wildcard import:"
   ]
  },
  {
   "cell_type": "code",
   "execution_count": 29,
   "id": "8f673f83-50ed-4631-b724-202d006a7244",
   "metadata": {},
   "outputs": [
    {
     "data": {
      "text/plain": [
       "'Test'"
      ]
     },
     "execution_count": 29,
     "metadata": {},
     "output_type": "execute_result"
    }
   ],
   "source": [
    "to_lower('TEST')"
   ]
  },
  {
   "cell_type": "code",
   "execution_count": 30,
   "id": "0d1ced93-1c76-4c74-9d4d-bbc8a685c189",
   "metadata": {},
   "outputs": [
    {
     "data": {
      "text/plain": [
       "'TEST'"
      ]
     },
     "execution_count": 30,
     "metadata": {},
     "output_type": "execute_result"
    }
   ],
   "source": [
    "_to_upper('test')"
   ]
  },
  {
   "cell_type": "markdown",
   "id": "23eeb2e4-d254-4e2e-ab3e-feecc0823431",
   "metadata": {},
   "source": [
    "<html>\n",
    "<head>\n",
    "</head>\n",
    "<body>\n",
    "<p\n",
    "style=\"margin-top: 0px; color: rgb(33, 37, 41); font-family: &quot;Segoe UI&quot;,Tahoma,sans-serif; font-size: 20px; font-style: normal; font-weight: 400; letter-spacing: normal; orphans: 2; text-align: left; text-indent: 0px; text-transform: none; white-space: normal; widows: 2; word-spacing: 0px; background-color: rgb(255, 255, 255);\">NameError:\n",
    "\"name '_to_upper' is not defined\"</p>\n",
    "<p\n",
    "style=\"margin-top: 0px; color: rgb(33, 37, 41); font-family: &quot;Segoe UI&quot;,Tahoma,sans-serif; font-size: 20px; font-style: normal; font-weight: 400; letter-spacing: normal; orphans: 2; text-align: left; text-indent: 0px; text-transform: none; white-space: normal; widows: 2; word-spacing: 0px; background-color: rgb(255, 255, 255);\">Python\n",
    "doesn’t import names with a leading underscore (unless the module\n",
    "defines an __all__ list that overrides this behavior by adding __all__\n",
    "= ['to_lower', '_to_upper'])</p>\n",
    "<p\n",
    "style=\"margin-top: 0px; color: rgb(33, 37, 41); font-family: &quot;Segoe UI&quot;,Tahoma,sans-serif; font-size: 20px; font-style: normal; font-weight: 400; letter-spacing: normal; orphans: 2; text-align: left; text-indent: 0px; text-transform: none; white-space: normal; widows: 2; word-spacing: 0px; background-color: rgb(255, 255, 255);\">By\n",
    "the way, wildcard imports should be avoided as they make it unclear\n",
    "which names are present in the namespace.</p>\n",
    "<h2 id=\"single-trailing-underscore:-“var_”\"\n",
    "style=\"font-weight: 500; margin-top: 0px; line-height: 1.2; font-family: Roboto; padding-top: 20px; color: rgb(33, 37, 41); font-style: normal; letter-spacing: normal; orphans: 2; text-align: left; text-indent: 0px; text-transform: none; white-space: normal; widows: 2; word-spacing: 0px; background-color: rgb(255, 255, 255);\">Single\n",
    "Trailing Underscore: “var_”</h2>\n",
    "<p\n",
    "style=\"margin-top: 0px; color: rgb(33, 37, 41); font-family: &quot;Segoe UI&quot;,Tahoma,sans-serif; font-size: 20px; font-style: normal; font-weight: 400; letter-spacing: normal; orphans: 2; text-align: left; text-indent: 0px; text-transform: none; white-space: normal; widows: 2; word-spacing: 0px; background-color: rgb(255, 255, 255);\">Such\n",
    "names are used to avoid conflicts with keywords in Python by\n",
    "convention. You should not normally use them. This convention is\n",
    "defined and explained in PEP 8.</p>\n",
    "</body>\n",
    "</html>\n",
    "\n"
   ]
  },
  {
   "cell_type": "code",
   "execution_count": 38,
   "id": "1c58335f-7da4-4899-a8df-d492b3245d2b",
   "metadata": {},
   "outputs": [
    {
     "ename": "NameError",
     "evalue": "name 'List' is not defined",
     "output_type": "error",
     "traceback": [
      "\u001b[1;31m---------------------------------------------------------------------------\u001b[0m",
      "\u001b[1;31mNameError\u001b[0m                                 Traceback (most recent call last)",
      "Input \u001b[1;32mIn [38]\u001b[0m, in \u001b[0;36m<cell line: 5>\u001b[1;34m()\u001b[0m\n\u001b[0;32m      3\u001b[0m Toplevel()\n\u001b[0;32m      4\u001b[0m \u001b[38;5;66;03m# avoid conflict with the standard type 'list'\u001b[39;00m\n\u001b[1;32m----> 5\u001b[0m list_ \u001b[38;5;241m=\u001b[39m \u001b[43mList\u001b[49m\u001b[38;5;241m.\u001b[39mobjects\u001b[38;5;241m.\u001b[39mget(\u001b[38;5;241m1\u001b[39m)\n",
      "\u001b[1;31mNameError\u001b[0m: name 'List' is not defined"
     ]
    }
   ],
   "source": [
    "from tkinter import *\n",
    "# avoid conflict with the keyword 'class'\n",
    "Toplevel()\n",
    "# avoid conflict with the standard type 'list'\n",
    "list_ = List.objects.get(1)"
   ]
  },
  {
   "cell_type": "markdown",
   "id": "6ccc45bf-48e6-4978-9bcd-f318626d72ff",
   "metadata": {},
   "source": [
    "<html>\n",
    "<head>\n",
    "</head>\n",
    "<body>\n",
    "<h2 id=\"python-double-underscore\"\n",
    "style=\"font-weight: 500; margin-top: 0px; line-height: 1.2; font-family: Roboto; padding-top: 20px; color: rgb(33, 37, 41); font-style: normal; letter-spacing: normal; orphans: 2; text-align: left; text-indent: 0px; text-transform: none; white-space: normal; widows: 2; word-spacing: 0px; background-color: rgb(255, 255, 255);\">Python\n",
    "Double Underscore</h2>\n",
    "<p\n",
    "style=\"margin-top: 0px; color: rgb(33, 37, 41); font-family: &quot;Segoe UI&quot;,Tahoma,sans-serif; font-size: 20px; font-style: normal; font-weight: 400; letter-spacing: normal; orphans: 2; text-align: left; text-indent: 0px; text-transform: none; white-space: normal; widows: 2; word-spacing: 0px; background-color: rgb(255, 255, 255);\">The\n",
    "naming patterns we’ve covered so far receive their meaning from\n",
    "agreed-upon conventions only. With Python class attributes (variables\n",
    "and methods) that start with double underscores, things are a little\n",
    "different.</p>\n",
    "<h2 id=\"python-name-mangling\"\n",
    "style=\"font-weight: 500; margin-top: 0px; line-height: 1.2; font-family: Roboto; padding-top: 20px; color: rgb(33, 37, 41); font-style: normal; letter-spacing: normal; orphans: 2; text-align: left; text-indent: 0px; text-transform: none; white-space: normal; widows: 2; word-spacing: 0px; background-color: rgb(255, 255, 255);\">Python\n",
    "Name Mangling</h2>\n",
    "<p\n",
    "style=\"margin-top: 0px; color: rgb(33, 37, 41); font-family: &quot;Segoe UI&quot;,Tahoma,sans-serif; font-size: 20px; font-style: normal; font-weight: 400; letter-spacing: normal; orphans: 2; text-align: left; text-indent: 0px; text-transform: none; white-space: normal; widows: 2; word-spacing: 0px; background-color: rgb(255, 255, 255);\">A\n",
    "double underscore prefix causes the Python interpreter to rewrite the\n",
    "attribute name in order to avoid naming conflicts in subclasses.</p>\n",
    "<p\n",
    "style=\"margin-top: 0px; color: rgb(33, 37, 41); font-family: &quot;Segoe UI&quot;,Tahoma,sans-serif; font-size: 20px; font-style: normal; font-weight: 400; letter-spacing: normal; orphans: 2; text-align: left; text-indent: 0px; text-transform: none; white-space: normal; widows: 2; word-spacing: 0px; background-color: rgb(255, 255, 255);\">How\n",
    "it works? Let’s create class with following attributes:</p>\n",
    "</body>\n",
    "</html>\n",
    "\n"
   ]
  },
  {
   "cell_type": "code",
   "execution_count": 39,
   "id": "b095bcd6-d55f-4b68-8ea3-384ec6161232",
   "metadata": {},
   "outputs": [],
   "source": [
    "class Test:\n",
    "    def __init__(self):\n",
    "        self.num1 = 10\n",
    "        self._num2 = 20\n",
    "        self.__num3 = 30"
   ]
  },
  {
   "cell_type": "markdown",
   "id": "4bbeabd9-d922-4916-8a9e-211a7d0f3192",
   "metadata": {},
   "source": [
    "Let’s take a look at the object attributes with build-in dir() function:"
   ]
  },
  {
   "cell_type": "code",
   "execution_count": 40,
   "id": "dd317764-6271-4ed1-816e-d8d01a55d696",
   "metadata": {},
   "outputs": [
    {
     "data": {
      "text/plain": [
       "['_Test__num3',\n",
       " '__class__',\n",
       " '__delattr__',\n",
       " '__dict__',\n",
       " '__dir__',\n",
       " '__doc__',\n",
       " '__eq__',\n",
       " '__format__',\n",
       " '__ge__',\n",
       " '__getattribute__',\n",
       " '__gt__',\n",
       " '__hash__',\n",
       " '__init__',\n",
       " '__init_subclass__',\n",
       " '__le__',\n",
       " '__lt__',\n",
       " '__module__',\n",
       " '__ne__',\n",
       " '__new__',\n",
       " '__reduce__',\n",
       " '__reduce_ex__',\n",
       " '__repr__',\n",
       " '__setattr__',\n",
       " '__sizeof__',\n",
       " '__str__',\n",
       " '__subclasshook__',\n",
       " '__weakref__',\n",
       " '_num2',\n",
       " 'num1']"
      ]
     },
     "execution_count": 40,
     "metadata": {},
     "output_type": "execute_result"
    }
   ],
   "source": [
    "test = Test()\n",
    "dir(test)"
   ]
  },
  {
   "cell_type": "markdown",
   "id": "ffeafef7-d3a4-46f8-af78-4cd46d196265",
   "metadata": {},
   "source": [
    "Here we are getting list of object attributes. At the end of list we could noticed our _num2 and num1 attributes:\n",
    "\n",
    "self.num1 variable appears unmodified as num1 in the attribute list.\n",
    "\n",
    "self._num2 behaves the same way - it shows as _num2. Like we said before, leading underscore is just a convention.\n",
    "\n",
    "So what happened to __num3 ?\n",
    "\n",
    "If you look closely, you would notice _Test__num3 attribute at the start of the list. This is the name mangling that the Python interpreter applies. It works that way to protect the variable from overriding in subclasses.\n",
    "\n",
    "Name mangling also applies to method names (and frankly, to all names that start with double leading underscore in class context):\n"
   ]
  },
  {
   "cell_type": "code",
   "execution_count": 41,
   "id": "cae5ce7c-3be4-4c4f-b4bc-332126bfe436",
   "metadata": {},
   "outputs": [],
   "source": [
    "class NameManglingMethod:\n",
    "    def __method(self):\n",
    "        return 'name mungling method'\n",
    "    def call_it(self):\n",
    "        return self.__method()"
   ]
  },
  {
   "cell_type": "code",
   "execution_count": 44,
   "id": "8506cdf8-4e09-4a33-83a5-7583101d095f",
   "metadata": {},
   "outputs": [],
   "source": [
    "ngm=NameManglingMethod()"
   ]
  },
  {
   "cell_type": "code",
   "execution_count": 45,
   "id": "ea4eaafd-c304-4430-b861-848d87a96d7f",
   "metadata": {},
   "outputs": [
    {
     "ename": "AttributeError",
     "evalue": "'NameManglingMethod' object has no attribute '__method'",
     "output_type": "error",
     "traceback": [
      "\u001b[1;31m---------------------------------------------------------------------------\u001b[0m",
      "\u001b[1;31mAttributeError\u001b[0m                            Traceback (most recent call last)",
      "Input \u001b[1;32mIn [45]\u001b[0m, in \u001b[0;36m<cell line: 1>\u001b[1;34m()\u001b[0m\n\u001b[1;32m----> 1\u001b[0m \u001b[43mngm\u001b[49m\u001b[38;5;241;43m.\u001b[39;49m\u001b[43m__method\u001b[49m()\n",
      "\u001b[1;31mAttributeError\u001b[0m: 'NameManglingMethod' object has no attribute '__method'"
     ]
    }
   ],
   "source": [
    "ngm.__method()"
   ]
  },
  {
   "cell_type": "code",
   "execution_count": 46,
   "id": "1349b2c9-3ec3-40f1-9035-4741b6369ad8",
   "metadata": {},
   "outputs": [
    {
     "data": {
      "text/plain": [
       "'name mungling method'"
      ]
     },
     "execution_count": 46,
     "metadata": {},
     "output_type": "execute_result"
    }
   ],
   "source": [
    "ngm.call_it()"
   ]
  },
  {
   "cell_type": "markdown",
   "id": "4337b1e1-2f3e-4a0e-b5d3-a418d6f5ed4f",
   "metadata": {},
   "source": [
    "<html>\n",
    "<head>\n",
    "</head>\n",
    "<body>\n",
    "<h2 id=\"double-leading-and-trailing-underscore:-&quot;__var__&quot;\"\n",
    "style=\"font-weight: 500; margin-top: 0px; line-height: 1.2; font-family: Roboto; padding-top: 20px; color: rgb(33, 37, 41); font-style: normal; letter-spacing: normal; orphans: 2; text-align: left; text-indent: 0px; text-transform: none; white-space: normal; widows: 2; word-spacing: 0px; background-color: rgb(255, 255, 255);\">Double\n",
    "Leading and Trailing Underscore: \"__var__\"</h2>\n",
    "<p\n",
    "style=\"margin-top: 0px; color: rgb(33, 37, 41); font-family: &quot;Segoe UI&quot;,Tahoma,sans-serif; font-size: 20px; font-style: normal; font-weight: 400; letter-spacing: normal; orphans: 2; text-align: left; text-indent: 0px; text-transform: none; white-space: normal; widows: 2; word-spacing: 0px; background-color: rgb(255, 255, 255);\"><b\n",
    "style=\"font-weight: bolder;\">Python Functions Starting With Underscore</b></p>\n",
    "<p\n",
    "style=\"margin-top: 0px; color: rgb(33, 37, 41); font-family: &quot;Segoe UI&quot;,Tahoma,sans-serif; font-size: 20px; font-style: normal; font-weight: 400; letter-spacing: normal; orphans: 2; text-align: left; text-indent: 0px; text-transform: none; white-space: normal; widows: 2; word-spacing: 0px; background-color: rgb(255, 255, 255);\">So-called\n",
    "special (magical) methods. For example, __init__, __len__. Some of them\n",
    "implements syntactic features, some store special data: __file__\n",
    "indicates the path of the code file, __eq__ is executed when calling\n",
    "the expression a == b.</p>\n",
    "<p\n",
    "style=\"margin-top: 0px; color: rgb(33, 37, 41); font-family: &quot;Segoe UI&quot;,Tahoma,sans-serif; font-size: 20px; font-style: normal; font-weight: 400; letter-spacing: normal; orphans: 2; text-align: left; text-indent: 0px; text-transform: none; white-space: normal; widows: 2; word-spacing: 0px; background-color: rgb(255, 255, 255);\">Of\n",
    "course, the user can create their own methods:</p>\n",
    "</body>\n",
    "</html>\n",
    "\n"
   ]
  },
  {
   "cell_type": "code",
   "execution_count": 47,
   "id": "8b38dddf-da8f-49b5-bc9b-350b2bcc7402",
   "metadata": {},
   "outputs": [],
   "source": [
    "class Base:\n",
    "    def __init__(self):\n",
    "        pass\n",
    "    def __custom__(self): # user custom 'magical' method\n",
    "        pass"
   ]
  },
  {
   "cell_type": "markdown",
   "id": "a162b05f-2385-455a-b606-07c1840113f0",
   "metadata": {},
   "source": [
    "<html>\n",
    "<head>\n",
    "</head>\n",
    "<body>\n",
    "<h2 id=\"python-variables-with-leading-and-trailing-underscores\"\n",
    "style=\"font-weight: 500; margin-top: 0px; line-height: 1.2; font-family: Roboto; padding-top: 20px; color: rgb(33, 37, 41); font-style: normal; letter-spacing: normal; orphans: 2; text-align: left; text-indent: 0px; text-transform: none; white-space: normal; widows: 2; word-spacing: 0px; background-color: rgb(255, 255, 255);\">Python\n",
    "Variables With Leading and Trailing Underscores</h2>\n",
    "<p\n",
    "style=\"margin-top: 0px; color: rgb(33, 37, 41); font-family: &quot;Segoe UI&quot;,Tahoma,sans-serif; font-size: 20px; font-style: normal; font-weight: 400; letter-spacing: normal; orphans: 2; text-align: left; text-indent: 0px; text-transform: none; white-space: normal; widows: 2; word-spacing: 0px; background-color: rgb(255, 255, 255);\">Variables\n",
    "surrounded by a double underscore prefix and postfix are left unscathed\n",
    "by the Python interpreter:</p>\n",
    "<p\n",
    "style=\"margin-top: 0px; color: rgb(33, 37, 41); font-family: &quot;Segoe UI&quot;,Tahoma,sans-serif; font-size: 20px; font-style: normal; font-weight: 400; letter-spacing: normal; orphans: 2; text-align: left; text-indent: 0px; text-transform: none; white-space: normal; widows: 2; word-spacing: 0px; background-color: rgb(255, 255, 255);\">class\n",
    "A:</p>\n",
    "</body>\n",
    "</html>\n",
    "\n"
   ]
  },
  {
   "cell_type": "code",
   "execution_count": 49,
   "id": "40beaefd-d086-470a-8e4c-cc7a8d780588",
   "metadata": {},
   "outputs": [
    {
     "data": {
      "text/plain": [
       "'var'"
      ]
     },
     "execution_count": 49,
     "metadata": {},
     "output_type": "execute_result"
    }
   ],
   "source": [
    "class A:\n",
    "     def __init__(self):\n",
    "        self.__var__ = 'var'\n",
    "a = A()\n",
    "a.__var__"
   ]
  },
  {
   "cell_type": "markdown",
   "id": "3567b77c-ca3e-4648-b862-4ffe4b394b2c",
   "metadata": {},
   "source": [
    "<html>\n",
    "<head>\n",
    "</head>\n",
    "<body>\n",
    "<p\n",
    "style=\"margin-top: 0px; color: rgb(33, 37, 41); font-family: &quot;Segoe UI&quot;,Tahoma,sans-serif; font-size: 20px; font-style: normal; font-weight: 400; letter-spacing: normal; orphans: 2; text-align: left; text-indent: 0px; text-transform: none; white-space: normal; widows: 2; word-spacing: 0px; background-color: rgb(255, 255, 255);\">However,\n",
    "names that have both leading and trailing double underscores are\n",
    "reserved for special use in the language. This rule covers things like\n",
    "__init__ for object constructors, or __call__ to make objects callable\n",
    "etc.</p>\n",
    "<h2 id=\"python-underscore-internationalization-and-localization\"\n",
    "style=\"font-weight: 500; margin-top: 0px; line-height: 1.2; font-family: Roboto; padding-top: 20px; color: rgb(33, 37, 41); font-style: normal; letter-spacing: normal; orphans: 2; text-align: left; text-indent: 0px; text-transform: none; white-space: normal; widows: 2; word-spacing: 0px; background-color: rgb(255, 255, 255);\">Python\n",
    "Underscore Internationalization and Localization</h2>\n",
    "<p\n",
    "style=\"margin-top: 0px; color: rgb(33, 37, 41); font-family: &quot;Segoe UI&quot;,Tahoma,sans-serif; font-size: 20px; font-style: normal; font-weight: 400; letter-spacing: normal; orphans: 2; text-align: left; text-indent: 0px; text-transform: none; white-space: normal; widows: 2; word-spacing: 0px; background-color: rgb(255, 255, 255);\">This\n",
    "is just an agreement on the names of these functions, they do not\n",
    "affect the syntax. This tradition came from C, and the built-in gettext\n",
    "module used to localize. It's used is like in Django, the most popular\n",
    "web framework.</p>\n",
    "<p\n",
    "style=\"margin-top: 0px; color: rgb(33, 37, 41); font-family: &quot;Segoe UI&quot;,Tahoma,sans-serif; font-size: 20px; font-style: normal; font-weight: 400; letter-spacing: normal; orphans: 2; text-align: left; text-indent: 0px; text-transform: none; white-space: normal; widows: 2; word-spacing: 0px; background-color: rgb(255, 255, 255);\">#\n",
    "official docs - https://docs.python.org/3/library/gettext.html</p>\n",
    "</body>\n",
    "</html>\n",
    "\n"
   ]
  },
  {
   "cell_type": "code",
   "execution_count": 50,
   "id": "abc6b6b0-916c-453e-b7b5-3f8636cd5437",
   "metadata": {},
   "outputs": [],
   "source": [
    "import gettext\n",
    "gettext.bindtextdomain(\n",
    "    'myapplication',\n",
    "    'path/to/my/language/directory'\n",
    ")\n",
    "gettext.textdomain('myapplication')\n",
    "_ = gettext.gettext"
   ]
  },
  {
   "cell_type": "code",
   "execution_count": 51,
   "id": "79b1c43b-3034-4af2-8028-f8660af10f38",
   "metadata": {},
   "outputs": [
    {
     "name": "stdout",
     "output_type": "stream",
     "text": [
      "This is translatable string.\n"
     ]
    }
   ],
   "source": [
    "print(_('This is translatable string.'))"
   ]
  },
  {
   "cell_type": "markdown",
   "id": "71cfae60-fc62-4ee4-88d1-ba1d3ab4b958",
   "metadata": {},
   "source": [
    "<html>\n",
    "<head>\n",
    "</head>\n",
    "<body>\n",
    "<h2 id=\"python-underscore-to-spit-numbers-into-digits\"\n",
    "style=\"font-weight: 500; margin-top: 0px; line-height: 1.2; font-family: Roboto; padding-top: 20px; color: rgb(33, 37, 41); font-style: normal; letter-spacing: normal; orphans: 2; text-align: left; text-indent: 0px; text-transform: none; white-space: normal; widows: 2; word-spacing: 0px; background-color: rgb(255, 255, 255);\">Python\n",
    "Underscore to Spit Numbers into Digits</h2>\n",
    "<p\n",
    "style=\"margin-top: 0px; color: rgb(33, 37, 41); font-family: &quot;Segoe UI&quot;,Tahoma,sans-serif; font-size: 20px; font-style: normal; font-weight: 400; letter-spacing: normal; orphans: 2; text-align: left; text-indent: 0px; text-transform: none; white-space: normal; widows: 2; word-spacing: 0px; background-color: rgb(255, 255, 255);\">This\n",
    "feature is quite new, it was added only in Python 3.6. You can now use\n",
    "underscores to separate numbers, which improves code overview.</p>\n",
    "</body>\n",
    "</html>\n",
    "\n"
   ]
  },
  {
   "cell_type": "code",
   "execution_count": 52,
   "id": "a3c9f4c2-b2d8-4b3e-8a60-31462150f5e5",
   "metadata": {},
   "outputs": [
    {
     "name": "stdout",
     "output_type": "stream",
     "text": [
      "1000000\n",
      "240\n",
      "305441741\n"
     ]
    }
   ],
   "source": [
    "dec_base = 1_000_000\n",
    "bin_base = 0b_1111_0000\n",
    "hex_base = 0x_1234_abcd\n",
    "print(dec_base) # 1000000\n",
    "print(bin_base) # 240\n",
    "print(hex_base) # 305441741"
   ]
  },
  {
   "cell_type": "code",
   "execution_count": null,
   "id": "f3433167-de1c-49c4-a513-05335f2692de",
   "metadata": {},
   "outputs": [],
   "source": []
  }
 ],
 "metadata": {
  "kernelspec": {
   "display_name": "Python 3 (ipykernel)",
   "language": "python",
   "name": "python3"
  },
  "language_info": {
   "codemirror_mode": {
    "name": "ipython",
    "version": 3
   },
   "file_extension": ".py",
   "mimetype": "text/x-python",
   "name": "python",
   "nbconvert_exporter": "python",
   "pygments_lexer": "ipython3",
   "version": "3.9.4"
  }
 },
 "nbformat": 4,
 "nbformat_minor": 5
}
