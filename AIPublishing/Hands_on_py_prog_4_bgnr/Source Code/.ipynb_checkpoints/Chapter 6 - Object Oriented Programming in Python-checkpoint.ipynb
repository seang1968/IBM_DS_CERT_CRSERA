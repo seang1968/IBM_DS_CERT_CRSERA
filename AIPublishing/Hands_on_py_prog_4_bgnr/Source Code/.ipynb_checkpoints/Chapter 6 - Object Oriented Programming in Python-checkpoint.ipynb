{
 "cells": [
  {
   "cell_type": "markdown",
   "metadata": {},
   "source": [
    "## 6.2. Defining a Class and Creating Objects"
   ]
  },
  {
   "cell_type": "code",
   "execution_count": 1,
   "metadata": {},
   "outputs": [],
   "source": [
    "## defining a class\n",
    "class NewClass:\n",
    "    \n",
    "    \n",
    "    def class_method(self):\n",
    "        \n",
    "        print(\"Hello this is a method inside a class\")"
   ]
  },
  {
   "cell_type": "code",
   "execution_count": 2,
   "metadata": {},
   "outputs": [
    {
     "name": "stdout",
     "output_type": "stream",
     "text": [
      "Hello this is a method inside a class\n"
     ]
    }
   ],
   "source": [
    "#creating a class object\n",
    "nc = NewClass()\n",
    "\n",
    "#calling a method using class object\n",
    "nc.class_method()"
   ]
  },
  {
   "cell_type": "markdown",
   "metadata": {},
   "source": [
    "## 6.3. Declaring Methods and Variables in a Class"
   ]
  },
  {
   "cell_type": "code",
   "execution_count": 3,
   "metadata": {},
   "outputs": [],
   "source": [
    "## defining a class\n",
    "class NewClass:\n",
    "    \n",
    "    \n",
    "    def class_method(self):\n",
    "        \n",
    "        #class member variables\n",
    "        self.color = \"red\"\n",
    "        self.id = 24\n",
    "        \n",
    "        print(\"Hello this is a method inside a class\")"
   ]
  },
  {
   "cell_type": "code",
   "execution_count": 4,
   "metadata": {},
   "outputs": [
    {
     "name": "stdout",
     "output_type": "stream",
     "text": [
      "Hello this is a method inside a class\n"
     ]
    }
   ],
   "source": [
    "#creating a class object\n",
    "nc1 = NewClass()\n",
    "\n",
    "#calling a method using class object\n",
    "nc1.class_method()"
   ]
  },
  {
   "cell_type": "code",
   "execution_count": 5,
   "metadata": {},
   "outputs": [
    {
     "name": "stdout",
     "output_type": "stream",
     "text": [
      "red\n",
      "24\n"
     ]
    }
   ],
   "source": [
    "#accessing class members\n",
    "print(nc1.color)\n",
    "print(nc1.id)"
   ]
  },
  {
   "cell_type": "code",
   "execution_count": 6,
   "metadata": {},
   "outputs": [
    {
     "name": "stdout",
     "output_type": "stream",
     "text": [
      "Hello this is a method inside a class\n",
      "red\n",
      "24\n"
     ]
    }
   ],
   "source": [
    "#creating a class object\n",
    "nc2 = NewClass()\n",
    "\n",
    "#calling a method using class object\n",
    "nc2.class_method()\n",
    "\n",
    "#accessing class members\n",
    "print(nc2.color)\n",
    "print(nc2.id)"
   ]
  },
  {
   "cell_type": "code",
   "execution_count": 7,
   "metadata": {},
   "outputs": [],
   "source": [
    "## defining a class\n",
    "class NewClass:\n",
    "    \n",
    "    #declaring a function with parameters\n",
    "    def class_method(self, my_color, my_id):\n",
    "        \n",
    "        #class member variables\n",
    "        self.color = my_color\n",
    "        self.id = my_id\n",
    "        \n",
    "        print(\"Hello this is a method inside a class\")"
   ]
  },
  {
   "cell_type": "code",
   "execution_count": 8,
   "metadata": {},
   "outputs": [
    {
     "name": "stdout",
     "output_type": "stream",
     "text": [
      "Hello this is a method inside a class\n",
      "Yellow\n",
      "25\n"
     ]
    }
   ],
   "source": [
    "#creating a class object\n",
    "nc1 = NewClass()\n",
    "\n",
    "#calling a method using class object\n",
    "nc1.class_method(\"Yellow\", 25)\n",
    "\n",
    "#accessing class members\n",
    "print(nc1.color)\n",
    "print(nc1.id)"
   ]
  },
  {
   "cell_type": "code",
   "execution_count": 9,
   "metadata": {},
   "outputs": [
    {
     "name": "stdout",
     "output_type": "stream",
     "text": [
      "Hello this is a method inside a class\n",
      "Green\n",
      "30\n"
     ]
    }
   ],
   "source": [
    "#creating a class object\n",
    "nc2 = NewClass()\n",
    "\n",
    "#calling a method using class object\n",
    "nc2.class_method(\"Green\", 30)\n",
    "\n",
    "#accessing class members\n",
    "print(nc2.color)\n",
    "print(nc2.id)"
   ]
  },
  {
   "cell_type": "markdown",
   "metadata": {},
   "source": [
    "## 6.4. Class Constructors"
   ]
  },
  {
   "cell_type": "code",
   "execution_count": 10,
   "metadata": {},
   "outputs": [],
   "source": [
    "class NewClass:\n",
    "    \n",
    "    def __init__(self, my_color, my_id):\n",
    "        \n",
    "        #class member variables\n",
    "        self.color = my_color\n",
    "        self.id = my_id\n",
    "    \n",
    "    def display_vars(self):\n",
    "        print(self.color)\n",
    "        print(self.id)\n",
    "        "
   ]
  },
  {
   "cell_type": "code",
   "execution_count": 11,
   "metadata": {},
   "outputs": [
    {
     "name": "stdout",
     "output_type": "stream",
     "text": [
      "Purple\n",
      "50\n"
     ]
    }
   ],
   "source": [
    "#creating a class object\n",
    "#passing values to class constructor\n",
    "nc1 = NewClass(\"Purple\", 50)\n",
    "\n",
    "#calling a method using class object\n",
    "nc1.display_vars()\n"
   ]
  },
  {
   "cell_type": "code",
   "execution_count": 12,
   "metadata": {},
   "outputs": [
    {
     "name": "stdout",
     "output_type": "stream",
     "text": [
      "Pink\n",
      "100\n"
     ]
    }
   ],
   "source": [
    "#creating a class object\n",
    "#passing values to class constructor\n",
    "nc1 = NewClass(\"Pink\", 100)\n",
    "\n",
    "#calling a method using class object\n",
    "nc1.display_vars()\n"
   ]
  },
  {
   "cell_type": "markdown",
   "metadata": {},
   "source": [
    "## 6.5. Class members vs Instance Members"
   ]
  },
  {
   "cell_type": "code",
   "execution_count": 13,
   "metadata": {},
   "outputs": [],
   "source": [
    "class NewClass:\n",
    "    \n",
    "    ## class variable\n",
    "    num_objects = 0\n",
    "    \n",
    "    ## constructor\n",
    "    def __init__(self, my_color, my_id):\n",
    "        \n",
    "        #class member variables\n",
    "        self.color = my_color\n",
    "        self.id = my_id\n",
    "        NewClass.num_objects +=1\n",
    "    \n",
    "    ## instance method\n",
    "    def display_vars(self):\n",
    "        print(self.color)\n",
    "        print(self.id)\n",
    "        \n",
    "        \n",
    "    ## class method    \n",
    "    def show_object_counts():\n",
    "        print(\"Number of objects:\", str(NewClass.num_objects))"
   ]
  },
  {
   "cell_type": "code",
   "execution_count": 14,
   "metadata": {},
   "outputs": [
    {
     "name": "stdout",
     "output_type": "stream",
     "text": [
      "Purple\n",
      "50\n",
      "Number of objects: 1\n"
     ]
    }
   ],
   "source": [
    "#creating a class object\n",
    "nc1 = NewClass(\"Purple\", 50)\n",
    "\n",
    "#calling instance method\n",
    "nc1.display_vars()\n",
    "\n",
    "#calling class method\n",
    "NewClass.show_object_counts()"
   ]
  },
  {
   "cell_type": "code",
   "execution_count": 15,
   "metadata": {},
   "outputs": [
    {
     "name": "stdout",
     "output_type": "stream",
     "text": [
      "Pink\n",
      "100\n",
      "Number of objects: 2\n"
     ]
    }
   ],
   "source": [
    "#creating a class object\n",
    "nc2 = NewClass(\"Pink\", 100)\n",
    "\n",
    "#calling instance method\n",
    "nc2.display_vars()\n",
    "\n",
    "#calling class method\n",
    "NewClass.show_object_counts()"
   ]
  },
  {
   "cell_type": "markdown",
   "metadata": {},
   "source": [
    "## 6.6. Create Iterators using Classes"
   ]
  },
  {
   "cell_type": "code",
   "execution_count": 16,
   "metadata": {},
   "outputs": [],
   "source": [
    "class Get_Evens:\n",
    "    \n",
    " \n",
    "    def __iter__(self):\n",
    "        \n",
    "        #initiliaze an iterator value\n",
    "        self.id = 2\n",
    "        \n",
    "        #return iterator class object\n",
    "        return self\n",
    "     \n",
    "    \n",
    "    def __next__(self):\n",
    "        #save the previous iterator value\n",
    "        new_id = self.id\n",
    "        \n",
    "        #assign next value\n",
    "        self.id +=2\n",
    "        \n",
    "        #return the previous iterator value\n",
    "        return new_id\n",
    "        \n",
    "        "
   ]
  },
  {
   "cell_type": "code",
   "execution_count": 17,
   "metadata": {},
   "outputs": [
    {
     "name": "stdout",
     "output_type": "stream",
     "text": [
      "2\n"
     ]
    }
   ],
   "source": [
    "get_evens = Get_Evens()\n",
    "\n",
    "get_evens_iter = iter(get_evens)\n",
    "print(next(get_evens_iter))"
   ]
  },
  {
   "cell_type": "code",
   "execution_count": 18,
   "metadata": {},
   "outputs": [
    {
     "name": "stdout",
     "output_type": "stream",
     "text": [
      "4\n",
      "6\n",
      "8\n",
      "10\n",
      "12\n"
     ]
    }
   ],
   "source": [
    "print(next(get_evens_iter))\n",
    "print(next(get_evens_iter))\n",
    "print(next(get_evens_iter))\n",
    "print(next(get_evens_iter))\n",
    "print(next(get_evens_iter))"
   ]
  },
  {
   "cell_type": "code",
   "execution_count": 19,
   "metadata": {},
   "outputs": [
    {
     "name": "stdout",
     "output_type": "stream",
     "text": [
      "2\n",
      "4\n",
      "6\n",
      "8\n",
      "10\n",
      "12\n",
      "14\n",
      "16\n",
      "18\n",
      "20\n"
     ]
    }
   ],
   "source": [
    "get_evens = Get_Evens()\n",
    "\n",
    "get_evens_iter = iter(get_evens)\n",
    "for _ in range(10):\n",
    "    print(next(get_evens_iter))"
   ]
  },
  {
   "cell_type": "markdown",
   "metadata": {},
   "source": [
    "## 6.7. Inheritance in Python"
   ]
  },
  {
   "cell_type": "markdown",
   "metadata": {},
   "source": [
    "### 6.7.1. A simple Example of Inheritance"
   ]
  },
  {
   "cell_type": "code",
   "execution_count": 20,
   "metadata": {},
   "outputs": [],
   "source": [
    "class Parent:\n",
    "    \n",
    "    def display_text(self):\n",
    "        self.id = 10\n",
    "        print(\"A function inside the parent class\")\n",
    "\n",
    "class Child(Parent):\n",
    "    pass"
   ]
  },
  {
   "cell_type": "code",
   "execution_count": 21,
   "metadata": {},
   "outputs": [
    {
     "name": "stdout",
     "output_type": "stream",
     "text": [
      "A function inside the parent class\n",
      "10\n"
     ]
    }
   ],
   "source": [
    "child = Child()\n",
    "child.display_text()\n",
    "print(child.id)"
   ]
  },
  {
   "cell_type": "markdown",
   "metadata": {},
   "source": [
    "### 6.7.2. An Advanced Example of Inheritance"
   ]
  },
  {
   "cell_type": "code",
   "execution_count": 22,
   "metadata": {},
   "outputs": [],
   "source": [
    "class Shape:\n",
    "    \n",
    "    def set_shape_attr(self, name, area):\n",
    "        self.shape_name = name\n",
    "        self.area = area\n",
    "\n",
    "    \n",
    "    def display_shape_attr(self):\n",
    "        print(\"The shape name is \", self.shape_name)\n",
    "        print(\"The shape area is \", self.area)"
   ]
  },
  {
   "cell_type": "code",
   "execution_count": 23,
   "metadata": {},
   "outputs": [],
   "source": [
    "class Circle(Shape):\n",
    "    \n",
    "    def set_circle_attr(self, radius):\n",
    "        self.radius = radius\n",
    "\n",
    "    \n",
    "    def display_circle_attr(self):\n",
    "        print(\"The radius of the circle is \", self.radius)"
   ]
  },
  {
   "cell_type": "code",
   "execution_count": 24,
   "metadata": {},
   "outputs": [],
   "source": [
    "class Square(Shape):\n",
    "    \n",
    "    def set_square_attr(self, vertices):\n",
    "        self.vertices = vertices\n",
    "\n",
    "    \n",
    "    def display_square_attr(self):\n",
    "        print(\"Total number of vertices in a square \", self.vertices)"
   ]
  },
  {
   "cell_type": "code",
   "execution_count": 25,
   "metadata": {},
   "outputs": [
    {
     "name": "stdout",
     "output_type": "stream",
     "text": [
      "The shape name is  Circle\n",
      "The shape area is  200\n",
      "The radius of the circle is  500\n"
     ]
    }
   ],
   "source": [
    "#creating a child class object\n",
    "circle = Circle()\n",
    "\n",
    "#calling parent class methods\n",
    "circle.set_shape_attr(\"Circle\", 200)\n",
    "circle.display_shape_attr()\n",
    "\n",
    "#calling child class methods\n",
    "circle.set_circle_attr(500)\n",
    "circle.display_circle_attr()"
   ]
  },
  {
   "cell_type": "code",
   "execution_count": 26,
   "metadata": {},
   "outputs": [
    {
     "name": "stdout",
     "output_type": "stream",
     "text": [
      "The shape name is  Sqauare\n",
      "The shape area is  300\n",
      "Total number of vertices in a square  4\n"
     ]
    }
   ],
   "source": [
    "#creating a child class object\n",
    "square = Square()\n",
    "\n",
    "#calling parent class methods\n",
    "square.set_shape_attr(\"Sqauare\", 300)\n",
    "square.display_shape_attr()\n",
    "\n",
    "#calling child class methods\n",
    "square.set_square_attr(4)\n",
    "square.display_square_attr()"
   ]
  },
  {
   "cell_type": "markdown",
   "metadata": {},
   "source": [
    "### 6.7.3. Calling Parent Class Constructor via Child Class"
   ]
  },
  {
   "cell_type": "code",
   "execution_count": 27,
   "metadata": {},
   "outputs": [],
   "source": [
    "class Shape:\n",
    "    \n",
    "    def __init__(self, name, area):\n",
    "        self.shape_name = name\n",
    "        self.area = area\n",
    "\n",
    "    \n",
    "    def display_shape_attr(self):\n",
    "        print(\"The shape name is \", self.shape_name)\n",
    "        print(\"The shape area is \", self.area)"
   ]
  },
  {
   "cell_type": "code",
   "execution_count": 28,
   "metadata": {},
   "outputs": [],
   "source": [
    "class Circle(Shape):\n",
    "    \n",
    "    def __init__(self, name, area, radius):\n",
    "        #calling parent class constructor\n",
    "        super().__init__(name, area)\n",
    "        self.radius = radius\n",
    "\n",
    "    \n",
    "    def display_circle_attr(self):\n",
    "        print(\"The radius of the circle is \", self.radius)"
   ]
  },
  {
   "cell_type": "code",
   "execution_count": 29,
   "metadata": {},
   "outputs": [
    {
     "name": "stdout",
     "output_type": "stream",
     "text": [
      "The shape name is  Circle\n",
      "The shape area is  700\n",
      "The radius of the circle is  400\n"
     ]
    }
   ],
   "source": [
    "#creating a child class object\n",
    "circle = Circle(\"Circle\", 700,400)\n",
    "\n",
    "#calling parent class methods\n",
    "circle.display_shape_attr()\n",
    "\n",
    "#calling child class methods\n",
    "circle.display_circle_attr()"
   ]
  },
  {
   "cell_type": "markdown",
   "metadata": {},
   "source": [
    "### 6.7.4. Polymorphism"
   ]
  },
  {
   "cell_type": "code",
   "execution_count": 30,
   "metadata": {},
   "outputs": [],
   "source": [
    "def my_func(a,b,c = 0):\n",
    "    if c == 0:\n",
    "        return a - b\n",
    "    else:\n",
    "        return a + b + c\n"
   ]
  },
  {
   "cell_type": "code",
   "execution_count": 31,
   "metadata": {},
   "outputs": [
    {
     "name": "stdout",
     "output_type": "stream",
     "text": [
      "52\n",
      "5\n"
     ]
    }
   ],
   "source": [
    "print(my_func(10,22,20))\n",
    "print(my_func(15,10))"
   ]
  },
  {
   "cell_type": "code",
   "execution_count": 32,
   "metadata": {},
   "outputs": [],
   "source": [
    "class Shape:\n",
    "    \n",
    "    def __init__(self, name, area):\n",
    "        self.shape_name = name\n",
    "        self.area = area\n",
    "\n",
    "    \n",
    "    def display_shape_attr(self):\n",
    "        print(\"The shape name is \", self.shape_name)\n",
    "        print(\"The shape area is \", self.area)"
   ]
  },
  {
   "cell_type": "code",
   "execution_count": 33,
   "metadata": {},
   "outputs": [],
   "source": [
    "class Circle(Shape):\n",
    "    \n",
    "    def __init__(self, name, area, radius):\n",
    "        super().__init__(name, area)\n",
    "        self.radius = radius\n",
    "\n",
    "#overriding display_shape_attr() method of the parent class    \n",
    "    def display_shape_attr(self):\n",
    "        print(\"The shape name is \", self.shape_name)\n",
    "        print(\"The shape area is \", self.area)\n",
    "        print(\"The radius of the circle is \", self.radius)"
   ]
  },
  {
   "cell_type": "code",
   "execution_count": 34,
   "metadata": {},
   "outputs": [],
   "source": [
    "class Square(Shape):\n",
    "    \n",
    "    def __init__(self, name, area, vertices):\n",
    "        super().__init__(name, area)\n",
    "        self.vertices = vertices\n",
    "\n",
    "    #overriding display_shape_attr() method of the parent class\n",
    "    def display_shape_attr(self):\n",
    "        print(\"The shape name is \", self.shape_name)\n",
    "        print(\"The shape area is \", self.area)\n",
    "        print(\"Total number of vertices in a square \", self.vertices)"
   ]
  },
  {
   "cell_type": "code",
   "execution_count": 35,
   "metadata": {},
   "outputs": [
    {
     "name": "stdout",
     "output_type": "stream",
     "text": [
      "The shape name is  Shape\n",
      "The shape area is  500\n",
      "==================================\n",
      "The shape name is  Circle\n",
      "The shape area is  700\n",
      "The radius of the circle is  400\n",
      "==================================\n",
      "The shape name is  Square\n",
      "The shape area is  500\n",
      "Total number of vertices in a square  4\n"
     ]
    }
   ],
   "source": [
    "shape = Shape(\"Shape\", 500)\n",
    "circle = Circle(\"Circle\", 700,400)\n",
    "square = Square(\"Square\", 500,4)\n",
    "\n",
    "\n",
    "shape.display_shape_attr()\n",
    "print(\"==================================\")\n",
    "circle.display_shape_attr()\n",
    "print(\"==================================\")\n",
    "square.display_shape_attr()"
   ]
  },
  {
   "cell_type": "markdown",
   "metadata": {},
   "source": [
    "## Exercise 6.1"
   ]
  },
  {
   "cell_type": "markdown",
   "metadata": {},
   "source": [
    "\n",
    "**Question 1:**\n",
    "\n",
    "What is true for Python:\n",
    "\n",
    "\n",
    "A. A child can inherit from only one parent class\n",
    "\n",
    "B. A parent class can only have one child class\n",
    "\n",
    "C. A child class can inhrit from multiple parent classes\n",
    " \n",
    "D. None of the Above\n",
    "\n",
    "\n",
    "**Answer: D**\n",
    "\n",
    "    \n",
    "\n",
    "**Question 2:**\n",
    "\n",
    "An instance method can be accessed via:\n",
    "\n",
    "\n",
    "A. class name\n",
    "\n",
    "B. class and object names\n",
    "\n",
    "C. object name\n",
    " \n",
    "D. All of the above\n",
    "\n",
    "**Answer: C**\n",
    "\n",
    "    \n",
    "    \n",
    "**Question 3:**\n",
    "\n",
    "\n",
    "Which of the following method is used to call the parent class constructor in Python:?\n",
    "\n",
    "\n",
    "A. parent()\n",
    "\n",
    "B. base()\n",
    "\n",
    "C. super()\n",
    "\n",
    "D. object()\n",
    "\n",
    "**Answer: C**"
   ]
  },
  {
   "cell_type": "markdown",
   "metadata": {},
   "source": [
    "## Exercise 6.2"
   ]
  },
  {
   "cell_type": "markdown",
   "metadata": {},
   "source": [
    "Perform the following tasks:\n",
    "\n",
    "1. Create a Parent class Vehicle with two instance attributes: name and price, and one instance method `show_vehicle()`.The `show_vehicle()` method displays the name and price attributes\n",
    "\n",
    "2. Initialize the Vehicle class attriubtes using a constructor.\n",
    "\n",
    "3. Create a class Car which inherits the Parent Vehicle class. Add an attribute named tires to the Car class. Override the `show_vehicle()` method of the parent Vehicle class and display name, price and tires attributes. \n",
    "\n",
    "4. Inside the Car class constructor, call the Vehicle class constructor and pass the name and price to the parent Vehicle class constructor.\n",
    "\n",
    "5. Create objects of Car and Vehicle classes, and call `show_vehicle()` method using both objects"
   ]
  },
  {
   "cell_type": "markdown",
   "metadata": {},
   "source": [
    "**Solution:**"
   ]
  },
  {
   "cell_type": "code",
   "execution_count": 42,
   "metadata": {},
   "outputs": [
    {
     "name": "stdout",
     "output_type": "stream",
     "text": [
      "The vehicle name is: Vehicle\n",
      "The vehicle price is: 20000\n",
      "=====\n",
      "The vehicle name is: Car\n",
      "The vehicle price is: 15000\n",
      "Number of tyres: 4\n"
     ]
    }
   ],
   "source": [
    "class Vehicle:\n",
    "    \n",
    "    def __init__(self, name, price):\n",
    "        self.name = name\n",
    "        self.price = price\n",
    "        \n",
    "    def show_vehicle(self):\n",
    "        print(\"The vehicle name is:\", self.name)\n",
    "        print(\"The vehicle price is:\", str(self.price))\n",
    "        \n",
    "\n",
    "class Car(Vehicle):\n",
    "    \n",
    "    def __init__(self, name, price, tires):\n",
    "        super().__init__(name, price)\n",
    "        self.tires = tires\n",
    "        \n",
    "    def show_vehicle(self):\n",
    "        print(\"The vehicle name is:\", self.name)\n",
    "        print(\"The vehicle price is:\", str(self.price))\n",
    "        print(\"Number of tyres:\", str(self.tires))\n",
    "        \n",
    "        \n",
    "vehicle = Vehicle(\"Vehicle\", 20000)\n",
    "vehicle.show_vehicle()\n",
    "\n",
    "print(\"=====\")\n",
    "\n",
    "car = Car(\"Car\", 15000, 4)\n",
    "car.show_vehicle()"
   ]
  },
  {
   "cell_type": "code",
   "execution_count": null,
   "metadata": {},
   "outputs": [],
   "source": []
  }
 ],
 "metadata": {
  "kernelspec": {
   "display_name": "Python 3",
   "language": "python",
   "name": "python3"
  },
  "language_info": {
   "codemirror_mode": {
    "name": "ipython",
    "version": 3
   },
   "file_extension": ".py",
   "mimetype": "text/x-python",
   "name": "python",
   "nbconvert_exporter": "python",
   "pygments_lexer": "ipython3",
   "version": "3.8.3"
  }
 },
 "nbformat": 4,
 "nbformat_minor": 4
}
