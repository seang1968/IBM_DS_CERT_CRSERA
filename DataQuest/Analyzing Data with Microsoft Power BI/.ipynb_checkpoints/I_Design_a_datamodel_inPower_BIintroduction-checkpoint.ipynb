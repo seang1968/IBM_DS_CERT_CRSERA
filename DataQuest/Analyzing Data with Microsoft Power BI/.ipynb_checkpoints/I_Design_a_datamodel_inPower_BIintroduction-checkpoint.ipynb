{
 "cells": [
  {
   "cell_type": "markdown",
   "id": "d42eb64b-1c92-4105-8be1-3b5121163a13",
   "metadata": {},
   "source": [
    "<H2><a href=\"url\">text</a></H2>"
   ]
  },
  {
   "cell_type": "markdown",
   "id": "698b99c8-bd3e-4085-91d4-07d4981c0d1d",
   "metadata": {},
   "source": [
    "<H2><a href=\"url\">text</a></H2>"
   ]
  },
  {
   "cell_type": "markdown",
   "id": "ee9a8db7-48f0-4029-85ce-6c5eaf8e7fd3",
   "metadata": {},
   "source": [
    "<H2><a href=\"url\">text</a></H2>"
   ]
  },
  {
   "cell_type": "markdown",
   "id": "8565bbcc-149d-4393-9b56-5016a009b2d0",
   "metadata": {},
   "source": [
    "<H2><a href=\"url\">text</a></H2>"
   ]
  }
 ],
 "metadata": {
  "kernelspec": {
   "display_name": "Python 3 (ipykernel)",
   "language": "python",
   "name": "python3"
  },
  "language_info": {
   "codemirror_mode": {
    "name": "ipython",
    "version": 3
   },
   "file_extension": ".py",
   "mimetype": "text/x-python",
   "name": "python",
   "nbconvert_exporter": "python",
   "pygments_lexer": "ipython3",
   "version": "3.9.4"
  }
 },
 "nbformat": 4,
 "nbformat_minor": 5
}
