{
 "cells": [
  {
   "cell_type": "markdown",
   "metadata": {},
   "source": [
    "## 8.1. Importing Files in Python"
   ]
  },
  {
   "cell_type": "code",
   "execution_count": 1,
   "metadata": {},
   "outputs": [
    {
     "data": {
      "text/plain": [
       "_io.TextIOWrapper"
      ]
     },
     "execution_count": 1,
     "metadata": {},
     "output_type": "execute_result"
    }
   ],
   "source": [
    "file_handle_text= open(\"E:/Datasets/my_text.txt\", \"r+\")\n",
    "type(file_handle_text)"
   ]
  },
  {
   "cell_type": "code",
   "execution_count": 2,
   "metadata": {},
   "outputs": [
    {
     "data": {
      "text/plain": [
       "_io.TextIOWrapper"
      ]
     },
     "execution_count": 2,
     "metadata": {},
     "output_type": "execute_result"
    }
   ],
   "source": [
    "file_handle_word= open(\"E:/Datasets/my_text.docx\", \"r+\")\n",
    "type(file_handle_word)"
   ]
  },
  {
   "cell_type": "code",
   "execution_count": 3,
   "metadata": {},
   "outputs": [
    {
     "data": {
      "text/plain": [
       "_io.TextIOWrapper"
      ]
     },
     "execution_count": 3,
     "metadata": {},
     "output_type": "execute_result"
    }
   ],
   "source": [
    "file_handle_pdf= open(\"E:/Datasets/my_text.pdf\", \"r+\")\n",
    "type(file_handle_pdf)"
   ]
  },
  {
   "cell_type": "code",
   "execution_count": 4,
   "metadata": {},
   "outputs": [
    {
     "name": "stdout",
     "output_type": "stream",
     "text": [
      "E:/Datasets/my_text.pdf\n",
      "r+\n",
      "False\n"
     ]
    }
   ],
   "source": [
    "print(file_handle_pdf.name)\n",
    "print(file_handle_pdf.mode)\n",
    "print(file_handle_pdf.closed)\n"
   ]
  },
  {
   "cell_type": "code",
   "execution_count": 5,
   "metadata": {},
   "outputs": [
    {
     "name": "stdout",
     "output_type": "stream",
     "text": [
      "True\n"
     ]
    }
   ],
   "source": [
    "file_handle_pdf.close()\n",
    "print(file_handle_pdf.closed)"
   ]
  },
  {
   "cell_type": "markdown",
   "metadata": {},
   "source": [
    "## 8.2. Working with Text Files"
   ]
  },
  {
   "cell_type": "markdown",
   "metadata": {},
   "source": [
    "### 8.2.1. Reading Text Files"
   ]
  },
  {
   "cell_type": "code",
   "execution_count": 6,
   "metadata": {},
   "outputs": [
    {
     "name": "stdout",
     "output_type": "stream",
     "text": [
      "hello there\n",
      "Welcome to Python from zero to hero\n",
      "You will learn Python in this book.\n"
     ]
    }
   ],
   "source": [
    "file_handle_text= open(\"E:/Datasets/my_text.txt\", \"r+\")\n",
    "file_content = file_handle_text.read()\n",
    "print(file_content)"
   ]
  },
  {
   "cell_type": "code",
   "execution_count": 7,
   "metadata": {},
   "outputs": [
    {
     "name": "stdout",
     "output_type": "stream",
     "text": [
      "hello there\n",
      "Welcome \n"
     ]
    }
   ],
   "source": [
    "file_handle_text= open(\"E:/Datasets/my_text.txt\", \"r+\")\n",
    "file_content = file_handle_text.read(20)\n",
    "print(file_content)"
   ]
  },
  {
   "cell_type": "code",
   "execution_count": 8,
   "metadata": {},
   "outputs": [
    {
     "name": "stdout",
     "output_type": "stream",
     "text": [
      "hello there\n",
      "\n",
      "Welcome to Python from zero to hero\n",
      "\n"
     ]
    }
   ],
   "source": [
    "file_handle_text= open(\"E:/Datasets/my_text.txt\", \"r+\")\n",
    "file_line1 = file_handle_text.readline()\n",
    "file_line2 = file_handle_text.readline()\n",
    "print(file_line1)\n",
    "print(file_line2)\n",
    "file_handle_text.close()"
   ]
  },
  {
   "cell_type": "code",
   "execution_count": 9,
   "metadata": {},
   "outputs": [
    {
     "name": "stdout",
     "output_type": "stream",
     "text": [
      "hello there\n",
      "Welcome to Python from zero to hero\n",
      "You will learn Python in this book.\n"
     ]
    }
   ],
   "source": [
    "with open(\"E:/Datasets/my_text.txt\", mode ='r')as file_handle_text:\n",
    "    file_content = file_handle_text.read()\n",
    "    print(file_content)"
   ]
  },
  {
   "cell_type": "markdown",
   "metadata": {},
   "source": [
    "### 8.2.2. Writing/Creating Text Files"
   ]
  },
  {
   "cell_type": "code",
   "execution_count": 10,
   "metadata": {},
   "outputs": [],
   "source": [
    "file_handle_text= open(\"E:/Datasets/my_text.txt\", \"a\")\n",
    "file_handle_text.write(\"This line is appended to the existing file\")\n",
    "file_handle_text.close()"
   ]
  },
  {
   "cell_type": "code",
   "execution_count": 11,
   "metadata": {},
   "outputs": [
    {
     "name": "stdout",
     "output_type": "stream",
     "text": [
      "hello there\n",
      "Welcome to Python from zero to hero\n",
      "You will learn Python in this book.This line is appended to the existing file\n"
     ]
    }
   ],
   "source": [
    "file_handle_text= open(\"E:/Datasets/my_text.txt\", \"r+\")\n",
    "file_content = file_handle_text.read()\n",
    "print(file_content)"
   ]
  },
  {
   "cell_type": "code",
   "execution_count": 12,
   "metadata": {},
   "outputs": [],
   "source": [
    "file_handle_text= open(\"E:/Datasets/my_text2.txt\", \"a\")\n",
    "file_handle_text.write(\"This line will overwrite the existing content or will be written in a new file\")\n",
    "file_handle_text.close()"
   ]
  },
  {
   "cell_type": "markdown",
   "metadata": {},
   "source": [
    "## 8.3. Working with CSV Files"
   ]
  },
  {
   "cell_type": "markdown",
   "metadata": {},
   "source": [
    "### 8.3.1. Reading CSV Files"
   ]
  },
  {
   "cell_type": "code",
   "execution_count": 13,
   "metadata": {},
   "outputs": [
    {
     "name": "stdout",
     "output_type": "stream",
     "text": [
      "['name', ' age', ' gender', ' city']\n",
      "['jon', ' 25', ' male', ' london']\n",
      "['ned', ' 30', ' male', ' paris']\n",
      "['sara', '29', ' female', ' tokyo']\n",
      "['elis', '20', ' female', ' toronto']\n"
     ]
    }
   ],
   "source": [
    "import csv \n",
    "\n",
    "with open(\"E:/Datasets/my_csvfile.csv\", mode ='r')as file_handle_csv:\n",
    "    file_content = csv.reader(file_handle_csv)\n",
    "    for row in file_content:\n",
    "        print(row)"
   ]
  },
  {
   "cell_type": "markdown",
   "metadata": {},
   "source": [
    "### 8.3.2. Writing CSV Files"
   ]
  },
  {
   "cell_type": "code",
   "execution_count": 14,
   "metadata": {},
   "outputs": [],
   "source": [
    "import csv\n",
    "\n",
    "headers = ['Name', 'Age', 'Gender', 'City'] \n",
    "    \n",
    "\n",
    "records = [ ['nick', 29, 'male', 'lyon'], \n",
    "         ['joseph', 30, 'male', 'manchester'], \n",
    "         ['zita', 35, 'female', 'berlin']] \n",
    "\n",
    "with open(\"E:/Datasets/my_csvfile2.csv\", mode ='w',  newline = '')as file_handle_csv:\n",
    "    csv_writer = csv.writer(file_handle_csv)\n",
    "     # writing the header\n",
    "    csv_writer.writerow(headers) \n",
    "        \n",
    "    # writing the rows \n",
    "    csv_writer.writerows(records)"
   ]
  },
  {
   "cell_type": "code",
   "execution_count": 15,
   "metadata": {},
   "outputs": [
    {
     "name": "stdout",
     "output_type": "stream",
     "text": [
      "['Name', 'Age', 'Gender', 'City']\n",
      "['nick', '29', 'male', 'lyon']\n",
      "['joseph', '30', 'male', 'manchester']\n",
      "['zita', '35', 'female', 'berlin']\n"
     ]
    }
   ],
   "source": [
    "import csv \n",
    "\n",
    "with open(\"E:/Datasets/my_csvfile2.csv\", mode ='r')as file_handle_csv:\n",
    "    file_content = csv.reader(file_handle_csv)\n",
    "    for row in file_content:\n",
    "        print(row)"
   ]
  },
  {
   "cell_type": "markdown",
   "metadata": {},
   "source": [
    "## 8.4. Working with PDF Files"
   ]
  },
  {
   "cell_type": "code",
   "execution_count": 16,
   "metadata": {},
   "outputs": [],
   "source": [
    "#$ pip install PyPDF2"
   ]
  },
  {
   "cell_type": "markdown",
   "metadata": {},
   "source": [
    "### 8.4.1. Reading PDF Files"
   ]
  },
  {
   "cell_type": "code",
   "execution_count": 17,
   "metadata": {},
   "outputs": [
    {
     "name": "stdout",
     "output_type": "stream",
     "text": [
      "3\n"
     ]
    }
   ],
   "source": [
    "import PyPDF2\n",
    "file_handle_pdf= open(\"E:/Datasets/my_text.pdf\", \"rb\")\n",
    "pdf_object = PyPDF2.PdfFileReader(file_handle_pdf)\n",
    "print(pdf_object.numPages)"
   ]
  },
  {
   "cell_type": "code",
   "execution_count": 18,
   "metadata": {},
   "outputs": [
    {
     "name": "stdout",
     "output_type": "stream",
     "text": [
      " \n",
      "hello there. This is a pdf file\n",
      " \n",
      "You can read this file with Python\n",
      " \n",
      "You can also write a PDF file with Python\n",
      " \n",
      " \n",
      " \n",
      " \n",
      " \n",
      " \n",
      " \n",
      " \n",
      " \n",
      " \n",
      " \n",
      " \n",
      " \n",
      " \n",
      " \n",
      " \n",
      " \n",
      " \n",
      " \n",
      " \n",
      " \n",
      " \n",
      " \n",
      " \n",
      " \n",
      " \n",
      "\n"
     ]
    }
   ],
   "source": [
    "page_one = pdf_object.getPage(0)\n",
    "print(page_one.extractText())"
   ]
  },
  {
   "cell_type": "code",
   "execution_count": 19,
   "metadata": {},
   "outputs": [
    {
     "name": "stdout",
     "output_type": "stream",
     "text": [
      "===================\n",
      " \n",
      "hello there. This is a pdf file\n",
      " \n",
      "You can read this file with Python\n",
      " \n",
      "You can also write a PDF file with Python\n",
      " \n",
      " \n",
      " \n",
      " \n",
      " \n",
      " \n",
      " \n",
      " \n",
      " \n",
      " \n",
      " \n",
      " \n",
      " \n",
      " \n",
      " \n",
      " \n",
      " \n",
      " \n",
      " \n",
      " \n",
      " \n",
      " \n",
      " \n",
      " \n",
      " \n",
      " \n",
      "\n",
      "===================\n",
      " \n",
      "This is \n",
      "pag\n",
      "e 2 of the doc\n",
      "ument\n",
      " \n",
      "hello there. This is a pdf file\n",
      " \n",
      "You can read this file with Python\n",
      " \n",
      "You can also write a PDF file with Python\n",
      " \n",
      " \n",
      " \n",
      " \n",
      " \n",
      " \n",
      " \n",
      " \n",
      " \n",
      " \n",
      " \n",
      " \n",
      " \n",
      " \n",
      " \n",
      " \n",
      " \n",
      " \n",
      " \n",
      " \n",
      " \n",
      " \n",
      " \n",
      " \n",
      " \n",
      "\n",
      "===================\n",
      " \n",
      "This is \n",
      "pag\n",
      "e \n",
      "3\n",
      " \n",
      "of the doc\n",
      "ument\n",
      " \n",
      "hello there. This is a pdf file\n",
      " \n",
      "You can read this file with Python\n",
      " \n",
      "You can also write a PDF file with Python\n",
      " \n",
      " \n",
      "\n"
     ]
    }
   ],
   "source": [
    "for i in range(pdf_object.numPages):\n",
    "    new_page = pdf_object.getPage(i)\n",
    "    print(\"===================\")\n",
    "    print(new_page.extractText())"
   ]
  },
  {
   "cell_type": "markdown",
   "metadata": {},
   "source": [
    "### 8.4.2. Writing PDF Files"
   ]
  },
  {
   "cell_type": "code",
   "execution_count": 22,
   "metadata": {},
   "outputs": [],
   "source": [
    "pdf_writer = PyPDF2.PdfFileWriter()\n",
    "\n",
    "## getting first page of my_text.pdf\n",
    "file_handle_pdf= open(\"E:/Datasets/my_text.pdf\", \"rb\")\n",
    "pdf_object = PyPDF2.PdfFileReader(file_handle_pdf)\n",
    "page_one = pdf_object.getPage(0)\n",
    "\n",
    "## adding first page to the pdf writer\n",
    "pdf_writer.addPage(page_one)\n",
    "\n",
    "## creating new pdf document \n",
    "new_pdf_file = open(\"E:/Datasets/my_text2.pdf\", 'wb')\n",
    "\n",
    "## saving new pdf file\n",
    "pdf_writer.write(new_pdf_file)\n",
    "\n",
    "## closing the file\n",
    "new_pdf_file.close()\n"
   ]
  },
  {
   "cell_type": "markdown",
   "metadata": {},
   "source": [
    "## 8.5. Sending and Receiving Data Over Sockets"
   ]
  },
  {
   "cell_type": "markdown",
   "metadata": {},
   "source": [
    "### 8.5.1. Sending Data Through Socket"
   ]
  },
  {
   "cell_type": "code",
   "execution_count": null,
   "metadata": {},
   "outputs": [
    {
     "name": "stdout",
     "output_type": "stream",
     "text": [
      "Socket successfully created\n",
      "socket connected to port 5555\n",
      "Server is listening to request\n",
      "Received connection request from ('127.0.0.1', 63569)\n"
     ]
    }
   ],
   "source": [
    "\n",
    "import socket             \n",
    "  \n",
    "\n",
    "new_socket = socket.socket()         \n",
    "print (\"Socket successfully created\")\n",
    "  \n",
    "\n",
    "port = 5555             \n",
    "  \n",
    "\n",
    "new_socket.bind(('', port))         \n",
    "print (\"socket connected to port %s\" %(port)) \n",
    "  \n",
    "\n",
    "new_socket.listen(5)     \n",
    "print (\"Server is listening to request\")            \n",
    "  \n",
    "while True: \n",
    "  \n",
    "    conn, clt_address = new_socket.accept()     \n",
    "    print ('Received connection request from', clt_address)\n",
    "\n",
    "    conn.send(b'Welcome to the server') \n",
    "  \n",
    "conn.close() "
   ]
  },
  {
   "cell_type": "markdown",
   "metadata": {},
   "source": [
    "### 8.5.2  Receiving Data through a Socket "
   ]
  },
  {
   "cell_type": "code",
   "execution_count": null,
   "metadata": {},
   "outputs": [],
   "source": [
    "# this script should be run in a new application\n",
    "# -*- coding: utf-8 -*-\n",
    "\"\"\"\n",
    "Created on Sat Apr  3 13:24:23 2021\n",
    "\n",
    "@author: usman\n",
    "\"\"\"\n",
    "# Import socket module \n",
    "import socket             \n",
    "  \n",
    "\n",
    "client_socket = socket.socket()         \n",
    "   \n",
    "port = 5555\n",
    "\n",
    "\n",
    "client_socket.connect(('127.0.0.1', port)) \n",
    "  \n",
    "print (client_socket.recv(2048) )\n",
    "\n",
    "client_socket.close()   "
   ]
  },
  {
   "cell_type": "code",
   "execution_count": null,
   "metadata": {},
   "outputs": [],
   "source": [
    "b'Welcome to the server'"
   ]
  },
  {
   "cell_type": "markdown",
   "metadata": {},
   "source": [
    "## Exercise 8.1"
   ]
  },
  {
   "cell_type": "markdown",
   "metadata": {},
   "source": [
    "**Question 1:**\n",
    "\n",
    "The value of \"w\" for mode attribute in the `open()` function\n",
    "\n",
    "A. Opens a file for writing\n",
    "\n",
    "B. Creates a new file if a file with the same name doesn't exist\n",
    "\n",
    "C. Overwrites all the contents of an existing file\n",
    "\n",
    "D. All of the above\n",
    "\n",
    "**Answer: D**\n",
    "    \n",
    "\n",
    "**Question 2:**\n",
    "\n",
    "Which method of the `csv.write` object is used for adding a single record to a CSV file\n",
    "\n",
    "A. addrows()\n",
    "\n",
    "B. writerows()\n",
    "\n",
    "C. appendrows()\n",
    "\n",
    "D. insertrows()\n",
    "\n",
    "**Answer: B**\n",
    "    \n",
    "    \n",
    "**Question 3:**\n",
    "\n",
    "What are the parameters values that you need to pass to the `connect()` method of the `socket()`, to connect to a remote server application through a socket.\n",
    "\n",
    "A. Server name and server ip name\n",
    "\n",
    "B. Server ip address and port number\n",
    "\n",
    "C. Server ip address, port number, and application name\n",
    "\n",
    "D. Both A and C\n",
    "    \n",
    "**Answer: B**"
   ]
  },
  {
   "cell_type": "markdown",
   "metadata": {},
   "source": [
    "## Exercise 8.2"
   ]
  },
  {
   "cell_type": "markdown",
   "metadata": {},
   "source": [
    "Create a new text file. Write three lines of text the text file. Read all the text from the file line by line using the `with` operator."
   ]
  },
  {
   "cell_type": "markdown",
   "metadata": {},
   "source": [
    "**Solution:**"
   ]
  },
  {
   "cell_type": "code",
   "execution_count": 2,
   "metadata": {},
   "outputs": [],
   "source": [
    "file_handle_text= open(\"E:/Datasets/my_new_file.txt\", \"w\")\n",
    "file_handle_text.write(\"This is line 1\\n\")\n",
    "file_handle_text.write(\"This is line 2\\n\")\n",
    "file_handle_text.write(\"This is line 3\\n\")\n",
    "file_handle_text.close()"
   ]
  },
  {
   "cell_type": "code",
   "execution_count": 3,
   "metadata": {},
   "outputs": [
    {
     "name": "stdout",
     "output_type": "stream",
     "text": [
      "This is line 1\n",
      "This is line 2\n",
      "This is line 3\n",
      "\n"
     ]
    }
   ],
   "source": [
    "with open(\"E:/Datasets/my_new_file.txt\", mode ='r')as file_handle_text:\n",
    "    file_content = file_handle_text.read()\n",
    "    print(file_content)"
   ]
  },
  {
   "cell_type": "code",
   "execution_count": null,
   "metadata": {},
   "outputs": [],
   "source": []
  }
 ],
 "metadata": {
  "kernelspec": {
   "display_name": "Python 3",
   "language": "python",
   "name": "python3"
  },
  "language_info": {
   "codemirror_mode": {
    "name": "ipython",
    "version": 3
   },
   "file_extension": ".py",
   "mimetype": "text/x-python",
   "name": "python",
   "nbconvert_exporter": "python",
   "pygments_lexer": "ipython3",
   "version": "3.8.3"
  }
 },
 "nbformat": 4,
 "nbformat_minor": 4
}
