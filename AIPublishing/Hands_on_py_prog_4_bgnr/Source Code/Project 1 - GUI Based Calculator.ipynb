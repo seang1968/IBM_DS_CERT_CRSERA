{
 "cells": [
  {
   "cell_type": "markdown",
   "metadata": {},
   "source": [
    "## Importing the Required Libraries\n"
   ]
  },
  {
   "cell_type": "code",
   "execution_count": 1,
   "metadata": {},
   "outputs": [],
   "source": [
    "# importing tkinter\n",
    "from tkinter import *\n",
    "\n",
    "# importing tkk\n",
    "from tkinter import ttk\n",
    "\n"
   ]
  },
  {
   "cell_type": "markdown",
   "metadata": {},
   "source": [
    "## Creating Main Window"
   ]
  },
  {
   "cell_type": "code",
   "execution_count": 2,
   "metadata": {},
   "outputs": [
    {
     "data": {
      "text/plain": [
       "''"
      ]
     },
     "execution_count": 2,
     "metadata": {},
     "output_type": "execute_result"
    }
   ],
   "source": [
    "# creating instance of Tk class\n",
    "main_window = Tk()\n",
    "main_window.title(\"My Simple Calculator\")\n"
   ]
  },
  {
   "cell_type": "code",
   "execution_count": 3,
   "metadata": {},
   "outputs": [],
   "source": [
    "# adding four columns to main window\n",
    "main_window.columnconfigure(0, weight=1)\n",
    "main_window.columnconfigure(1, weight=1)\n",
    "main_window.columnconfigure(2, weight=1)\n",
    "main_window.columnconfigure(3, weight=1)"
   ]
  },
  {
   "cell_type": "markdown",
   "metadata": {},
   "source": [
    "## Adding Widgets and Callbacks"
   ]
  },
  {
   "cell_type": "code",
   "execution_count": 4,
   "metadata": {},
   "outputs": [],
   "source": [
    "text = StringVar()\n",
    "# creating a text field using Entry class\n",
    "text_field = ttk.Entry(main_window, textvariable = text, width=55 )\n",
    "\n",
    "# attaching label to first row and second column\n",
    "text_field.grid(row=0, column=0, columnspan = 4,  padx=5, pady=5)"
   ]
  },
  {
   "cell_type": "code",
   "execution_count": 5,
   "metadata": {},
   "outputs": [],
   "source": [
    "\n",
    "\n",
    "expression_string =\"\"\n",
    "\n",
    "def press_button(num):\n",
    "    # access the global expression_string\n",
    "    global expression_string\n",
    " \n",
    "    # add new text to the existing expression_string\n",
    "    expression_string = expression_string + str(num)\n",
    " \n",
    "    # update the text field with expression_string\n",
    "    text.set(expression_string)"
   ]
  },
  {
   "cell_type": "code",
   "execution_count": 6,
   "metadata": {},
   "outputs": [],
   "source": [
    "def press_equal_button():\n",
    "\n",
    "    try:\n",
    "        # access the global expression_string\n",
    "        global expression_string\n",
    " \n",
    "        # evaluate the text in expression_string\n",
    "        result = str(eval(expression_string))\n",
    " \n",
    "        # display the result in the text field\n",
    "        text.set(result)\n",
    " \n",
    "        # update expression_string to an empty string\n",
    "        expression_string = \"\"\n",
    " \n",
    "    except:\n",
    "        # show error in case of exception\n",
    "        text.set(\" error \")\n",
    "        \n",
    "        # update expression_string to an empty string\n",
    "        expression_string = \"\""
   ]
  },
  {
   "cell_type": "code",
   "execution_count": 7,
   "metadata": {},
   "outputs": [],
   "source": [
    "def clear():\n",
    "    # update expression_string to an empty string\n",
    "    expression_string = \"\"\n",
    "\n",
    "    # update text field to an empty string\n",
    "    text.set(\"\")"
   ]
  },
  {
   "cell_type": "code",
   "execution_count": 8,
   "metadata": {},
   "outputs": [],
   "source": [
    "# creating a themed button for digit 1 and attaching it to the main window\n",
    "my_button1 = ttk.Button(main_window, text = \"1\", command = lambda : press_button(1))\n",
    "\n",
    "my_button1.grid(row=1, column=0,  padx=5, pady=5)\n",
    "\n",
    "# creating a themed button for digit 2 and attaching it to the main window\n",
    "my_button2 = ttk.Button(main_window, text = \"2\", command = lambda : press_button(2))\n",
    "\n",
    "my_button2.grid(row=1, column=1,  padx=5, pady=5)\n",
    "\n",
    "# creating a themed button for digit 3 and attaching it to the main window\n",
    "my_button3 = ttk.Button(main_window, text = \"3\", command = lambda : press_button(3))\n",
    "\n",
    "my_button3.grid(row=1, column=2,  padx=5, pady=5)\n",
    "\n",
    "# creating a themed button for sign + and attaching it to the main window\n",
    "my_button_plus = ttk.Button(main_window, text = \"+\", command = lambda : press_button(\"+\"))\n",
    "\n",
    "my_button_plus.grid(row=1, column=3,  padx=5, pady=5)"
   ]
  },
  {
   "cell_type": "code",
   "execution_count": 9,
   "metadata": {},
   "outputs": [],
   "source": [
    "# creating a themed button for digit 4 and attaching it to the main window\n",
    "my_button4 = ttk.Button(main_window, text = \"4\", command = lambda : press_button(4))\n",
    "\n",
    "my_button4.grid(row=2, column=0,  padx=5, pady=5)\n",
    "\n",
    "# creating a themed button for digit 5 and attaching it to the main window\n",
    "my_button5 = ttk.Button(main_window, text = \"5\", command = lambda : press_button(5))\n",
    "\n",
    "my_button5.grid(row=2, column=1,  padx=5, pady=5)\n",
    "\n",
    "# creating a themed button for digit 6 and attaching it to the main window\n",
    "my_button6 = ttk.Button(main_window, text = \"6\", command = lambda : press_button(6))\n",
    "\n",
    "my_button6.grid(row=2, column=2,  padx=5, pady=5)\n",
    "\n",
    "# creating a themed button for sign - and attaching it to the main window\n",
    "my_button_minus = ttk.Button(main_window, text = \"-\", command = lambda : press_button(\"-\"))\n",
    "\n",
    "my_button_minus.grid(row=2, column=3,  padx=5, pady=5)"
   ]
  },
  {
   "cell_type": "code",
   "execution_count": 10,
   "metadata": {},
   "outputs": [],
   "source": [
    "# creating a themed button for digit 7 and attaching it to the main window\n",
    "my_button7 = ttk.Button(main_window, text = \"7\", command = lambda : press_button(7))\n",
    "\n",
    "my_button7.grid(row=3, column=0,  padx=5, pady=5)\n",
    "\n",
    "# creating a themed button for digit 8 and attaching it to the main window\n",
    "my_button8 = ttk.Button(main_window, text = \"8\", command = lambda : press_button(8))\n",
    "\n",
    "my_button8.grid(row=3, column=1,  padx=5, pady=5)\n",
    "\n",
    "# creating a themed button for digit 9 and attaching it to the main window\n",
    "my_button9 = ttk.Button(main_window, text = \"9\", command = lambda : press_button(9))\n",
    "\n",
    "my_button9.grid(row=3, column=2,  padx=5, pady=5)\n",
    "\n",
    "# creating a themed button for sign x and attaching it to the main window\n",
    "my_button_mul = ttk.Button(main_window, text = \"x\", command = lambda : press_button(\"*\"))\n",
    "\n",
    "my_button_mul.grid(row=3, column=3,  padx=5, pady=5)"
   ]
  },
  {
   "cell_type": "code",
   "execution_count": 11,
   "metadata": {},
   "outputs": [],
   "source": [
    "# creating a themed button for digit 0 and attaching it to the main window\n",
    "my_button0 = ttk.Button(main_window, text = \"0\", command = lambda : press_button(0))\n",
    "\n",
    "my_button0.grid(row=4, column=0,  padx=5, pady=5)\n",
    "\n",
    "# creating a themed button for a dot and attaching it to the main window\n",
    "my_button_dot = ttk.Button(main_window, text = \".\", command = lambda : press_button(\".\"))\n",
    "\n",
    "my_button_dot.grid(row=4, column=1,  padx=5, pady=5)\n",
    "\n",
    "# creating a themed button for clear and attaching it to the main window\n",
    "my_button_clr = ttk.Button(main_window, text = \"clear\", command = clear)\n",
    "\n",
    "my_button_clr.grid(row=4, column=2,  padx=5, pady=5)\n",
    "\n",
    "# creating a themed button for sign / and attaching it to the main window\n",
    "my_button_div = ttk.Button(main_window, text = \"/\", command = lambda : press_button(\"/\"))\n",
    "\n",
    "my_button_div.grid(row=4, column=3,  padx=5, pady=5)"
   ]
  },
  {
   "cell_type": "code",
   "execution_count": 12,
   "metadata": {},
   "outputs": [],
   "source": [
    "# creating a themed button for sign = and attaching it to the main window\n",
    "my_button_eqls = ttk.Button(main_window, text = \"=\",  width=55, command = press_equal_button)\n",
    "my_button_eqls.grid(row=5, column=0, columnspan = 4,  padx=5, pady=5)"
   ]
  },
  {
   "cell_type": "code",
   "execution_count": 13,
   "metadata": {},
   "outputs": [],
   "source": [
    "# displaying the main window\n",
    "main_window.mainloop()"
   ]
  }
 ],
 "metadata": {
  "kernelspec": {
   "display_name": "Python 3",
   "language": "python",
   "name": "python3"
  },
  "language_info": {
   "codemirror_mode": {
    "name": "ipython",
    "version": 3
   },
   "file_extension": ".py",
   "mimetype": "text/x-python",
   "name": "python",
   "nbconvert_exporter": "python",
   "pygments_lexer": "ipython3",
   "version": "3.8.3"
  }
 },
 "nbformat": 4,
 "nbformat_minor": 4
}
