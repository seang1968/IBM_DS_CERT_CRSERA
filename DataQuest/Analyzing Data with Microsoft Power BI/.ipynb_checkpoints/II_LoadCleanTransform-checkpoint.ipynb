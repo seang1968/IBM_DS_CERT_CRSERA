{
 "cells": [
  {
   "cell_type": "markdown",
   "id": "d42eb64b-1c92-4105-8be1-3b5121163a13",
   "metadata": {},
   "source": [
    "<H2><a href=\"https://app.dataquest.io/c/120/m/695/load%2C-clean%2C-and-transform-data-in-power-bi---ii/1/introduction\">Course Material</a></H2>"
   ]
  },
  {
   "cell_type": "code",
   "execution_count": null,
   "id": "68db8c6f-452e-4174-858d-048acc03edf2",
   "metadata": {},
   "outputs": [],
   "source": []
  },
  {
   "cell_type": "code",
   "execution_count": null,
   "id": "2f91e187-5f65-4fbb-8d41-29edb867a540",
   "metadata": {},
   "outputs": [],
   "source": []
  },
  {
   "cell_type": "code",
   "execution_count": null,
   "id": "71c0adf4-4915-47ed-a993-3f5c473f2e5b",
   "metadata": {},
   "outputs": [],
   "source": []
  },
  {
   "cell_type": "code",
   "execution_count": null,
   "id": "06675de0-27a7-4649-85af-4df73c8ad3b1",
   "metadata": {},
   "outputs": [],
   "source": []
  },
  {
   "cell_type": "code",
   "execution_count": null,
   "id": "cbeebacc-2af4-4a89-af9a-73e43dd07a57",
   "metadata": {},
   "outputs": [],
   "source": []
  },
  {
   "cell_type": "code",
   "execution_count": null,
   "id": "0da6924e-eb24-407c-a054-150f9264ce72",
   "metadata": {},
   "outputs": [],
   "source": []
  },
  {
   "cell_type": "code",
   "execution_count": null,
   "id": "a92f5437-801d-4835-9a91-34ec17d8c984",
   "metadata": {},
   "outputs": [],
   "source": []
  },
  {
   "cell_type": "code",
   "execution_count": null,
   "id": "ca674536-3321-4741-86fb-16a317745cca",
   "metadata": {},
   "outputs": [],
   "source": []
  },
  {
   "cell_type": "code",
   "execution_count": null,
   "id": "30658769-a938-4713-8388-eb8af6ea2b00",
   "metadata": {},
   "outputs": [],
   "source": []
  },
  {
   "cell_type": "code",
   "execution_count": null,
   "id": "76d07eba-05fa-4c82-a2af-65bfacec07f6",
   "metadata": {},
   "outputs": [],
   "source": []
  },
  {
   "cell_type": "code",
   "execution_count": null,
   "id": "9308fbd8-dd6a-462d-ac21-87e618065d63",
   "metadata": {},
   "outputs": [],
   "source": []
  },
  {
   "cell_type": "code",
   "execution_count": null,
   "id": "3aabef39-0cd5-440c-9bbd-0d849a0886cb",
   "metadata": {},
   "outputs": [],
   "source": []
  },
  {
   "cell_type": "code",
   "execution_count": null,
   "id": "57d09dcc-27fe-486f-9918-8e9e5498dcf5",
   "metadata": {},
   "outputs": [],
   "source": []
  },
  {
   "cell_type": "markdown",
   "id": "698b99c8-bd3e-4085-91d4-07d4981c0d1d",
   "metadata": {},
   "source": [
    "<H2><a href=\"url\">text</a></H2>"
   ]
  },
  {
   "cell_type": "markdown",
   "id": "ee9a8db7-48f0-4029-85ce-6c5eaf8e7fd3",
   "metadata": {},
   "source": [
    "<H2><a href=\"url\">text</a></H2>"
   ]
  },
  {
   "cell_type": "markdown",
   "id": "8565bbcc-149d-4393-9b56-5016a009b2d0",
   "metadata": {},
   "source": [
    "<H2><a href=\"url\">text</a></H2>"
   ]
  }
 ],
 "metadata": {
  "kernelspec": {
   "display_name": "Python 3 (ipykernel)",
   "language": "python",
   "name": "python3"
  },
  "language_info": {
   "codemirror_mode": {
    "name": "ipython",
    "version": 3
   },
   "file_extension": ".py",
   "mimetype": "text/x-python",
   "name": "python",
   "nbconvert_exporter": "python",
   "pygments_lexer": "ipython3",
   "version": "3.9.4"
  }
 },
 "nbformat": 4,
 "nbformat_minor": 5
}
