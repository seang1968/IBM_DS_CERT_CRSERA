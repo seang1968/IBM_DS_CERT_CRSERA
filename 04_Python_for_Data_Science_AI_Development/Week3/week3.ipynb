{
 "cells": [
  {
   "cell_type": "markdown",
   "id": "810a245c-86a0-40d7-b781-9068daae0209",
   "metadata": {},
   "source": [
    "## Python Programming Fundamentals"
   ]
  },
  {
   "cell_type": "markdown",
   "id": "ec3e67b9-75d8-4aa0-bc33-c2b40ac405b8",
   "metadata": {},
   "source": [
    "<html>\n",
    "<head>\n",
    "</head>\n",
    "<body>\n",
    "<div data-testid=\"instructor-note-body\" class=\"css-1qm1lh\"\n",
    "style=\"margin-bottom: 16px; color: rgb(51, 51, 51); font-family: &quot;Source Sans Pro&quot;,Arial,sans-serif; font-size: 16px; font-style: normal; font-weight: 400; letter-spacing: normal; orphans: 2; text-align: start; text-indent: 0px; text-transform: none; white-space: normal; widows: 2; word-spacing: 0px; background-color: rgb(255, 255, 255);\">This\n",
    "module discusses Python fundamentals and begins with the concepts of\n",
    "conditions and branching. Continue through the module and learn how to\n",
    "implement loops to iterate over sequences, create functions to perform\n",
    "a specific task, perform exception handling to catch errors, and how\n",
    "classes are needed to create objects.</div>\n",
    "<div\n",
    "style=\"color: rgb(51, 51, 51); font-family: &quot;Source Sans Pro&quot;,Arial,sans-serif; font-size: 16px; font-style: normal; font-weight: 400; letter-spacing: normal; orphans: 2; text-align: start; text-indent: 0px; text-transform: none; white-space: normal; widows: 2; word-spacing: 0px; background-color: rgb(255, 255, 255);\">\n",
    "<h3 class=\"cds-137 css-12okcgw cds-139\"\n",
    "style=\"margin: 0px; padding: 0px 0px 0px 24px; font-family: &quot;Source Sans Pro&quot;,Arial,sans-serif; max-width: 100%; font-weight: 700; color: rgb(31, 31, 31); letter-spacing: -0.1px;\">Learning\n",
    "Objectives</h3>\n",
    "<hr class=\"cds-434 css-1r7lzaq\" aria-hidden=\"true\"\n",
    "style=\"border: medium none ; margin: 16px 0px 0px; background: rgb(146, 149, 153) none repeat scroll 0%; overflow: visible; height: 1px; -moz-background-clip: -moz-initial; -moz-background-origin: -moz-initial; -moz-background-inline-policy: -moz-initial;\">\n",
    "<ul\n",
    "style=\"margin-bottom: 10px; margin-top: 0px; font-size: 1em; outline-color: invert; outline-style: none; outline-width: 0px;\">\n",
    "<li data-collapsible=\"false\" style=\"\">Classify conditions and\n",
    "branching by identifying structured scenarios with outputs.</li>\n",
    "<li data-collapsible=\"false\" style=\"\">Work with objects and classes.</li>\n",
    "<li data-collapsible=\"false\" style=\"\">Explain objects and classes by\n",
    "identifying data types and creating a class.</li>\n",
    "<li data-collapsible=\"true\" style=\"\">Use exception handling in Python.</li>\n",
    "<li data-collapsible=\"true\" style=\"\">Explain what functions do.</li>\n",
    "<li data-collapsible=\"true\" style=\"\">Build a function using inputs\n",
    "and outputs.</li>\n",
    "<li data-collapsible=\"true\" style=\"\">Explain how for loops and while\n",
    "loops work</li>\n",
    "<li data-collapsible=\"true\" style=\"\">Work with condition statements\n",
    "in Python, including operators and branching</li>\n",
    "<li data-collapsible=\"true\" style=\"\">Create and use loop statements\n",
    "in Python.</li>\n",
    "</ul>\n",
    "</div>\n",
    "</body>\n",
    "</html>\n",
    "\n"
   ]
  },
  {
   "cell_type": "markdown",
   "id": "ae4fc654-0684-4e00-9dac-ae37cfcdc796",
   "metadata": {},
   "source": [
    "## Conditions and Branching"
   ]
  },
  {
   "cell_type": "markdown",
   "id": "db66aa7c-c404-4787-a52c-d3a25b779b7d",
   "metadata": {},
   "source": [
    "<a href=\"PY0101EN-3-1-Conditions.ipynb\">Hands-On Lab: Conditions and Branching</a>"
   ]
  },
  {
   "cell_type": "code",
   "execution_count": null,
   "id": "f1e9cf2e-af90-4814-ba1b-df326a3b679a",
   "metadata": {},
   "outputs": [],
   "source": []
  },
  {
   "cell_type": "code",
   "execution_count": null,
   "id": "cac5856a-0f52-41d2-b377-00f4e9218d6a",
   "metadata": {},
   "outputs": [],
   "source": []
  },
  {
   "cell_type": "code",
   "execution_count": null,
   "id": "c660cc93-822f-4f56-902e-8d8f6629590a",
   "metadata": {},
   "outputs": [],
   "source": []
  },
  {
   "cell_type": "markdown",
   "id": "2f631d01-f020-48aa-83d9-5dc8a0d31fc0",
   "metadata": {},
   "source": [
    "## Loops"
   ]
  },
  {
   "cell_type": "code",
   "execution_count": null,
   "id": "1f27f008-9057-4cc2-a7d8-c730139599da",
   "metadata": {},
   "outputs": [],
   "source": []
  },
  {
   "cell_type": "markdown",
   "id": "e84e0f9e-41e4-42ac-8b79-e7e2a5d900b1",
   "metadata": {},
   "source": [
    "## Functions"
   ]
  },
  {
   "cell_type": "code",
   "execution_count": null,
   "id": "7c4d9cb4-9971-43e8-9393-d7e3adbc48ed",
   "metadata": {},
   "outputs": [],
   "source": []
  },
  {
   "cell_type": "markdown",
   "id": "151360a9-55d2-47bb-868d-78074c0951ce",
   "metadata": {},
   "source": [
    "## Exception Handling"
   ]
  },
  {
   "cell_type": "code",
   "execution_count": null,
   "id": "434ea2fa-9c1a-4b25-85ba-6d9461415621",
   "metadata": {},
   "outputs": [],
   "source": []
  },
  {
   "cell_type": "markdown",
   "id": "7ea96cbd-69bb-44bc-8802-09ff1432b480",
   "metadata": {},
   "source": [
    "## Objects and Classes"
   ]
  },
  {
   "cell_type": "code",
   "execution_count": null,
   "id": "acc0b44b-1ed9-4728-8f35-67ef02ffe5d4",
   "metadata": {},
   "outputs": [],
   "source": []
  },
  {
   "cell_type": "markdown",
   "id": "466b29db-186b-46aa-8488-8b5f6f8778b7",
   "metadata": {},
   "source": [
    "<H1>Study Weeks</H1>\n",
    "<ul>\n",
    "    <li><a href=\"../Week1/week1.ipynb\">week1</a></li>\n",
    "    <li><a href=\"../Week2/week2.ipynb\">week2</a></li>\n",
    "    <li><a href=\"../Week4/week4.ipynb\">week4</a></li>\n",
    "    <li><a href=\"../Week5/week5.ipynb\">week5</a></li>\n",
    "</ul>\n"
   ]
  },
  {
   "cell_type": "code",
   "execution_count": null,
   "id": "fd9b020a-6ab1-4418-8519-acc18118a623",
   "metadata": {},
   "outputs": [],
   "source": []
  }
 ],
 "metadata": {
  "kernelspec": {
   "display_name": "Python 3 (ipykernel)",
   "language": "python",
   "name": "python3"
  },
  "language_info": {
   "codemirror_mode": {
    "name": "ipython",
    "version": 3
   },
   "file_extension": ".py",
   "mimetype": "text/x-python",
   "name": "python",
   "nbconvert_exporter": "python",
   "pygments_lexer": "ipython3",
   "version": "3.9.4"
  }
 },
 "nbformat": 4,
 "nbformat_minor": 5
}
