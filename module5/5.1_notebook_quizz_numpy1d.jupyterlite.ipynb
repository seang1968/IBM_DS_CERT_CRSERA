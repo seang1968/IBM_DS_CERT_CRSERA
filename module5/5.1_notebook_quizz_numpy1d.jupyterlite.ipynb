{
  "metadata": {
    "kernelspec": {
      "name": "python",
      "display_name": "Pyolite",
      "language": "python"
    },
    "language_info": {
      "codemirror_mode": {
        "name": "python",
        "version": 3
      },
      "file_extension": ".py",
      "mimetype": "text/x-python",
      "name": "python",
      "nbconvert_exporter": "python",
      "pygments_lexer": "ipython3",
      "version": "3.8"
    }
  },
  "nbformat_minor": 4,
  "nbformat": 4,
  "cells": [
    {
      "cell_type": "markdown",
      "source": [
        "<center>\n",
        "    <img src=\"https://cf-courses-data.s3.us.cloud-object-storage.appdomain.cloud/IBMDeveloperSkillsNetwork-PY0101EN-SkillsNetwork/IDSNlogo.png\" width=\"300\" alt=\"cognitiveclass.ai logo\"  />\n",
        "</center>\n"
      ],
      "metadata": {}
    },
    {
      "cell_type": "markdown",
      "source": [
        "<h3> Get to Know a Numpy Array </h3>\n"
      ],
      "metadata": {}
    },
    {
      "cell_type": "markdown",
      "source": [
        "Cast the following list to a numpy array:\n"
      ],
      "metadata": {}
    },
    {
      "cell_type": "code",
      "source": "import numpy as np\na=[1,2,3,4,5]\n",
      "metadata": {
        "trusted": true
      },
      "execution_count": null,
      "outputs": []
    },
    {
      "cell_type": "markdown",
      "source": [
        "<details><summary>Click here for the solution</summary>\n",
        "\n",
        "```python\n",
        "x = np.array(a)\n",
        "```\n",
        "\n",
        "</details>\n"
      ],
      "metadata": {}
    },
    {
      "cell_type": "markdown",
      "source": [
        "1.  Find the type of `x` using the function `type()`.\n"
      ],
      "metadata": {}
    },
    {
      "cell_type": "code",
      "source": "",
      "metadata": {
        "trusted": true
      },
      "execution_count": null,
      "outputs": []
    },
    {
      "cell_type": "markdown",
      "source": [
        "<details><summary>Click here for the solution</summary>\n",
        "\n",
        "```python\n",
        "type(x)\n",
        "```\n",
        "\n",
        "</details>\n"
      ],
      "metadata": {}
    },
    {
      "cell_type": "markdown",
      "source": [
        "2.  Find the shape of the array:\n"
      ],
      "metadata": {}
    },
    {
      "cell_type": "code",
      "source": "",
      "metadata": {
        "trusted": true
      },
      "execution_count": null,
      "outputs": []
    },
    {
      "cell_type": "markdown",
      "source": [
        "<details><summary>Click here for the solution</summary>\n",
        "\n",
        "```python\n",
        "x.shape\n",
        "```\n",
        "\n",
        "</details>\n"
      ],
      "metadata": {}
    },
    {
      "cell_type": "markdown",
      "source": [
        "3.  Find the type of data in the array:\n"
      ],
      "metadata": {}
    },
    {
      "cell_type": "code",
      "source": "",
      "metadata": {
        "trusted": true
      },
      "execution_count": null,
      "outputs": []
    },
    {
      "cell_type": "markdown",
      "source": [
        "<details><summary>Click here for the solution</summary>\n",
        "\n",
        "```python\n",
        "x.dtype\n",
        "```\n",
        "\n",
        "</details>\n"
      ],
      "metadata": {}
    },
    {
      "cell_type": "markdown",
      "source": [
        "4.  Find the mean of the array:\n"
      ],
      "metadata": {}
    },
    {
      "cell_type": "code",
      "source": "",
      "metadata": {
        "trusted": true
      },
      "execution_count": null,
      "outputs": []
    },
    {
      "cell_type": "markdown",
      "source": [
        "<details><summary>Click here for the solution</summary>\n",
        "\n",
        "```python\n",
        "x.mean()\n",
        "```\n",
        "\n",
        "</details>\n"
      ],
      "metadata": {}
    },
    {
      "cell_type": "markdown",
      "source": [
        "<hr>\n",
        "\n",
        "<h3 align=\"center\"> © IBM Corporation 2020. All rights reserved. <h3/>\n"
      ],
      "metadata": {}
    }
  ]
}