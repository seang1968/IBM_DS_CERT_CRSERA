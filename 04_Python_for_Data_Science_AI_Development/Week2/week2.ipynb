{
 "cells": [
  {
   "cell_type": "markdown",
   "id": "f544d176-091e-4653-9e35-17eb76ae69e5",
   "metadata": {},
   "source": [
    "## Python Data Structures"
   ]
  },
  {
   "cell_type": "markdown",
   "id": "c7c12938-d37e-4e83-b92c-9f578153bc11",
   "metadata": {},
   "source": [
    "<html>\n",
    "<head>\n",
    "<meta content=\"text/html; charset=ISO-8859-1\"\n",
    "http-equiv=\"content-type\">\n",
    "<title></title>\n",
    "</head>\n",
    "<body>\n",
    "<div data-testid=\"instructor-note-body\" class=\"css-1qm1lh\"\n",
    "style=\"margin-bottom: 16px; color: rgb(51, 51, 51); font-family: &quot;Source Sans Pro&quot;,Arial,sans-serif; font-size: 16px; font-style: normal; font-weight: 400; letter-spacing: normal; orphans: 2; text-align: start; text-indent: 0px; text-transform: none; white-space: normal; widows: 2; word-spacing: 0px; background-color: rgb(255, 255, 255);\">This\n",
    "module begins a journey into Python data structures by explaining the\n",
    "use of lists and tuples and how they are able to store collections of\n",
    "data in a single variable. Next learn about dictionaries and how they\n",
    "function by storing data in pairs of keys and values, and end with\n",
    "Python sets to learn how this type of collection can appear in any\n",
    "order and will only contain unique elements.</div>\n",
    "<div\n",
    "style=\"color: rgb(51, 51, 51); font-family: &quot;Source Sans Pro&quot;,Arial,sans-serif; font-size: 16px; font-style: normal; font-weight: 400; letter-spacing: normal; orphans: 2; text-align: start; text-indent: 0px; text-transform: none; white-space: normal; widows: 2; word-spacing: 0px; background-color: rgb(255, 255, 255);\">\n",
    "<h3 class=\"cds-137 css-12okcgw cds-139\"\n",
    "style=\"margin: 0px; padding: 0px 0px 0px 24px; font-family: &quot;Source Sans Pro&quot;,Arial,sans-serif; max-width: 100%; font-weight: 700; color: rgb(31, 31, 31); letter-spacing: -0.1px;\">Learning\n",
    "Objectives</h3>\n",
    "<hr class=\"cds-362 css-1r7lzaq\" aria-hidden=\"true\"\n",
    "style=\"border: medium none ; margin: 16px 0px 0px; background: rgb(146, 149, 153) none repeat scroll 0%; overflow: visible; height: 1px; -moz-background-clip: -moz-initial; -moz-background-origin: -moz-initial; -moz-background-inline-policy: -moz-initial;\">\n",
    "<ul\n",
    "style=\"margin-bottom: 10px; margin-top: 0px; font-size: 1em; outline-color: invert; outline-style: none; outline-width: 0px;\">\n",
    "<li data-collapsible=\"false\" style=\"\">Describe and manipulate tuple\n",
    "combinations and list data structures.</li>\n",
    "<li data-collapsible=\"false\" style=\"\">Execute basic tuple operations\n",
    "in Python.</li>\n",
    "<li data-collapsible=\"false\" style=\"\">Perform list operations in\n",
    "Python.</li>\n",
    "<li data-collapsible=\"true\" style=\"\">Write structures with correct\n",
    "keys and values to demonstrate understanding of dictionaries.</li>\n",
    "<li data-collapsible=\"true\" style=\"\">Work with and perform operations\n",
    "on dictionaries in Python.</li>\n",
    "<li data-collapsible=\"true\" style=\"\">Create sets to demonstrate\n",
    "understanding of the differences between sets, tuples, and lists.</li>\n",
    "<li data-collapsible=\"true\" style=\"\">Work with sets in Python,\n",
    "including operations and logic operations</li>\n",
    "</ul>\n",
    "</div>\n",
    "</body>\n",
    "</html>\n",
    "\n"
   ]
  },
  {
   "cell_type": "markdown",
   "id": "a707cd07-909a-4b63-9967-4466fe141c8f",
   "metadata": {},
   "source": [
    "***"
   ]
  },
  {
   "cell_type": "markdown",
   "id": "ca1ced65-724a-4286-b2f8-aadf08151752",
   "metadata": {},
   "source": [
    "## Lists and Tuples"
   ]
  },
  {
   "cell_type": "markdown",
   "id": "7d3e95c6-1427-42d1-85be-f514aacdbc17",
   "metadata": {},
   "source": [
    "<a href=\"PY0101EN-2-2-Lists.ipynb\">Hands-On Lab: Lists</a>"
   ]
  },
  {
   "cell_type": "markdown",
   "id": "a31b6930-0329-4b3a-96bb-7f4060da3775",
   "metadata": {},
   "source": [
    "<a href=\"PY0101EN-2-1-Tuples.ipynb\">Hands-On Lab: Tuples</a>"
   ]
  },
  {
   "cell_type": "markdown",
   "id": "4ae83153-923f-4496-97d8-e524a8cd24b3",
   "metadata": {},
   "source": [
    "<a href=\"Quiz1.ipynb\">Quiz 1</a>"
   ]
  },
  {
   "cell_type": "markdown",
   "id": "3b6f7bed-44e1-48e5-bf4d-adc5f15d8380",
   "metadata": {},
   "source": [
    "***"
   ]
  },
  {
   "cell_type": "markdown",
   "id": "69c691a8-d903-4e51-8b00-b684d473880c",
   "metadata": {},
   "source": [
    "## Dictionaries"
   ]
  },
  {
   "cell_type": "markdown",
   "id": "440b713f-77e3-4ba3-bd9f-bd4d4817af68",
   "metadata": {},
   "source": [
    "<a href=\"PY0101EN-2-4-Dictionaries.ipynb\">Hands-On Lab: Dictionaries</a>"
   ]
  },
  {
   "cell_type": "markdown",
   "id": "762f2080-3aab-4663-a030-d7ac882b4d25",
   "metadata": {},
   "source": [
    "<a href=\"Quiz2.ipynb\">Quiz 2</a>"
   ]
  },
  {
   "cell_type": "markdown",
   "id": "637771ac-f56f-4d95-a5b3-4e1f33a07e06",
   "metadata": {},
   "source": [
    "***"
   ]
  },
  {
   "cell_type": "markdown",
   "id": "d317669e-5bf5-4907-a62c-cbf6640a50a9",
   "metadata": {},
   "source": [
    "## Sets"
   ]
  },
  {
   "cell_type": "markdown",
   "id": "4ab27f8f-85e0-45fe-9edc-4a4991aefe74",
   "metadata": {},
   "source": [
    "<a href=\"PY0101EN-2-3-Sets.ipynb\">Hands-On Lab: Sets</a>"
   ]
  },
  {
   "cell_type": "markdown",
   "id": "bdf14198-c4ff-4286-8a06-cfb78f27abf9",
   "metadata": {},
   "source": [
    "<a href=\"Quiz3.ipynb\">Quiz 3</a>"
   ]
  },
  {
   "cell_type": "markdown",
   "id": "761d8add-f358-4e5d-b075-5c74552d0699",
   "metadata": {},
   "source": [
    "***"
   ]
  },
  {
   "cell_type": "markdown",
   "id": "ec3f69ca-0e6d-46c4-bba3-a3f272f48758",
   "metadata": {},
   "source": [
    "<a href=\"graded_quiz.ipynb\">Graded Quiz</a>"
   ]
  },
  {
   "cell_type": "markdown",
   "id": "b9d9da30-5b1a-4c48-bba0-d9b355ce5b54",
   "metadata": {},
   "source": [
    "***"
   ]
  },
  {
   "cell_type": "markdown",
   "id": "c58c3fae-ab49-48de-83df-346bbb17e7f5",
   "metadata": {},
   "source": [
    "<H1>Study Weeks</H1>\n",
    "<ul>\n",
    "    <li><a href=\"../Week1/week1.ipynb\">week1</a></li>\n",
    "    <li><a href=\"../Week3/week3.ipynb\">week3</a></li>\n",
    "    <li><a href=\"../Week4/week4.ipynb\">week4</a></li>\n",
    "    <li><a href=\"../Week5/week5.ipynb\">week5</a></li>\n",
    "</ul>\n"
   ]
  }
 ],
 "metadata": {
  "kernelspec": {
   "display_name": "Python 3 (ipykernel)",
   "language": "python",
   "name": "python3"
  },
  "language_info": {
   "codemirror_mode": {
    "name": "ipython",
    "version": 3
   },
   "file_extension": ".py",
   "mimetype": "text/x-python",
   "name": "python",
   "nbconvert_exporter": "python",
   "pygments_lexer": "ipython3",
   "version": "3.9.4"
  }
 },
 "nbformat": 4,
 "nbformat_minor": 5
}
