{
 "cells": [
  {
   "cell_type": "markdown",
   "metadata": {},
   "source": [
    "**Note:** The code should be run in the following sequence in a text editor. For more information on how to run these codes,see Chapter 11 of the book."
   ]
  },
  {
   "cell_type": "markdown",
   "metadata": {},
   "source": [
    "## 11.2. Creating a Basic Module"
   ]
  },
  {
   "cell_type": "markdown",
   "metadata": {},
   "source": [
    "##### code for mymodule.py\n",
    "\n",
    "```\n",
    "def show_message():\n",
    "    print(\"Hello from your custom module\")\n",
    "```"
   ]
  },
  {
   "cell_type": "markdown",
   "metadata": {},
   "source": [
    "##### code for test.py\n",
    "\n",
    "```\n",
    "import mymodule\n",
    "\n",
    "mymodule.show_message()\n",
    "```"
   ]
  },
  {
   "cell_type": "markdown",
   "metadata": {},
   "source": [
    "##### code for test.py\n",
    "\n",
    "```\n",
    "from mymodule import show_message\n",
    "\n",
    "show_message()\n",
    "\n",
    "\n",
    "```"
   ]
  },
  {
   "cell_type": "markdown",
   "metadata": {},
   "source": [
    "##### code for mymodule.py\n",
    "\n",
    "```\n",
    "def show_message():\n",
    "    print(\"Hello from your custom module\")\n",
    "    \n",
    "def find_square(num):\n",
    "    return num * num\n",
    "\n",
    "```"
   ]
  },
  {
   "cell_type": "markdown",
   "metadata": {},
   "source": [
    "##### code for test.py\n",
    "\n",
    "```\n",
    "from mymodule import show_message\n",
    "\n",
    "find_square(5s)\n",
    "\n",
    "```"
   ]
  },
  {
   "cell_type": "markdown",
   "metadata": {},
   "source": [
    "##### code for test.py\n",
    "\n",
    "```\n",
    "from mymodule import*\n",
    "\n",
    "show_message()\n",
    "result = find_square(5)\n",
    "print(result)\n",
    "\n",
    "\n",
    "```"
   ]
  },
  {
   "cell_type": "markdown",
   "metadata": {},
   "source": [
    "## 11.3. Creating and Importing Multiple Modules"
   ]
  },
  {
   "cell_type": "markdown",
   "metadata": {},
   "source": [
    "##### code for mymodule2.py\n",
    "\n",
    "```\n",
    "import mymodule\n",
    "\n",
    "def find_cube(num):\n",
    "    return num * mymodule.find_square(num)\n",
    "\n",
    "\n",
    "```"
   ]
  },
  {
   "cell_type": "markdown",
   "metadata": {},
   "source": [
    "##### code for test.py\n",
    "\n",
    "```\n",
    "from mymodule2 import*\n",
    "\n",
    "\n",
    "result = find_cube(5)\n",
    "print(result)\n",
    "\n",
    "\n",
    "```"
   ]
  },
  {
   "cell_type": "markdown",
   "metadata": {},
   "source": [
    "##### code for test.py\n",
    "\n",
    "```\n",
    "import mymodule\n",
    "import mymodule2\n",
    "\n",
    "result = mymodule.find_square(5)\n",
    "print(result)\n",
    "\n",
    "result = mymodule2.find_cube(5)\n",
    "print(result)\n",
    "\n",
    "\n",
    "```"
   ]
  },
  {
   "cell_type": "markdown",
   "metadata": {},
   "source": [
    "## 11.4. Adding Classes to Custom Modules"
   ]
  },
  {
   "cell_type": "markdown",
   "metadata": {},
   "source": [
    "##### code for mymodule.py\n",
    "\n",
    "```\n",
    "class CustomClass:\n",
    "\n",
    "    def show_message(self):\n",
    "        print(\"Hello from your custom module\")\n",
    "        \n",
    "    def find_square(self, num):\n",
    "        return num * num\n",
    "\n",
    "```"
   ]
  },
  {
   "cell_type": "markdown",
   "metadata": {},
   "source": [
    "##### code for test.py\n",
    "\n",
    "```\n",
    "import mymodule\n",
    "\n",
    "\n",
    "my_class = mymodule.CustomClass()\n",
    "\n",
    "result = my_class.find_square(5)\n",
    "print(result)\n",
    "\n",
    "\n",
    "```"
   ]
  },
  {
   "cell_type": "markdown",
   "metadata": {},
   "source": [
    "## 11.5. Importing Modules from a Different Path"
   ]
  },
  {
   "cell_type": "markdown",
   "metadata": {},
   "source": [
    "##### code for mymodule3.py\n",
    "\n",
    "```\n",
    "class CustomClass3:\n",
    "\n",
    "    def show_message(self):\n",
    "        print(\"Hello from your custom module\")\n",
    "        \n",
    "    def find_square(self, num):\n",
    "        return num * num\n",
    "\n",
    "```"
   ]
  },
  {
   "cell_type": "markdown",
   "metadata": {},
   "source": [
    "##### execute anywhere in your current editor environment\n",
    "\n",
    "```\n",
    "import sys\n",
    "\n",
    "sys.path.append(\"E:/modules\")\n",
    "\n",
    "\n",
    "```"
   ]
  },
  {
   "cell_type": "markdown",
   "metadata": {},
   "source": [
    "##### code for test.py\n",
    "\n",
    "```\n",
    "import mymodule3\n",
    "\n",
    "\n",
    "my_class3 = mymodule3.CustomClass3()\n",
    "\n",
    "result = my_class3.find_square(5)\n",
    "print(result)\n",
    "\n",
    "\n",
    "\n",
    "```"
   ]
  },
  {
   "cell_type": "markdown",
   "metadata": {},
   "source": [
    "## 11.6. Adding Modules to Python Path"
   ]
  },
  {
   "cell_type": "markdown",
   "metadata": {},
   "source": [
    "##### execute anywhere in your current editor environment\n",
    "\n",
    "```\n",
    "import sys\n",
    "print(sys.path)\n",
    "\n",
    "\n",
    "```"
   ]
  },
  {
   "cell_type": "markdown",
   "metadata": {},
   "source": [
    "##### code for mymodule3.py\n",
    "\n",
    "```\n",
    "class CustomClass3:\n",
    "\n",
    "    def show_message(self):\n",
    "        print(\"Hello from your custom module\")\n",
    "        \n",
    "    def find_square(self, num):\n",
    "        return num * num\n",
    "\n",
    "```"
   ]
  },
  {
   "cell_type": "markdown",
   "metadata": {},
   "source": [
    "##### code for test.py\n",
    "\n",
    "```\n",
    "import mymodule3\n",
    "\n",
    "\n",
    "my_class3 = mymodule3.CustomClass3()\n",
    "\n",
    "result = my_class3.find_square(5)\n",
    "print(result)\n",
    "\n",
    "\n",
    "\n",
    "```"
   ]
  },
  {
   "cell_type": "markdown",
   "metadata": {},
   "source": [
    "## Exercise 11.1"
   ]
  },
  {
   "cell_type": "markdown",
   "metadata": {},
   "source": [
    "**Question 1:**\n",
    "\n",
    "To create a custom module in Python, you need to create:\n",
    "\n",
    "A. an object\n",
    "\n",
    "B. a python file\n",
    "\n",
    "C. a class\n",
    "\n",
    "D. a function\n",
    "\n",
    "**Answer: B**\n",
    "    \n",
    "\n",
    "**Question 2:**\n",
    "\n",
    "To create a class in a custom module, you need to:\n",
    "\n",
    "A. add a keyword `mymodule`\n",
    "\n",
    "B. add a keyword `module`\n",
    "\n",
    "C. add a keyword `module class`\n",
    "\n",
    "D. none of the above\n",
    "\n",
    "**Answer: D**\n",
    "    \n",
    "    \n",
    "**Question 3:**\n",
    "\n",
    "In python, you can have __ levels for module dependencies:\n",
    "\n",
    "A. unlimited\n",
    "\n",
    "B. 1\n",
    "\n",
    "C. 2\n",
    "\n",
    "D. 3\n",
    "    \n",
    "**Answer: D**"
   ]
  },
  {
   "cell_type": "markdown",
   "metadata": {},
   "source": [
    "## Exercise 11.2"
   ]
  },
  {
   "cell_type": "markdown",
   "metadata": {},
   "source": [
    "Perform the following tasks:\n",
    "  \n",
    "1. Create a custom module1 that contanins a function that returns cube of a number\n",
    "2. Create a custom module2 that imports the module 1 and contains a function that returns sum of cubes of two numbers\n",
    "3. Import module1 and module2 and first find the cube of a number, and then fund sum of cubes of two numbers"
   ]
  },
  {
   "cell_type": "markdown",
   "metadata": {},
   "source": [
    "**Solution:**"
   ]
  },
  {
   "cell_type": "markdown",
   "metadata": {},
   "source": [
    "##### code for module1\n",
    "\n",
    "```\n",
    "\n",
    "\n",
    "def find_cube(num):\n",
    "    \n",
    "    return num * num * num\n",
    "\n",
    "```\n",
    "\n",
    "##### code for module2\n",
    "\n",
    "```\n",
    "import module1\n",
    "\n",
    "def find_sum_cube(num1, num2):\n",
    "    \n",
    "    num1_cube1 = (module1.find_cube(num1))\n",
    "    num1_cube2 = (module1.find_cube(num2))\n",
    "    \n",
    "    return num1_cube1 + num1_cube2\n",
    "\n",
    "\n",
    "```\n",
    "\n",
    "##### code for test file\n",
    "\n",
    "```\n",
    "\n",
    "import module1\n",
    "import module2\n",
    "\n",
    "\n",
    "result = module1.find_cube(3)\n",
    "print(result)\n",
    "\n",
    "\n",
    "result = module2.find_sum_cube(2,3)\n",
    "print(result)\n",
    "\n",
    "\n",
    "\n",
    "```"
   ]
  },
  {
   "cell_type": "code",
   "execution_count": null,
   "metadata": {},
   "outputs": [],
   "source": []
  }
 ],
 "metadata": {
  "kernelspec": {
   "display_name": "Python 3",
   "language": "python",
   "name": "python3"
  },
  "language_info": {
   "codemirror_mode": {
    "name": "ipython",
    "version": 3
   },
   "file_extension": ".py",
   "mimetype": "text/x-python",
   "name": "python",
   "nbconvert_exporter": "python",
   "pygments_lexer": "ipython3",
   "version": "3.8.3"
  }
 },
 "nbformat": 4,
 "nbformat_minor": 4
}
