{
 "cells": [
  {
   "cell_type": "markdown",
   "metadata": {},
   "source": [
    "## 4.1. Conditional Statements in Python"
   ]
  },
  {
   "cell_type": "markdown",
   "metadata": {},
   "source": [
    "### 4.1.1 If and Else Statements"
   ]
  },
  {
   "cell_type": "code",
   "execution_count": 1,
   "metadata": {},
   "outputs": [
    {
     "name": "stdout",
     "output_type": "stream",
     "text": [
      "The condition is true\n"
     ]
    }
   ],
   "source": [
    "if True:\n",
    "    print(\"The condition is true\")"
   ]
  },
  {
   "cell_type": "code",
   "execution_count": 2,
   "metadata": {},
   "outputs": [
    {
     "name": "stdout",
     "output_type": "stream",
     "text": [
      "x is greater than y\n"
     ]
    }
   ],
   "source": [
    "x = 50\n",
    "y = 30\n",
    "\n",
    "if x > y: \n",
    "    print(\"x is greater than y\")"
   ]
  },
  {
   "cell_type": "code",
   "execution_count": 3,
   "metadata": {},
   "outputs": [],
   "source": [
    "if x < y:\n",
    "    print(\"x is less than y\")"
   ]
  },
  {
   "cell_type": "code",
   "execution_count": 4,
   "metadata": {},
   "outputs": [
    {
     "name": "stdout",
     "output_type": "stream",
     "text": [
      "x is greater than y\n"
     ]
    }
   ],
   "source": [
    "if x < y:\n",
    "    print(\"x is less than y\")\n",
    "else:\n",
    "    print(\"x is greater than y\")"
   ]
  },
  {
   "cell_type": "markdown",
   "metadata": {},
   "source": [
    "### 4.1.2. Elif Statements"
   ]
  },
  {
   "cell_type": "code",
   "execution_count": 5,
   "metadata": {},
   "outputs": [
    {
     "name": "stdout",
     "output_type": "stream",
     "text": [
      "z is the smallest integer\n"
     ]
    }
   ],
   "source": [
    "x = 50\n",
    "y = 30\n",
    "z = 20\n",
    "\n",
    "if x < y:\n",
    "    print(\"x is smaller than y\")\n",
    "elif y < z:\n",
    "    print(\"y is smaller than z\")\n",
    "elif x < z:\n",
    "    print(\"x is smaller than z\")\n",
    "else:\n",
    "    print (\"z is the smallest integer\")"
   ]
  },
  {
   "cell_type": "markdown",
   "metadata": {},
   "source": [
    "### 4.1.3.  Ternary Operator "
   ]
  },
  {
   "cell_type": "code",
   "execution_count": 7,
   "metadata": {},
   "outputs": [
    {
     "name": "stdout",
     "output_type": "stream",
     "text": [
      "True\n",
      "True\n"
     ]
    }
   ],
   "source": [
    "\n",
    "\n",
    "car = \"Honda\"\n",
    "\n",
    "isHonda = True if car == \"Honda\" else False\n",
    "\n",
    "print(isHonda)\n",
    "print( True if car == \"Honda\" else False)"
   ]
  },
  {
   "cell_type": "markdown",
   "metadata": {},
   "source": [
    "### 4.1.4. Nesting Conditional Statements"
   ]
  },
  {
   "cell_type": "code",
   "execution_count": 7,
   "metadata": {},
   "outputs": [
    {
     "name": "stdout",
     "output_type": "stream",
     "text": [
      "x is greater than y\n",
      "x is greater than z\n"
     ]
    }
   ],
   "source": [
    "x = 50\n",
    "y = 30\n",
    "z = 20\n",
    "\n",
    "if x > y:\n",
    "    print(\"x is greater than y\")\n",
    "    if x > z:\n",
    "        print(\"x is greater than z\")\n",
    "    else:\n",
    "        print (\"x is not greater than z\")\n",
    "elif y < z:\n",
    "    print(\"y is smaller than z\")\n",
    "elif x < z:\n",
    "    print(\"x is smaller than z\")\n",
    "else:\n",
    "    print (\"z is the smallest integer\")"
   ]
  },
  {
   "cell_type": "markdown",
   "metadata": {},
   "source": [
    "## 4.2. Iteration Statements in Python"
   ]
  },
  {
   "cell_type": "markdown",
   "metadata": {},
   "source": [
    "### 4.2.1. For Loop"
   ]
  },
  {
   "cell_type": "code",
   "execution_count": 8,
   "metadata": {},
   "outputs": [
    {
     "name": "stdout",
     "output_type": "stream",
     "text": [
      "hello\n",
      "hello\n",
      "hello\n",
      "hello\n",
      "hello\n",
      "hello\n",
      "hello\n",
      "hello\n",
      "hello\n",
      "hello\n"
     ]
    }
   ],
   "source": [
    "for i in range(10):\n",
    "    print(\"hello\")"
   ]
  },
  {
   "cell_type": "code",
   "execution_count": 9,
   "metadata": {},
   "outputs": [
    {
     "name": "stdout",
     "output_type": "stream",
     "text": [
      "0\n",
      "1\n",
      "2\n",
      "3\n",
      "4\n",
      "5\n",
      "6\n",
      "7\n",
      "8\n",
      "9\n"
     ]
    }
   ],
   "source": [
    "for i in range(10):\n",
    "    print(i)"
   ]
  },
  {
   "cell_type": "code",
   "execution_count": 10,
   "metadata": {},
   "outputs": [
    {
     "name": "stdout",
     "output_type": "stream",
     "text": [
      "6 x 1 =  6\n",
      "6 x 2 =  12\n",
      "6 x 3 =  18\n",
      "6 x 4 =  24\n",
      "6 x 5 =  30\n",
      "6 x 6 =  36\n",
      "6 x 7 =  42\n",
      "6 x 8 =  48\n",
      "6 x 9 =  54\n",
      "6 x 10 =  60\n"
     ]
    }
   ],
   "source": [
    "for i in range(10):\n",
    "    print(\"6 x\", i+1, \"= \", 6*(i+1))"
   ]
  },
  {
   "cell_type": "markdown",
   "metadata": {},
   "source": [
    "## Underscore\n",
    "\n",
    "<a href=\"../../../ideas/underscore.ipynb\">Understanding underscore</a>"
   ]
  },
  {
   "cell_type": "code",
   "execution_count": 8,
   "metadata": {},
   "outputs": [
    {
     "name": "stdout",
     "output_type": "stream",
     "text": [
      "hello world\n",
      "hello world\n",
      "hello world\n",
      "hello world\n",
      "hello world\n",
      "hello world\n",
      "hello world\n",
      "hello world\n",
      "hello world\n",
      "hello world\n"
     ]
    }
   ],
   "source": [
    "for _ in range(10):\n",
    "    print(\"hello world\")"
   ]
  },
  {
   "cell_type": "code",
   "execution_count": 9,
   "metadata": {},
   "outputs": [
    {
     "data": {
      "text/plain": [
       "9"
      ]
     },
     "execution_count": 9,
     "metadata": {},
     "output_type": "execute_result"
    }
   ],
   "source": [
    "_"
   ]
  },
  {
   "cell_type": "code",
   "execution_count": 12,
   "metadata": {},
   "outputs": [
    {
     "name": "stdout",
     "output_type": "stream",
     "text": [
      "sunday\n",
      "monday\n",
      "tuesday\n",
      "wednesday\n",
      "thursdayfriday\n",
      "saturday\n"
     ]
    }
   ],
   "source": [
    "days = [\"sunday\", \"monday\", \"tuesday\", \"wednesday\", \"thursday\" \"friday\", \"saturday\"]\n",
    "\n",
    "for d in days:\n",
    "    print(d)"
   ]
  },
  {
   "cell_type": "markdown",
   "metadata": {},
   "source": [
    "### 4.2.2. While Loop"
   ]
  },
  {
   "cell_type": "code",
   "execution_count": 13,
   "metadata": {},
   "outputs": [
    {
     "name": "stdout",
     "output_type": "stream",
     "text": [
      "hello world\n",
      "hello world\n",
      "hello world\n",
      "hello world\n",
      "hello world\n",
      "hello world\n",
      "hello world\n",
      "hello world\n",
      "hello world\n",
      "hello world\n"
     ]
    }
   ],
   "source": [
    "j = 0\n",
    "\n",
    "while j<10:\n",
    "    print(\"hello world\")\n",
    "    \n",
    "    j = j + 1"
   ]
  },
  {
   "cell_type": "code",
   "execution_count": 14,
   "metadata": {},
   "outputs": [
    {
     "name": "stdout",
     "output_type": "stream",
     "text": [
      "6 x 1 =  6\n",
      "6 x 2 =  12\n",
      "6 x 3 =  18\n",
      "6 x 4 =  24\n",
      "6 x 5 =  30\n",
      "6 x 6 =  36\n",
      "6 x 7 =  42\n",
      "6 x 8 =  48\n",
      "6 x 9 =  54\n",
      "6 x 10 =  60\n"
     ]
    }
   ],
   "source": [
    "j = 0\n",
    "\n",
    "while j<10:\n",
    "    print(\"6 x\", j+1, \"= \", 6*(j+1))\n",
    "    \n",
    "    j = j + 1"
   ]
  },
  {
   "cell_type": "markdown",
   "metadata": {},
   "source": [
    "### 4.2.3. Nested Loops"
   ]
  },
  {
   "cell_type": "code",
   "execution_count": 15,
   "metadata": {},
   "outputs": [
    {
     "name": "stdout",
     "output_type": "stream",
     "text": [
      "0 - 0\n",
      "0 - 1\n",
      "0 - 2\n",
      "0 - 3\n",
      "0 - 4\n",
      "1 - 0\n",
      "1 - 1\n",
      "1 - 2\n",
      "1 - 3\n",
      "1 - 4\n",
      "2 - 0\n",
      "2 - 1\n",
      "2 - 2\n",
      "2 - 3\n",
      "2 - 4\n",
      "3 - 0\n",
      "3 - 1\n",
      "3 - 2\n",
      "3 - 3\n",
      "3 - 4\n",
      "4 - 0\n",
      "4 - 1\n",
      "4 - 2\n",
      "4 - 3\n",
      "4 - 4\n"
     ]
    }
   ],
   "source": [
    "for i in range (5):\n",
    "    for j in range (5):\n",
    "        print(i ,\"-\",j)"
   ]
  },
  {
   "cell_type": "markdown",
   "metadata": {},
   "source": [
    "### 4.2.3. Continue, Pass and Break Statements"
   ]
  },
  {
   "cell_type": "code",
   "execution_count": 11,
   "metadata": {},
   "outputs": [
    {
     "name": "stdout",
     "output_type": "stream",
     "text": [
      "0\n",
      "2\n",
      "4\n",
      "6\n",
      "8\n",
      "10\n",
      "12\n",
      "14\n",
      "16\n",
      "18\n",
      "20\n"
     ]
    }
   ],
   "source": [
    "for num in range(21):\n",
    "    if num%2 != 0:\n",
    "        continue\n",
    "    else:\n",
    "        print(num)\n",
    "        "
   ]
  },
  {
   "cell_type": "code",
   "execution_count": 18,
   "metadata": {},
   "outputs": [
    {
     "name": "stdout",
     "output_type": "stream",
     "text": [
      "1\n",
      "3\n",
      "5\n",
      "7\n",
      "9\n",
      "11\n",
      "13\n",
      "15\n",
      "17\n",
      "19\n"
     ]
    }
   ],
   "source": [
    "for num in range(21):\n",
    "    if num%2 == 0:\n",
    "        pass\n",
    "    else:\n",
    "        print(num)"
   ]
  },
  {
   "cell_type": "code",
   "execution_count": 19,
   "metadata": {},
   "outputs": [
    {
     "name": "stdout",
     "output_type": "stream",
     "text": [
      "1\n",
      "3\n",
      "5\n",
      "7\n",
      "9\n",
      "11\n"
     ]
    }
   ],
   "source": [
    "for num in range(21):\n",
    "    \n",
    "    if num%2 != 0:\n",
    "        print(num)\n",
    "        if num > 10:\n",
    "            break"
   ]
  },
  {
   "cell_type": "markdown",
   "metadata": {},
   "source": [
    "### 4.2.4 Using List Comprehensions in Python"
   ]
  },
  {
   "cell_type": "code",
   "execution_count": 20,
   "metadata": {},
   "outputs": [
    {
     "name": "stdout",
     "output_type": "stream",
     "text": [
      "['Ford', 'BMW', 'KIA']\n"
     ]
    }
   ],
   "source": [
    "cars = [\"Honda\", \"Toyota\", \"Ford\", \"BMW\", \"KIA\", \"Renault\", \"Peugot\"]\n",
    "\n",
    "short_cars = []\n",
    "for car in cars:\n",
    "    if len(car) < 5:\n",
    "        short_cars.append(car)\n",
    "\n",
    "print(short_cars)"
   ]
  },
  {
   "cell_type": "code",
   "execution_count": 21,
   "metadata": {},
   "outputs": [
    {
     "name": "stdout",
     "output_type": "stream",
     "text": [
      "['Ford', 'BMW', 'KIA']\n"
     ]
    }
   ],
   "source": [
    "cars = [\"Honda\", \"Toyota\", \"Ford\", \"BMW\", \"KIA\", \"Renault\", \"Peugot\"]\n",
    "\n",
    "short_cars2 = [car for car in cars if len(car) < 5]\n",
    "\n",
    "print(short_cars2)"
   ]
  },
  {
   "cell_type": "markdown",
   "metadata": {},
   "source": [
    "## Exercise 4.1"
   ]
  },
  {
   "cell_type": "markdown",
   "metadata": {},
   "source": [
    "**Question 1:**\n",
    "\n",
    "You should use a while loop when:\n",
    "\n",
    "A. You want to repeatedly execute a code until a certain condition returns true\n",
    "\n",
    "B. When you know the exact number of times you want to execute a piece of code\n",
    "\n",
    "C. To execute a code for 10 times\n",
    "\n",
    "D. None of the Above\n",
    "\n",
    "**Answer: A**\n",
    "    \n",
    "\n",
    "**Question 2:**\n",
    "\n",
    "A loop defined inside another loop is called an:\n",
    "\n",
    "A. Inner Loop\n",
    "\n",
    "B. Nested Loop\n",
    "\n",
    "C. Both A and B\n",
    "\n",
    "D. None of the Above\n",
    "\n",
    "**Answer: C**\n",
    "    \n",
    "    \n",
    "**Question 3:**\n",
    "\n",
    "The continue statement is used in loops to:\n",
    "\n",
    "A. Break out of the loop\n",
    "\n",
    "B. Move to the next line of the code\n",
    "\n",
    "C. Go back to the beginning of a loop\n",
    "\n",
    "D. Skip two lines of code\n",
    "    \n",
    "**Answer: C**"
   ]
  },
  {
   "cell_type": "markdown",
   "metadata": {},
   "source": [
    "## Exercise 4.2"
   ]
  },
  {
   "cell_type": "markdown",
   "metadata": {},
   "source": [
    "Write a program that prints the prime numbers between 1 and 100."
   ]
  },
  {
   "cell_type": "markdown",
   "metadata": {},
   "source": [
    "**Solution:**"
   ]
  },
  {
   "cell_type": "code",
   "execution_count": 22,
   "metadata": {},
   "outputs": [
    {
     "name": "stdout",
     "output_type": "stream",
     "text": [
      "1\n",
      "2\n",
      "3\n",
      "5\n",
      "7\n",
      "11\n",
      "13\n",
      "17\n",
      "19\n",
      "23\n",
      "29\n",
      "31\n",
      "37\n",
      "41\n",
      "43\n",
      "47\n",
      "53\n",
      "59\n",
      "61\n",
      "67\n",
      "71\n",
      "73\n",
      "79\n",
      "83\n",
      "89\n",
      "97\n"
     ]
    }
   ],
   "source": [
    "for i in range(1, 101):\n",
    "    if i == 1:\n",
    "        print(i)\n",
    "    else:\n",
    "        prime = True\n",
    "        for j in range(2,i):\n",
    "            if i % j == 0:\n",
    "                prime = False\n",
    "                break\n",
    "        if prime:\n",
    "            print(i)"
   ]
  },
  {
   "cell_type": "code",
   "execution_count": 15,
   "metadata": {},
   "outputs": [
    {
     "name": "stdout",
     "output_type": "stream",
     "text": [
      "1\n",
      "2\n",
      "3\n",
      "5\n",
      "7\n",
      "11\n",
      "13\n",
      "17\n",
      "19\n",
      "23\n",
      "29\n",
      "31\n",
      "37\n",
      "41\n",
      "43\n",
      "47\n",
      "53\n",
      "59\n",
      "61\n",
      "67\n",
      "71\n",
      "73\n",
      "79\n",
      "83\n",
      "89\n",
      "97\n"
     ]
    }
   ],
   "source": [
    "for i in range(1, 101):\n",
    "    if (i==1):\n",
    "        print (1)\n",
    "        continue\n",
    "    prime = True\n",
    "    for j in range(2,i):\n",
    "        if i % j == 0:\n",
    "            prime = False\n",
    "            break  \n",
    "    if prime: \n",
    "        print(i)"
   ]
  },
  {
   "cell_type": "code",
   "execution_count": null,
   "metadata": {},
   "outputs": [],
   "source": []
  }
 ],
 "metadata": {
  "kernelspec": {
   "display_name": "Python 3 (ipykernel)",
   "language": "python",
   "name": "python3"
  },
  "language_info": {
   "codemirror_mode": {
    "name": "ipython",
    "version": 3
   },
   "file_extension": ".py",
   "mimetype": "text/x-python",
   "name": "python",
   "nbconvert_exporter": "python",
   "pygments_lexer": "ipython3",
   "version": "3.9.4"
  }
 },
 "nbformat": 4,
 "nbformat_minor": 4
}
