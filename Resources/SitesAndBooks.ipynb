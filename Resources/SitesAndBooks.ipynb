{
 "cells": [
  {
   "cell_type": "markdown",
   "id": "91ee7b05-67aa-4ae1-a62e-bb916f146e17",
   "metadata": {},
   "source": [
    "### 100s of free EBooks"
   ]
  },
  {
   "cell_type": "markdown",
   "id": "3816c207-209d-40eb-b532-1ca519b94544",
   "metadata": {},
   "source": [
    "<a href=\"https://www.theinsaneapp.com/2020/12/download-free-machine-learning-books.html\">100s of free EBooks</a>"
   ]
  },
  {
   "cell_type": "code",
   "execution_count": null,
   "id": "ba59d7ca-cd0b-48a0-a075-6db6892794c5",
   "metadata": {},
   "outputs": [],
   "source": []
  }
 ],
 "metadata": {
  "kernelspec": {
   "display_name": "Python 3 (ipykernel)",
   "language": "python",
   "name": "python3"
  },
  "language_info": {
   "codemirror_mode": {
    "name": "ipython",
    "version": 3
   },
   "file_extension": ".py",
   "mimetype": "text/x-python",
   "name": "python",
   "nbconvert_exporter": "python",
   "pygments_lexer": "ipython3",
   "version": "3.9.4"
  }
 },
 "nbformat": 4,
 "nbformat_minor": 5
}
