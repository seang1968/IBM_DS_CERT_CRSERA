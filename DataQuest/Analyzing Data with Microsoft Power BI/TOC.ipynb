{
 "cells": [
  {
   "cell_type": "markdown",
   "id": "fdf792ac-d7bd-433b-9de9-e9787be31680",
   "metadata": {},
   "source": [
    "<H2><a href=\"https://app.dataquest.io/path/analyzing-data-with-microsoft-power-bi-skill\" >Analyzing Data With Power BI  </a></H2>\n",
    "\n"
   ]
  },
  {
   "cell_type": "markdown",
   "id": "fa93b5de-db9a-4f14-94d8-2066a61a48a9",
   "metadata": {},
   "source": [
    "<ul>\n",
    "<H1>Get Started with Microsoft Data Analytics</H1>\n",
    "<ul>\n",
    "    <li><a href=\"GetStartedBuildingwithPowerBI.ipynb\">Get Started Building with Power BI</a></li>\n",
    "    <li><a href=\"GetDatainPowerBI.ipynb\">Get Data in Power BI</a></li>\n",
    "    <li><a href=\"LoadCleanTransform_I.ipynb\">Load, Clean, and Transform Data in Power BI -I </a></li>\n",
    "    <li><a href=\"II_LoadCleanTransform.ipynb\">Load, Clean, and Transform Data in Power BI -II </a></li>\n",
    "    <li><a href=\"III_LoadCleanTransform.ipynb\">Load, Clean, and Transform Data in Power BI -III </a></li>\n",
    "    \n",
    "    \n",
    "</ul>\n",
    "    <H1>Model Data in Power BI</H1>\n",
    "<ul>\n",
    "    <li><a href=\"I_Design_a_datamodel_inPower_BIintroduction.ipynb\">Design a Data Model in Power BI - I</a></li>\n",
    "    <li><a href=\"GetDatainPowerBI.ipynb\">Get Data in Power BI</a></li>\n",
    "    <li><a href=\"LoadCleanTransform_I.ipynb\">Load, Clean, and Transform Data in Power BI -I </a></li>\n",
    "    <li><a href=\"II_LoadCleanTransform.ipynb\">Load, Clean, and Transform Data in Power BI -II </a></li>\n",
    "    <li><a href=\"III_LoadCleanTransform.ipynb\">Load, Clean, and Transform Data in Power BI -III </a></li>\n",
    "    \n",
    "    \n",
    "</ul>\n",
    "<H1>Visualize data in Power BI</H1>\n",
    "<ul>\n",
    "    <li>List Item</li>\n",
    "    <li>List Item</li>\n",
    "    <li>List Item</li>\n",
    "</ul>  \n",
    "<H1>Data Analysis in Power BI</H1>\n",
    "<ul>\n",
    "    <li>List Item</li>\n",
    "    <li>List Item</li>\n",
    "    <li>List Item</li>\n",
    "</ul>  \n",
    "<H1>Manage Workspaces and Datasets in Power BI</H1>\n",
    "<ul>\n",
    "    <li>List Item</li>\n",
    "    <li>List Item</li>\n",
    "    <li>List Item</li>\n",
    "</ul>  \n",
    "</ul>"
   ]
  },
  {
   "cell_type": "code",
   "execution_count": null,
   "id": "9e84d5b0-71a6-4202-9535-b369266c068f",
   "metadata": {},
   "outputs": [],
   "source": []
  }
 ],
 "metadata": {
  "kernelspec": {
   "display_name": "Python 3 (ipykernel)",
   "language": "python",
   "name": "python3"
  },
  "language_info": {
   "codemirror_mode": {
    "name": "ipython",
    "version": 3
   },
   "file_extension": ".py",
   "mimetype": "text/x-python",
   "name": "python",
   "nbconvert_exporter": "python",
   "pygments_lexer": "ipython3",
   "version": "3.9.4"
  }
 },
 "nbformat": 4,
 "nbformat_minor": 5
}
