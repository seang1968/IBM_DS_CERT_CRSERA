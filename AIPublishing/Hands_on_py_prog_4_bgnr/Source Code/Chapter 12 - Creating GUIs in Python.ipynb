{
 "cells": [
  {
   "cell_type": "markdown",
   "metadata": {},
   "source": [
    "## 12.1. Creating a Basic Window"
   ]
  },
  {
   "cell_type": "code",
   "execution_count": 70,
   "metadata": {},
   "outputs": [],
   "source": [
    "# importing tkinter\n",
    "from tkinter import *\n",
    "\n",
    "# creating instance of Tk class\n",
    "main_window = Tk()\n",
    "type(main_window )\n",
    "\n",
    "# displaying the main window\n",
    "main_window.mainloop()"
   ]
  },
  {
   "cell_type": "code",
   "execution_count": 1,
   "metadata": {},
   "outputs": [],
   "source": [
    "# importing tkinter\n",
    "from tkinter import *\n",
    "\n",
    "# creating instance of Tk class\n",
    "main_window = Tk()\n",
    "\n",
    "# setting window title\n",
    "main_window.title(\"Welcome to Python\")\n",
    "\n",
    "# setting window dimensions\n",
    "main_window.geometry(\"500x500+100+200\")\n",
    "\n",
    "# displaying the main window\n",
    "main_window.mainloop()"
   ]
  },
  {
   "cell_type": "code",
   "execution_count": 72,
   "metadata": {},
   "outputs": [],
   "source": [
    "# importing tkinter\n",
    "from tkinter import *\n",
    "\n",
    "# creating instance of Tk class\n",
    "main_window = Tk()\n",
    "\n",
    "# creating the default label \n",
    "my_label = Label(main_window, text = \"Welcome to Python\" )\n",
    "\n",
    "# attaching default label to main window\n",
    "my_label.pack()\n",
    "main_window.mainloop()"
   ]
  },
  {
   "cell_type": "markdown",
   "metadata": {},
   "source": [
    "## 12.2. Working with Widgets"
   ]
  },
  {
   "cell_type": "markdown",
   "metadata": {},
   "source": [
    "### 12.2.1. Adding a Button"
   ]
  },
  {
   "cell_type": "code",
   "execution_count": 75,
   "metadata": {},
   "outputs": [
    {
     "name": "stdout",
     "output_type": "stream",
     "text": [
      "a button is clicked\n"
     ]
    }
   ],
   "source": [
    "# importing tkinter\n",
    "from tkinter import *\n",
    "\n",
    "# importing themed tkinter\n",
    "from tkinter import ttk\n",
    "\n",
    "# defining the callback function\n",
    "def my_func():\n",
    "    print(\"a button is clicked\")\n",
    "    \n",
    "# creating instance of Tk class\n",
    "main_window = Tk()\n",
    "\n",
    "\n",
    "# setting window dimensions\n",
    "main_window.geometry(\"500x500+100+200\")\n",
    "\n",
    "# creating a themed button\n",
    "my_button = ttk.Button(main_window,\n",
    "                      text = \"Click here\",\n",
    "                      command = my_func\n",
    "                      )\n",
    "\n",
    "# attaching themed button to main window\n",
    "my_button.pack()\n",
    "\n",
    "main_window.mainloop()"
   ]
  },
  {
   "cell_type": "markdown",
   "metadata": {},
   "source": [
    "### 12.2.2. Adding a Text Field"
   ]
  },
  {
   "cell_type": "code",
   "execution_count": 78,
   "metadata": {},
   "outputs": [],
   "source": [
    "# importing tkinter\n",
    "from tkinter import *\n",
    "\n",
    "# importing themed tkinter\n",
    "from tkinter import ttk\n",
    "    \n",
    "# creating instance of Tk class\n",
    "main_window = Tk()\n",
    "\n",
    "# setting window dimensions\n",
    "main_window.geometry(\"500x500+100+200\")\n",
    "\n",
    "# creating variable that contains text from the text field\n",
    "my_text = StringVar()\n",
    "\n",
    "# creating a text field using Entry class\n",
    "text_field = ttk.Entry(main_window, textvariable = my_text)\n",
    "\n",
    "# addding the text field to the main window\n",
    "text_field.pack(fill='x', expand=True)\n",
    "\n",
    "\n",
    "main_window.mainloop()"
   ]
  },
  {
   "cell_type": "code",
   "execution_count": 80,
   "metadata": {},
   "outputs": [
    {
     "name": "stdout",
     "output_type": "stream",
     "text": [
      "You entered: Hello, this is a random text\n"
     ]
    }
   ],
   "source": [
    "# importing tkinter\n",
    "from tkinter import *\n",
    "\n",
    "# importing themed tkinter\n",
    "from tkinter import ttk\n",
    "    \n",
    "# creating instance of Tk class\n",
    "main_window = Tk()\n",
    "\n",
    "# setting window dimensions\n",
    "main_window.geometry(\"500x500+100+200\")\n",
    "\n",
    "# creating variable that contains text from the text field\n",
    "my_text = StringVar()\n",
    "\n",
    "# creating a text field using Entry class\n",
    "text_field = ttk.Entry(main_window, textvariable = my_text)\n",
    "\n",
    "# addding the text field to the main window\n",
    "text_field.pack(fill='x', expand=True)\n",
    "\n",
    "def my_func():\n",
    "    if my_text.get() == \"\":\n",
    "        print(\"Enter something in the text box\")\n",
    "    else:\n",
    "        print(\"You entered:\",my_text.get())\n",
    "\n",
    "# creating a themed button\n",
    "my_button = ttk.Button(main_window,\n",
    "                      text = \"Click here\",\n",
    "                      command = my_func\n",
    "                      )\n",
    "\n",
    "# attaching themed button to main window\n",
    "my_button.pack(fill='x', expand=True)\n",
    "\n",
    "main_window.mainloop()"
   ]
  },
  {
   "cell_type": "markdown",
   "metadata": {},
   "source": [
    "### 12.2.3. Adding a Message Box"
   ]
  },
  {
   "cell_type": "code",
   "execution_count": 81,
   "metadata": {},
   "outputs": [],
   "source": [
    "# importing tkinter\n",
    "from tkinter import *\n",
    "\n",
    "# importing themed tkinter\n",
    "from tkinter import ttk\n",
    "\n",
    "# importing showinfor message box\n",
    "from tkinter.messagebox import showinfo\n",
    "    \n",
    "# creating instance of Tk class\n",
    "main_window = Tk()\n",
    "\n",
    "# setting window dimensions\n",
    "main_window.geometry(\"500x500+100+200\")\n",
    "\n",
    "\n",
    "def my_func():\n",
    "    showinfo(\n",
    "              title = \"Information\",\n",
    "              message = \"You clicked a button\"\n",
    "             )\n",
    "\n",
    "# creating a themed button\n",
    "my_button = ttk.Button(main_window,\n",
    "                      text = \"Click here\",\n",
    "                      command = my_func\n",
    "                      )\n",
    "\n",
    "# attaching themed button to main window\n",
    "my_button.pack(fill='x', expand=True)\n",
    "\n",
    "main_window.mainloop()"
   ]
  },
  {
   "cell_type": "markdown",
   "metadata": {},
   "source": [
    "### 12.2.4. Adding Multiple Widgets"
   ]
  },
  {
   "cell_type": "code",
   "execution_count": 85,
   "metadata": {},
   "outputs": [
    {
     "name": "stdout",
     "output_type": "stream",
     "text": [
      "a button is clicked\n"
     ]
    }
   ],
   "source": [
    "# importing tkinter\n",
    "from tkinter import *\n",
    "\n",
    "# importing themed tkinter\n",
    "from tkinter import ttk\n",
    "\n",
    "# defining the callback function\n",
    "def my_func():\n",
    "    print(\"a button is clicked\")\n",
    "    \n",
    "# creating instance of Tk class\n",
    "main_window = Tk()\n",
    "\n",
    "\n",
    "# setting window dimensions\n",
    "main_window.geometry(\"500x500+100+200\")\n",
    "\n",
    "# creating the default label \n",
    "my_label = Label(main_window, \n",
    "                 text = \"Welcome to Python\" )\n",
    "\n",
    "# attaching default label to main window\n",
    "my_label.pack()\n",
    "\n",
    "# creating a themed button\n",
    "my_button = ttk.Button(main_window,\n",
    "                      text = \"Click here\",\n",
    "                      command = my_func\n",
    "                      )\n",
    "\n",
    "# attaching themed button to main window\n",
    "my_button.pack()\n",
    "\n",
    "main_window.mainloop()"
   ]
  },
  {
   "cell_type": "code",
   "execution_count": 87,
   "metadata": {},
   "outputs": [
    {
     "name": "stdout",
     "output_type": "stream",
     "text": [
      "a button is clicked\n"
     ]
    }
   ],
   "source": [
    "# importing tkinter\n",
    "from tkinter import *\n",
    "\n",
    "# importing themed tkinter\n",
    "from tkinter import ttk\n",
    "\n",
    "# defining the callback function\n",
    "def my_func():\n",
    "    print(\"a button is clicked\")\n",
    "    \n",
    "# creating instance of Tk class\n",
    "main_window = Tk()\n",
    "\n",
    "\n",
    "# setting window dimensions\n",
    "main_window.geometry(\"500x500+100+200\")\n",
    "\n",
    "# creating the default label \n",
    "my_label = Label(main_window, \n",
    "                 text = \"Welcome to Python\" )\n",
    "\n",
    "# attaching default label to main window\n",
    "my_label.pack()\n",
    "\n",
    "# creating a themed label\n",
    "my_label2 = ttk.Label(main_window, \n",
    "                 text = \"Welcome to Python2\" )\n",
    "\n",
    "# attaching themed label to main window\n",
    "my_label2.pack()\n",
    "\n",
    "# creating a themed button\n",
    "my_button = ttk.Button(main_window,\n",
    "                      text = \"Click here\",\n",
    "                      command = my_func\n",
    "                      )\n",
    "\n",
    "# attaching themed button to main window\n",
    "my_button.pack()\n",
    "\n",
    "main_window.mainloop()"
   ]
  },
  {
   "cell_type": "code",
   "execution_count": 88,
   "metadata": {},
   "outputs": [],
   "source": [
    "# importing tkinter\n",
    "from tkinter import *\n",
    "\n",
    "# importing themed tkinter\n",
    "from tkinter import ttk\n",
    "    \n",
    "# creating instance of Tk class\n",
    "main_window = Tk()\n",
    "\n",
    "# setting window dimensions\n",
    "main_window.geometry(\"500x500+100+200\")\n",
    "\n",
    "# creating variable that contains text from the text field\n",
    "my_text = StringVar()\n",
    "\n",
    "# creating a text field using Entry class\n",
    "text_field = ttk.Entry(main_window, textvariable = my_text)\n",
    "\n",
    "# addding the text field to the main window\n",
    "text_field.pack(fill='x', expand=True)\n",
    "\n",
    "def my_func():\n",
    "    \n",
    "    text = \"\"\n",
    "    if my_text.get() == \"\":\n",
    "        text = \"Enter something in the text box\"\n",
    "    else:\n",
    "        text = \"You entered:\" + my_text.get()\n",
    "\n",
    "    # creating a message box\n",
    "    showinfo(title = \"Information\", message = text)\n",
    "\n",
    "\n",
    "# creating a themed button\n",
    "my_button = ttk.Button(main_window,\n",
    "                      text = \"Click here\",\n",
    "                      command = my_func\n",
    "                      )\n",
    "\n",
    "# attaching themed button to main window\n",
    "my_button.pack(fill='x', expand=True)\n",
    "\n",
    "main_window.mainloop()"
   ]
  },
  {
   "cell_type": "markdown",
   "metadata": {},
   "source": [
    "## 12.3. Creating a Layout "
   ]
  },
  {
   "cell_type": "code",
   "execution_count": 4,
   "metadata": {},
   "outputs": [],
   "source": [
    "# importing tkinter\n",
    "from tkinter import *\n",
    "\n",
    "# importing themed tkinter\n",
    "from tkinter import ttk\n",
    "\n",
    "    \n",
    "# creating instance of Tk class\n",
    "main_window = Tk()\n",
    "\n",
    "# setting window dimensions\n",
    "main_window.geometry(\"500x500+100+200\")\n",
    "\n",
    "# configure the grid\n",
    "main_window.columnconfigure(0, weight=1)\n",
    "main_window.columnconfigure(1, weight=1)\n",
    "main_window.columnconfigure(2, weight=1)\n",
    "\n",
    "# creating the default label \n",
    "my_label = Label(main_window, \n",
    "                 text = \"Welcome to Python\" )\n",
    "\n",
    "# attaching label to first row and first column\n",
    "my_label.grid(column=0, row=0, padx=5, pady=5)\n",
    "\n",
    "# creating a themed label\n",
    "my_label2 = ttk.Label(main_window, \n",
    "                 text = \"Welcome to Python2\" )\n",
    "\n",
    "# attaching label to first row and second column\n",
    "my_label2.grid(column=1, row=0, padx=5, pady=5)\n",
    "\n",
    "# creating a themed button\n",
    "my_button = ttk.Button(main_window,\n",
    "                      text = \"Click here\"\n",
    "                      )\n",
    "\n",
    "# attaching a button to first row and third  column\n",
    "my_button.grid(column=2, row=0, padx=5, pady=5)\n",
    "\n",
    "\n",
    "# creating a themed button\n",
    "my_button2 = ttk.Button(main_window,\n",
    "                      text = \"This button spans three columns and will be centered horizontally\",\n",
    "                      )\n",
    "\n",
    "# attaching a button to first row and third  column\n",
    "my_button2.grid(column=0, row=1, columnspan = 3, padx=5, pady=5)\n",
    "\n",
    "\n",
    "\n",
    "main_window.mainloop()"
   ]
  },
  {
   "cell_type": "markdown",
   "metadata": {},
   "source": [
    "## Excercise 12.1"
   ]
  },
  {
   "cell_type": "markdown",
   "metadata": {},
   "source": [
    "**Question 1:**\n",
    "\n",
    "You need to call the `mainloop()` method from the object of the Tk class in tkinter because:\n",
    "\n",
    "A. It opens the main GUI window\n",
    "\n",
    "B. It keeps the GUI window open\n",
    "\n",
    "C. It allows users to interact with widgets\n",
    "\n",
    "D. None of the above\n",
    "\n",
    "**Answer: B**\n",
    "    \n",
    "\n",
    "**Question 2:**\n",
    "\n",
    "Which method is used to display a message box in tkinter?\n",
    "\n",
    "A. showmessage()\n",
    "\n",
    "B. displaymessage()\n",
    "\n",
    "C. showinfo()\n",
    "\n",
    "D. displayinfo()\n",
    "\n",
    "**Answer: C**\n",
    "    \n",
    "    \n",
    "**Question 3:**\n",
    "\n",
    "What is the distance of the tkinter window drawn using the geometry method `geometry(\"500x500+100+300\")` from the top of the screen?\n",
    "\n",
    "A. 500\n",
    "\n",
    "B. 100\n",
    "\n",
    "C. 200\n",
    "\n",
    "D. 300\n",
    "    \n",
    "**Answer: D**"
   ]
  },
  {
   "cell_type": "markdown",
   "metadata": {},
   "source": [
    "## Excercise 12.2"
   ]
  },
  {
   "cell_type": "markdown",
   "metadata": {},
   "source": [
    "Create a simple login form which looks like the following image. When you click the `Login to your account` button, the email should be displayed in a message box."
   ]
  },
  {
   "cell_type": "markdown",
   "metadata": {},
   "source": [
    "**Solution:**"
   ]
  },
  {
   "cell_type": "code",
   "execution_count": null,
   "metadata": {},
   "outputs": [],
   "source": [
    "from tkinter import *\n",
    "from tkinter import ttk\n",
    "\n",
    "\n",
    "main_window = Tk()\n",
    "\n",
    "\n",
    "main_window.columnconfigure(0, weight=1)\n",
    "main_window.columnconfigure(1, weight=1)\n",
    "\n",
    "\n",
    "email_label = ttk.Label(main_window,  text = \"Email:\" )\n",
    "email_label.grid(column=0, row=0, padx=5, pady=5)\n",
    "\n",
    "\n",
    "email_text = StringVar()\n",
    "email_field = ttk.Entry(main_window, textvariable = email_text)\n",
    "email_field.grid(column=1, row=0, padx=5, pady=5)\n",
    "\n",
    "\n",
    "pass_label = ttk.Label(main_window,  text = \"Password:\" )\n",
    "pass_label.grid(column=0, row=1, padx=5, pady=5)\n",
    "\n",
    "\n",
    "pass_text = StringVar()\n",
    "pass_field = ttk.Entry(main_window, textvariable = pass_text)\n",
    "pass_field.grid(column=1, row=1, padx=5, pady=5)\n",
    "\n",
    "\n",
    "def my_func():\n",
    "    \n",
    "    text = \"\"\n",
    "    if email_text.get() == \"\":\n",
    "        text = \"Enter your email first\"\n",
    "    else:\n",
    "        text = \"Your email is:\" + email_text.get()\n",
    "\n",
    "    showinfo(title = \"Information\", message = text)\n",
    "    \n",
    "\n",
    "# creating a themed button\n",
    "my_button2 = ttk.Button(main_window,\n",
    "                      text = \"Login to your account\",\n",
    "                      command = my_func\n",
    "                      )\n",
    "\n",
    "# attaching a button to first row and third  column\n",
    "my_button2.grid(column=0, row=2, columnspan = 2, padx=5, pady=5)\n",
    "\n",
    "\n",
    "\n",
    "main_window.mainloop()"
   ]
  },
  {
   "cell_type": "code",
   "execution_count": null,
   "metadata": {},
   "outputs": [],
   "source": []
  }
 ],
 "metadata": {
  "kernelspec": {
   "display_name": "Python 3",
   "language": "python",
   "name": "python3"
  },
  "language_info": {
   "codemirror_mode": {
    "name": "ipython",
    "version": 3
   },
   "file_extension": ".py",
   "mimetype": "text/x-python",
   "name": "python",
   "nbconvert_exporter": "python",
   "pygments_lexer": "ipython3",
   "version": "3.8.3"
  }
 },
 "nbformat": 4,
 "nbformat_minor": 4
}
