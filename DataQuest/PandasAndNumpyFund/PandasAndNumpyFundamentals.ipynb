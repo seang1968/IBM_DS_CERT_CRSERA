{
 "cells": [
  {
   "cell_type": "markdown",
   "id": "7f53391b-947e-43e8-9f02-e247cf2af092",
   "metadata": {},
   "source": [
    "<H1><a href=\"https://app.dataquest.io/course/pandas-fundamentals\">Pandas And Numpy Fundamentals</a></H1>"
   ]
  },
  {
   "cell_type": "markdown",
   "id": "9d0155c6-3f9f-48b3-9b1e-947b4c342ab4",
   "metadata": {},
   "source": [
    "## Table of Contents"
   ]
  },
  {
   "cell_type": "markdown",
   "id": "c9063a85-68b4-4561-a918-66d1b7020f3a",
   "metadata": {},
   "source": [
    "<H2><a href=\"IntroductionToNumpy.ipynb\">Introduction To Numpy</a></H2>"
   ]
  }
 ],
 "metadata": {
  "kernelspec": {
   "display_name": "Python 3 (ipykernel)",
   "language": "python",
   "name": "python3"
  },
  "language_info": {
   "codemirror_mode": {
    "name": "ipython",
    "version": 3
   },
   "file_extension": ".py",
   "mimetype": "text/x-python",
   "name": "python",
   "nbconvert_exporter": "python",
   "pygments_lexer": "ipython3",
   "version": "3.9.4"
  }
 },
 "nbformat": 4,
 "nbformat_minor": 5
}
