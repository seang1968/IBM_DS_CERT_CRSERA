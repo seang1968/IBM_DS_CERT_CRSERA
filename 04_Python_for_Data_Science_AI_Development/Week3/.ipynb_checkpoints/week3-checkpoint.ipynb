{
 "cells": [
  {
   "cell_type": "code",
   "execution_count": null,
   "id": "71226375-5e2e-429c-b1eb-27619027bc78",
   "metadata": {},
   "outputs": [],
   "source": []
  },
  {
   "cell_type": "code",
   "execution_count": null,
   "id": "c012d243-a0d0-4b2d-a025-6148ce0587ed",
   "metadata": {},
   "outputs": [],
   "source": []
  },
  {
   "cell_type": "code",
   "execution_count": null,
   "id": "d3b512e4-70d4-44d0-9862-482bf7e90e72",
   "metadata": {},
   "outputs": [],
   "source": []
  },
  {
   "cell_type": "code",
   "execution_count": null,
   "id": "778555f0-f3d6-4525-a3b7-19fffd5defd9",
   "metadata": {},
   "outputs": [],
   "source": []
  },
  {
   "cell_type": "code",
   "execution_count": null,
   "id": "3e7b442d-245e-4470-957c-12e31a82c259",
   "metadata": {},
   "outputs": [],
   "source": []
  },
  {
   "cell_type": "code",
   "execution_count": null,
   "id": "1f27f008-9057-4cc2-a7d8-c730139599da",
   "metadata": {},
   "outputs": [],
   "source": []
  },
  {
   "cell_type": "code",
   "execution_count": null,
   "id": "42606bd6-883b-4a58-91b0-be483e728678",
   "metadata": {},
   "outputs": [],
   "source": []
  },
  {
   "cell_type": "code",
   "execution_count": null,
   "id": "7c4d9cb4-9971-43e8-9393-d7e3adbc48ed",
   "metadata": {},
   "outputs": [],
   "source": []
  },
  {
   "cell_type": "code",
   "execution_count": null,
   "id": "b64fe07c-6c05-401d-b939-2127998d12e8",
   "metadata": {},
   "outputs": [],
   "source": []
  },
  {
   "cell_type": "code",
   "execution_count": null,
   "id": "434ea2fa-9c1a-4b25-85ba-6d9461415621",
   "metadata": {},
   "outputs": [],
   "source": []
  },
  {
   "cell_type": "code",
   "execution_count": null,
   "id": "31b6c188-643d-474d-a0d9-ee8d215c3769",
   "metadata": {},
   "outputs": [],
   "source": []
  },
  {
   "cell_type": "code",
   "execution_count": null,
   "id": "acc0b44b-1ed9-4728-8f35-67ef02ffe5d4",
   "metadata": {},
   "outputs": [],
   "source": []
  },
  {
   "cell_type": "markdown",
   "id": "466b29db-186b-46aa-8488-8b5f6f8778b7",
   "metadata": {},
   "source": [
    "<H1>Study Weeks</H1>\n",
    "<ul>\n",
    "    <li><a href=\"../Week1/week1.ipynb\">week1</a></li>\n",
    "    <li><a href=\"../Week2/week2.ipynb\">week2</a></li>\n",
    "    <li><a href=\"../Week4/week4.ipynb\">week4</a></li>\n",
    "    <li><a href=\"../Week5/week5.ipynb\">week5</a></li>\n",
    "</ul>\n"
   ]
  },
  {
   "cell_type": "code",
   "execution_count": null,
   "id": "fd9b020a-6ab1-4418-8519-acc18118a623",
   "metadata": {},
   "outputs": [],
   "source": []
  }
 ],
 "metadata": {
  "kernelspec": {
   "display_name": "Python 3 (ipykernel)",
   "language": "python",
   "name": "python3"
  },
  "language_info": {
   "codemirror_mode": {
    "name": "ipython",
    "version": 3
   },
   "file_extension": ".py",
   "mimetype": "text/x-python",
   "name": "python",
   "nbconvert_exporter": "python",
   "pygments_lexer": "ipython3",
   "version": "3.9.4"
  }
 },
 "nbformat": 4,
 "nbformat_minor": 5
}
